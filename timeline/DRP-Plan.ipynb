{
 "cells": [
  {
   "cell_type": "code",
   "execution_count": 1,
   "metadata": {},
   "outputs": [],
   "source": [
    "import plotly.figure_factory as ff\n",
    "import pandas as pd\n",
    "import random\n",
    "import plotly.graph_objects as go"
   ]
  },
  {
   "cell_type": "code",
   "execution_count": 8,
   "metadata": {},
   "outputs": [],
   "source": [
    "catColors = dict(Project='rgb(255, 51, 0)', \n",
    "                 Hardware='rgb(230, 230, 0)', \n",
    "                 Sky='rgb(51, 153, 255)', \n",
    "                 PSF='rgb(102, 0, 255)', \n",
    "                 WavelengthCalibration='rgb(153, 102, 255)', \n",
    "                 Calibration='rgb(204, 51, 255)',\n",
    "                 Infra='rgb(153, 0, 153)')"
   ]
  },
  {
   "cell_type": "code",
   "execution_count": 17,
   "metadata": {},
   "outputs": [
    {
     "data": {
      "application/vnd.plotly.v1+json": {
       "config": {
        "plotlyServerURL": "https://plotly.com"
       },
       "data": [
        {
         "fill": "toself",
         "fillcolor": "rgb(102, 0, 255)",
         "hoverinfo": "name",
         "legendgroup": "rgb(102, 0, 255)",
         "mode": "none",
         "name": "PSF",
         "type": "scatter",
         "x": [
          "2020-09-01",
          "2020-10-01",
          "2020-10-01",
          "2020-09-01",
          "2020-09-01",
          "2019-06-1",
          "2020-08-01",
          "2020-08-01",
          "2019-06-1",
          "2019-06-1",
          "2019-09-01",
          "2021-06-01",
          "2021-06-01",
          "2019-09-01",
          "2019-09-01",
          "2020-10-01",
          "2021-01-30",
          "2021-01-30",
          "2020-10-01",
          "2020-10-01",
          "2020-05-01",
          "2020-08-30",
          "2020-08-30",
          "2020-05-01"
         ],
         "y": [
          28.9,
          28.9,
          29.1,
          29.1,
          null,
          29.9,
          29.9,
          30.1,
          30.1,
          null,
          30.9,
          30.9,
          31.1,
          31.1,
          null,
          31.9,
          31.9,
          32.1,
          32.1,
          null,
          32.9,
          32.9,
          33.1,
          33.1
         ]
        },
        {
         "fill": "toself",
         "fillcolor": "rgb(153, 0, 153)",
         "hoverinfo": "name",
         "legendgroup": "rgb(153, 0, 153)",
         "mode": "none",
         "name": "Infra",
         "type": "scatter",
         "x": [
          "2020-09-01",
          "2020-10-01",
          "2020-10-01",
          "2020-09-01",
          "2020-09-01",
          "2020-02-01",
          "2020-08-30",
          "2020-08-30",
          "2020-02-01",
          "2020-02-01",
          "2020-05-01",
          "2020-06-01",
          "2020-06-01",
          "2020-05-01"
         ],
         "y": [
          15.9,
          15.9,
          16.1,
          16.1,
          null,
          16.9,
          16.9,
          17.1,
          17.1,
          null,
          17.9,
          17.9,
          18.1,
          18.1
         ]
        },
        {
         "fill": "toself",
         "fillcolor": "rgb(153, 102, 255)",
         "hoverinfo": "name",
         "legendgroup": "rgb(153, 102, 255)",
         "mode": "none",
         "name": "WavelengthCalibration",
         "type": "scatter",
         "x": [
          "2021-04-01",
          "2021-08-01",
          "2021-08-01",
          "2021-04-01",
          "2021-04-01",
          "2020-06-01",
          "2020-12-01",
          "2020-12-01",
          "2020-06-01"
         ],
         "y": [
          26.9,
          26.9,
          27.1,
          27.1,
          null,
          27.9,
          27.9,
          28.1,
          28.1
         ]
        },
        {
         "fill": "toself",
         "fillcolor": "rgb(204, 51, 255)",
         "hoverinfo": "name",
         "legendgroup": "rgb(204, 51, 255)",
         "mode": "none",
         "name": "Calibration",
         "type": "scatter",
         "x": [
          "2021-04-01",
          "2021-12-31",
          "2021-12-31",
          "2021-04-01",
          "2021-04-01",
          "2021-01-01",
          "2021-06-01",
          "2021-06-01",
          "2021-01-01",
          "2021-01-01",
          "2020-02-01",
          "2021-06-01",
          "2021-06-01",
          "2020-02-01",
          "2020-02-01",
          "2020-08-01",
          "2021-08-01",
          "2021-08-01",
          "2020-08-01"
         ],
         "y": [
          18.9,
          18.9,
          19.1,
          19.1,
          null,
          19.9,
          19.9,
          20.1,
          20.1,
          null,
          20.9,
          20.9,
          21.1,
          21.1,
          null,
          21.9,
          21.9,
          22.1,
          22.1
         ]
        },
        {
         "fill": "toself",
         "fillcolor": "rgb(230, 230, 0)",
         "hoverinfo": "name",
         "legendgroup": "rgb(230, 230, 0)",
         "mode": "none",
         "name": "Hardware",
         "type": "scatter",
         "x": [
          "2020-12-01",
          "2025-01-01",
          "2025-01-01",
          "2020-12-01",
          "2020-12-01",
          "2021-11-01",
          "2021-12-01",
          "2021-12-01",
          "2021-11-01",
          "2021-11-01",
          "2021-06-01",
          "2021-11-01",
          "2021-11-01",
          "2021-06-01",
          "2021-06-01",
          "2021-06-01",
          "2025-01-01",
          "2025-01-01",
          "2021-06-01",
          "2021-06-01",
          "2020-10-01",
          "2021-06-01",
          "2021-06-01",
          "2020-10-01",
          "2020-10-01",
          "2020-09-01",
          "2020-10-01",
          "2020-10-01",
          "2020-09-01",
          "2020-09-01",
          "2020-10-01",
          "2021-06-01",
          "2021-06-01",
          "2020-10-01",
          "2020-10-01",
          "2020-12-01",
          "2025-01-01",
          "2025-01-01",
          "2020-12-01",
          "2020-12-01",
          "2020-05-01",
          "2020-12-31",
          "2020-12-31",
          "2020-05-01",
          "2020-05-01",
          "2019-12-01",
          "2020-06-02",
          "2020-06-02",
          "2019-12-01"
         ],
         "y": [
          -0.1,
          -0.1,
          0.1,
          0.1,
          null,
          0.9,
          0.9,
          1.1,
          1.1,
          null,
          1.9,
          1.9,
          2.1,
          2.1,
          null,
          2.9,
          2.9,
          3.1,
          3.1,
          null,
          3.9,
          3.9,
          4.1,
          4.1,
          null,
          4.9,
          4.9,
          5.1,
          5.1,
          null,
          5.9,
          5.9,
          6.1,
          6.1,
          null,
          6.9,
          6.9,
          7.1,
          7.1,
          null,
          7.9,
          7.9,
          8.1,
          8.1,
          null,
          8.9,
          8.9,
          9.1,
          9.1
         ]
        },
        {
         "fill": "toself",
         "fillcolor": "rgb(255, 51, 0)",
         "hoverinfo": "name",
         "legendgroup": "rgb(255, 51, 0)",
         "mode": "none",
         "name": "Project",
         "type": "scatter",
         "x": [
          "2023-02-01",
          "2025-01-01",
          "2025-01-01",
          "2023-02-01",
          "2023-02-01",
          "2022-08-01",
          "2022-09-01",
          "2022-09-01",
          "2022-08-01",
          "2022-08-01",
          "2022-10-01",
          "2022-10-01",
          "2022-10-01",
          "2022-10-01",
          "2022-10-01",
          "2022-04-01",
          "2022-05-01",
          "2022-05-01",
          "2022-04-01",
          "2022-04-01",
          "2021-06-01",
          "2023-01-30",
          "2023-01-30",
          "2021-06-01",
          "2021-06-01",
          "2021-02-01",
          "2025-01-01",
          "2025-01-01",
          "2021-02-01"
         ],
         "y": [
          9.9,
          9.9,
          10.1,
          10.1,
          null,
          10.9,
          10.9,
          11.1,
          11.1,
          null,
          11.9,
          11.9,
          12.1,
          12.1,
          null,
          12.9,
          12.9,
          13.1,
          13.1,
          null,
          13.9,
          13.9,
          14.1,
          14.1,
          null,
          14.9,
          14.9,
          15.1,
          15.1
         ]
        },
        {
         "fill": "toself",
         "fillcolor": "rgb(51, 153, 255)",
         "hoverinfo": "name",
         "legendgroup": "rgb(51, 153, 255)",
         "mode": "none",
         "name": "Sky",
         "type": "scatter",
         "x": [
          "2021-02-01",
          "2024-01-01",
          "2024-01-01",
          "2021-02-01",
          "2021-02-01",
          "2020-09-01",
          "2021-04-01",
          "2021-04-01",
          "2020-09-01",
          "2020-09-01",
          "2020-09-01",
          "2020-12-31",
          "2020-12-31",
          "2020-09-01",
          "2020-09-01",
          "2019-09-01",
          "2019-12-31",
          "2019-12-31",
          "2019-09-01"
         ],
         "y": [
          22.9,
          22.9,
          23.1,
          23.1,
          null,
          23.9,
          23.9,
          24.1,
          24.1,
          null,
          24.9,
          24.9,
          25.1,
          25.1,
          null,
          25.9,
          25.9,
          26.1,
          26.1
         ]
        },
        {
         "legendgroup": "rgb(102, 0, 255)",
         "marker": {
          "color": "rgb(102, 0, 255)",
          "opacity": 0,
          "size": 1
         },
         "mode": "markers",
         "name": "",
         "showlegend": false,
         "text": [
          null,
          null,
          null,
          null,
          null,
          null,
          null,
          null,
          null,
          null
         ],
         "type": "scatter",
         "x": [
          "2020-09-01",
          "2020-10-01",
          "2019-06-1",
          "2020-08-01",
          "2019-09-01",
          "2021-06-01",
          "2020-10-01",
          "2021-01-30",
          "2020-05-01",
          "2020-08-30"
         ],
         "y": [
          29,
          29,
          30,
          30,
          31,
          31,
          32,
          32,
          33,
          33
         ]
        },
        {
         "legendgroup": "rgb(153, 0, 153)",
         "marker": {
          "color": "rgb(153, 0, 153)",
          "opacity": 0,
          "size": 1
         },
         "mode": "markers",
         "name": "",
         "showlegend": false,
         "text": [
          null,
          null,
          null,
          null,
          null,
          null
         ],
         "type": "scatter",
         "x": [
          "2020-09-01",
          "2020-10-01",
          "2020-02-01",
          "2020-08-30",
          "2020-05-01",
          "2020-06-01"
         ],
         "y": [
          16,
          16,
          17,
          17,
          18,
          18
         ]
        },
        {
         "legendgroup": "rgb(153, 102, 255)",
         "marker": {
          "color": "rgb(153, 102, 255)",
          "opacity": 0,
          "size": 1
         },
         "mode": "markers",
         "name": "",
         "showlegend": false,
         "text": [
          null,
          null,
          null,
          null
         ],
         "type": "scatter",
         "x": [
          "2021-04-01",
          "2021-08-01",
          "2020-06-01",
          "2020-12-01"
         ],
         "y": [
          27,
          27,
          28,
          28
         ]
        },
        {
         "legendgroup": "rgb(204, 51, 255)",
         "marker": {
          "color": "rgb(204, 51, 255)",
          "opacity": 0,
          "size": 1
         },
         "mode": "markers",
         "name": "",
         "showlegend": false,
         "text": [
          null,
          null,
          null,
          null,
          null,
          null,
          null,
          null
         ],
         "type": "scatter",
         "x": [
          "2021-04-01",
          "2021-12-31",
          "2021-01-01",
          "2021-06-01",
          "2020-02-01",
          "2021-06-01",
          "2020-08-01",
          "2021-08-01"
         ],
         "y": [
          19,
          19,
          20,
          20,
          21,
          21,
          22,
          22
         ]
        },
        {
         "legendgroup": "rgb(230, 230, 0)",
         "marker": {
          "color": "rgb(230, 230, 0)",
          "opacity": 0,
          "size": 1
         },
         "mode": "markers",
         "name": "",
         "showlegend": false,
         "text": [
          null,
          null,
          null,
          null,
          null,
          null,
          null,
          null,
          null,
          null,
          null,
          null,
          null,
          null,
          null,
          null,
          null,
          null,
          null,
          null
         ],
         "type": "scatter",
         "x": [
          "2020-12-01",
          "2025-01-01",
          "2021-11-01",
          "2021-12-01",
          "2021-06-01",
          "2021-11-01",
          "2021-06-01",
          "2025-01-01",
          "2020-10-01",
          "2021-06-01",
          "2020-09-01",
          "2020-10-01",
          "2020-10-01",
          "2021-06-01",
          "2020-12-01",
          "2025-01-01",
          "2020-05-01",
          "2020-12-31",
          "2019-12-01",
          "2020-06-02"
         ],
         "y": [
          0,
          0,
          1,
          1,
          2,
          2,
          3,
          3,
          4,
          4,
          5,
          5,
          6,
          6,
          7,
          7,
          8,
          8,
          9,
          9
         ]
        },
        {
         "legendgroup": "rgb(255, 51, 0)",
         "marker": {
          "color": "rgb(255, 51, 0)",
          "opacity": 0,
          "size": 1
         },
         "mode": "markers",
         "name": "",
         "showlegend": false,
         "text": [
          null,
          null,
          null,
          null,
          null,
          null,
          null,
          null,
          null,
          null,
          null,
          null
         ],
         "type": "scatter",
         "x": [
          "2023-02-01",
          "2025-01-01",
          "2022-08-01",
          "2022-09-01",
          "2022-10-01",
          "2022-10-01",
          "2022-04-01",
          "2022-05-01",
          "2021-06-01",
          "2023-01-30",
          "2021-02-01",
          "2025-01-01"
         ],
         "y": [
          10,
          10,
          11,
          11,
          12,
          12,
          13,
          13,
          14,
          14,
          15,
          15
         ]
        },
        {
         "legendgroup": "rgb(51, 153, 255)",
         "marker": {
          "color": "rgb(51, 153, 255)",
          "opacity": 0,
          "size": 1
         },
         "mode": "markers",
         "name": "",
         "showlegend": false,
         "text": [
          null,
          null,
          null,
          null,
          null,
          null,
          null,
          null
         ],
         "type": "scatter",
         "x": [
          "2021-02-01",
          "2024-01-01",
          "2020-09-01",
          "2021-04-01",
          "2020-09-01",
          "2020-12-31",
          "2019-09-01",
          "2019-12-31"
         ],
         "y": [
          23,
          23,
          24,
          24,
          25,
          25,
          26,
          26
         ]
        },
        {
         "line": {
          "color": "gray",
          "width": 1
         },
         "mode": "lines+text",
         "name": "R+B+N",
         "showlegend": false,
         "textposition": "bottom center",
         "type": "scatter",
         "x": [
          "2020-10-01",
          "2020-10-01"
         ],
         "y": [
          -1,
          35
         ]
        },
        {
         "line": {
          "color": "gray",
          "width": 1
         },
         "mode": "lines+text",
         "name": "Comm Start",
         "showlegend": false,
         "textposition": "bottom center",
         "type": "scatter",
         "x": [
          "2021-06-01",
          "2021-06-01"
         ],
         "y": [
          -1,
          35
         ]
        },
        {
         "line": {
          "color": "gray",
          "width": 1
         },
         "mode": "lines+text",
         "name": "Comm End",
         "showlegend": false,
         "textposition": "bottom center",
         "type": "scatter",
         "x": [
          "2023-01-30",
          "2023-01-30"
         ],
         "y": [
          -1,
          35
         ]
        },
        {
         "line": {
          "color": "gray",
          "width": 1
         },
         "mode": "lines+text",
         "name": "Call for SSP",
         "showlegend": false,
         "textposition": "bottom center",
         "type": "scatter",
         "x": [
          "2022-04-01",
          "2022-04-01"
         ],
         "y": [
          -1,
          35
         ]
        }
       ],
       "layout": {
        "height": 600,
        "hovermode": "closest",
        "plot_bgcolor": "rgba(0,0,0, 0.1)",
        "showlegend": false,
        "template": {
         "data": {
          "bar": [
           {
            "error_x": {
             "color": "#2a3f5f"
            },
            "error_y": {
             "color": "#2a3f5f"
            },
            "marker": {
             "line": {
              "color": "#E5ECF6",
              "width": 0.5
             }
            },
            "type": "bar"
           }
          ],
          "barpolar": [
           {
            "marker": {
             "line": {
              "color": "#E5ECF6",
              "width": 0.5
             }
            },
            "type": "barpolar"
           }
          ],
          "carpet": [
           {
            "aaxis": {
             "endlinecolor": "#2a3f5f",
             "gridcolor": "white",
             "linecolor": "white",
             "minorgridcolor": "white",
             "startlinecolor": "#2a3f5f"
            },
            "baxis": {
             "endlinecolor": "#2a3f5f",
             "gridcolor": "white",
             "linecolor": "white",
             "minorgridcolor": "white",
             "startlinecolor": "#2a3f5f"
            },
            "type": "carpet"
           }
          ],
          "choropleth": [
           {
            "colorbar": {
             "outlinewidth": 0,
             "ticks": ""
            },
            "type": "choropleth"
           }
          ],
          "contour": [
           {
            "colorbar": {
             "outlinewidth": 0,
             "ticks": ""
            },
            "colorscale": [
             [
              0,
              "#0d0887"
             ],
             [
              0.1111111111111111,
              "#46039f"
             ],
             [
              0.2222222222222222,
              "#7201a8"
             ],
             [
              0.3333333333333333,
              "#9c179e"
             ],
             [
              0.4444444444444444,
              "#bd3786"
             ],
             [
              0.5555555555555556,
              "#d8576b"
             ],
             [
              0.6666666666666666,
              "#ed7953"
             ],
             [
              0.7777777777777778,
              "#fb9f3a"
             ],
             [
              0.8888888888888888,
              "#fdca26"
             ],
             [
              1,
              "#f0f921"
             ]
            ],
            "type": "contour"
           }
          ],
          "contourcarpet": [
           {
            "colorbar": {
             "outlinewidth": 0,
             "ticks": ""
            },
            "type": "contourcarpet"
           }
          ],
          "heatmap": [
           {
            "colorbar": {
             "outlinewidth": 0,
             "ticks": ""
            },
            "colorscale": [
             [
              0,
              "#0d0887"
             ],
             [
              0.1111111111111111,
              "#46039f"
             ],
             [
              0.2222222222222222,
              "#7201a8"
             ],
             [
              0.3333333333333333,
              "#9c179e"
             ],
             [
              0.4444444444444444,
              "#bd3786"
             ],
             [
              0.5555555555555556,
              "#d8576b"
             ],
             [
              0.6666666666666666,
              "#ed7953"
             ],
             [
              0.7777777777777778,
              "#fb9f3a"
             ],
             [
              0.8888888888888888,
              "#fdca26"
             ],
             [
              1,
              "#f0f921"
             ]
            ],
            "type": "heatmap"
           }
          ],
          "heatmapgl": [
           {
            "colorbar": {
             "outlinewidth": 0,
             "ticks": ""
            },
            "colorscale": [
             [
              0,
              "#0d0887"
             ],
             [
              0.1111111111111111,
              "#46039f"
             ],
             [
              0.2222222222222222,
              "#7201a8"
             ],
             [
              0.3333333333333333,
              "#9c179e"
             ],
             [
              0.4444444444444444,
              "#bd3786"
             ],
             [
              0.5555555555555556,
              "#d8576b"
             ],
             [
              0.6666666666666666,
              "#ed7953"
             ],
             [
              0.7777777777777778,
              "#fb9f3a"
             ],
             [
              0.8888888888888888,
              "#fdca26"
             ],
             [
              1,
              "#f0f921"
             ]
            ],
            "type": "heatmapgl"
           }
          ],
          "histogram": [
           {
            "marker": {
             "colorbar": {
              "outlinewidth": 0,
              "ticks": ""
             }
            },
            "type": "histogram"
           }
          ],
          "histogram2d": [
           {
            "colorbar": {
             "outlinewidth": 0,
             "ticks": ""
            },
            "colorscale": [
             [
              0,
              "#0d0887"
             ],
             [
              0.1111111111111111,
              "#46039f"
             ],
             [
              0.2222222222222222,
              "#7201a8"
             ],
             [
              0.3333333333333333,
              "#9c179e"
             ],
             [
              0.4444444444444444,
              "#bd3786"
             ],
             [
              0.5555555555555556,
              "#d8576b"
             ],
             [
              0.6666666666666666,
              "#ed7953"
             ],
             [
              0.7777777777777778,
              "#fb9f3a"
             ],
             [
              0.8888888888888888,
              "#fdca26"
             ],
             [
              1,
              "#f0f921"
             ]
            ],
            "type": "histogram2d"
           }
          ],
          "histogram2dcontour": [
           {
            "colorbar": {
             "outlinewidth": 0,
             "ticks": ""
            },
            "colorscale": [
             [
              0,
              "#0d0887"
             ],
             [
              0.1111111111111111,
              "#46039f"
             ],
             [
              0.2222222222222222,
              "#7201a8"
             ],
             [
              0.3333333333333333,
              "#9c179e"
             ],
             [
              0.4444444444444444,
              "#bd3786"
             ],
             [
              0.5555555555555556,
              "#d8576b"
             ],
             [
              0.6666666666666666,
              "#ed7953"
             ],
             [
              0.7777777777777778,
              "#fb9f3a"
             ],
             [
              0.8888888888888888,
              "#fdca26"
             ],
             [
              1,
              "#f0f921"
             ]
            ],
            "type": "histogram2dcontour"
           }
          ],
          "mesh3d": [
           {
            "colorbar": {
             "outlinewidth": 0,
             "ticks": ""
            },
            "type": "mesh3d"
           }
          ],
          "parcoords": [
           {
            "line": {
             "colorbar": {
              "outlinewidth": 0,
              "ticks": ""
             }
            },
            "type": "parcoords"
           }
          ],
          "pie": [
           {
            "automargin": true,
            "type": "pie"
           }
          ],
          "scatter": [
           {
            "marker": {
             "colorbar": {
              "outlinewidth": 0,
              "ticks": ""
             }
            },
            "type": "scatter"
           }
          ],
          "scatter3d": [
           {
            "line": {
             "colorbar": {
              "outlinewidth": 0,
              "ticks": ""
             }
            },
            "marker": {
             "colorbar": {
              "outlinewidth": 0,
              "ticks": ""
             }
            },
            "type": "scatter3d"
           }
          ],
          "scattercarpet": [
           {
            "marker": {
             "colorbar": {
              "outlinewidth": 0,
              "ticks": ""
             }
            },
            "type": "scattercarpet"
           }
          ],
          "scattergeo": [
           {
            "marker": {
             "colorbar": {
              "outlinewidth": 0,
              "ticks": ""
             }
            },
            "type": "scattergeo"
           }
          ],
          "scattergl": [
           {
            "marker": {
             "colorbar": {
              "outlinewidth": 0,
              "ticks": ""
             }
            },
            "type": "scattergl"
           }
          ],
          "scattermapbox": [
           {
            "marker": {
             "colorbar": {
              "outlinewidth": 0,
              "ticks": ""
             }
            },
            "type": "scattermapbox"
           }
          ],
          "scatterpolar": [
           {
            "marker": {
             "colorbar": {
              "outlinewidth": 0,
              "ticks": ""
             }
            },
            "type": "scatterpolar"
           }
          ],
          "scatterpolargl": [
           {
            "marker": {
             "colorbar": {
              "outlinewidth": 0,
              "ticks": ""
             }
            },
            "type": "scatterpolargl"
           }
          ],
          "scatterternary": [
           {
            "marker": {
             "colorbar": {
              "outlinewidth": 0,
              "ticks": ""
             }
            },
            "type": "scatterternary"
           }
          ],
          "surface": [
           {
            "colorbar": {
             "outlinewidth": 0,
             "ticks": ""
            },
            "colorscale": [
             [
              0,
              "#0d0887"
             ],
             [
              0.1111111111111111,
              "#46039f"
             ],
             [
              0.2222222222222222,
              "#7201a8"
             ],
             [
              0.3333333333333333,
              "#9c179e"
             ],
             [
              0.4444444444444444,
              "#bd3786"
             ],
             [
              0.5555555555555556,
              "#d8576b"
             ],
             [
              0.6666666666666666,
              "#ed7953"
             ],
             [
              0.7777777777777778,
              "#fb9f3a"
             ],
             [
              0.8888888888888888,
              "#fdca26"
             ],
             [
              1,
              "#f0f921"
             ]
            ],
            "type": "surface"
           }
          ],
          "table": [
           {
            "cells": {
             "fill": {
              "color": "#EBF0F8"
             },
             "line": {
              "color": "white"
             }
            },
            "header": {
             "fill": {
              "color": "#C8D4E3"
             },
             "line": {
              "color": "white"
             }
            },
            "type": "table"
           }
          ]
         },
         "layout": {
          "annotationdefaults": {
           "arrowcolor": "#2a3f5f",
           "arrowhead": 0,
           "arrowwidth": 1
          },
          "coloraxis": {
           "colorbar": {
            "outlinewidth": 0,
            "ticks": ""
           }
          },
          "colorscale": {
           "diverging": [
            [
             0,
             "#8e0152"
            ],
            [
             0.1,
             "#c51b7d"
            ],
            [
             0.2,
             "#de77ae"
            ],
            [
             0.3,
             "#f1b6da"
            ],
            [
             0.4,
             "#fde0ef"
            ],
            [
             0.5,
             "#f7f7f7"
            ],
            [
             0.6,
             "#e6f5d0"
            ],
            [
             0.7,
             "#b8e186"
            ],
            [
             0.8,
             "#7fbc41"
            ],
            [
             0.9,
             "#4d9221"
            ],
            [
             1,
             "#276419"
            ]
           ],
           "sequential": [
            [
             0,
             "#0d0887"
            ],
            [
             0.1111111111111111,
             "#46039f"
            ],
            [
             0.2222222222222222,
             "#7201a8"
            ],
            [
             0.3333333333333333,
             "#9c179e"
            ],
            [
             0.4444444444444444,
             "#bd3786"
            ],
            [
             0.5555555555555556,
             "#d8576b"
            ],
            [
             0.6666666666666666,
             "#ed7953"
            ],
            [
             0.7777777777777778,
             "#fb9f3a"
            ],
            [
             0.8888888888888888,
             "#fdca26"
            ],
            [
             1,
             "#f0f921"
            ]
           ],
           "sequentialminus": [
            [
             0,
             "#0d0887"
            ],
            [
             0.1111111111111111,
             "#46039f"
            ],
            [
             0.2222222222222222,
             "#7201a8"
            ],
            [
             0.3333333333333333,
             "#9c179e"
            ],
            [
             0.4444444444444444,
             "#bd3786"
            ],
            [
             0.5555555555555556,
             "#d8576b"
            ],
            [
             0.6666666666666666,
             "#ed7953"
            ],
            [
             0.7777777777777778,
             "#fb9f3a"
            ],
            [
             0.8888888888888888,
             "#fdca26"
            ],
            [
             1,
             "#f0f921"
            ]
           ]
          },
          "colorway": [
           "#636efa",
           "#EF553B",
           "#00cc96",
           "#ab63fa",
           "#FFA15A",
           "#19d3f3",
           "#FF6692",
           "#B6E880",
           "#FF97FF",
           "#FECB52"
          ],
          "font": {
           "color": "#2a3f5f"
          },
          "geo": {
           "bgcolor": "white",
           "lakecolor": "white",
           "landcolor": "#E5ECF6",
           "showlakes": true,
           "showland": true,
           "subunitcolor": "white"
          },
          "hoverlabel": {
           "align": "left"
          },
          "hovermode": "closest",
          "mapbox": {
           "style": "light"
          },
          "paper_bgcolor": "white",
          "plot_bgcolor": "#E5ECF6",
          "polar": {
           "angularaxis": {
            "gridcolor": "white",
            "linecolor": "white",
            "ticks": ""
           },
           "bgcolor": "#E5ECF6",
           "radialaxis": {
            "gridcolor": "white",
            "linecolor": "white",
            "ticks": ""
           }
          },
          "scene": {
           "xaxis": {
            "backgroundcolor": "#E5ECF6",
            "gridcolor": "white",
            "gridwidth": 2,
            "linecolor": "white",
            "showbackground": true,
            "ticks": "",
            "zerolinecolor": "white"
           },
           "yaxis": {
            "backgroundcolor": "#E5ECF6",
            "gridcolor": "white",
            "gridwidth": 2,
            "linecolor": "white",
            "showbackground": true,
            "ticks": "",
            "zerolinecolor": "white"
           },
           "zaxis": {
            "backgroundcolor": "#E5ECF6",
            "gridcolor": "white",
            "gridwidth": 2,
            "linecolor": "white",
            "showbackground": true,
            "ticks": "",
            "zerolinecolor": "white"
           }
          },
          "shapedefaults": {
           "line": {
            "color": "#2a3f5f"
           }
          },
          "ternary": {
           "aaxis": {
            "gridcolor": "white",
            "linecolor": "white",
            "ticks": ""
           },
           "baxis": {
            "gridcolor": "white",
            "linecolor": "white",
            "ticks": ""
           },
           "bgcolor": "#E5ECF6",
           "caxis": {
            "gridcolor": "white",
            "linecolor": "white",
            "ticks": ""
           }
          },
          "title": {
           "x": 0.05
          },
          "xaxis": {
           "automargin": true,
           "gridcolor": "white",
           "linecolor": "white",
           "ticks": "",
           "title": {
            "standoff": 15
           },
           "zerolinecolor": "white",
           "zerolinewidth": 2
          },
          "yaxis": {
           "automargin": true,
           "gridcolor": "white",
           "linecolor": "white",
           "ticks": "",
           "title": {
            "standoff": 15
           },
           "zerolinecolor": "white",
           "zerolinewidth": 2
          }
         }
        },
        "title": {
         "text": "DRP Plan"
        },
        "xaxis": {
         "rangeselector": {
          "buttons": [
           {
            "count": 7,
            "label": "1w",
            "step": "day",
            "stepmode": "backward"
           },
           {
            "count": 1,
            "label": "1m",
            "step": "month",
            "stepmode": "backward"
           },
           {
            "count": 6,
            "label": "6m",
            "step": "month",
            "stepmode": "backward"
           },
           {
            "count": 1,
            "label": "YTD",
            "step": "year",
            "stepmode": "todate"
           },
           {
            "count": 1,
            "label": "1y",
            "step": "year",
            "stepmode": "backward"
           },
           {
            "step": "all"
           }
          ]
         },
         "showgrid": true,
         "type": "date",
         "zeroline": false
        },
        "yaxis": {
         "autorange": false,
         "range": [
          -1,
          35
         ],
         "showgrid": false,
         "ticktext": [
          "PFI@Subaru",
          "SM4(B+R)@Subaru",
          "SM4(B+R)@LAM",
          "SM3(B+R+N)@Subaru",
          "SM3(B+R+N)@LAM",
          "NCU1@LAM",
          "SM3(B+R)@LAM",
          "SM2(B+R)@Subaru",
          "SM2(B+R)@LAM",
          "SM1(B+R)@Subaru",
          "Science Operations",
          "Readiness review of inst for science",
          "End of SSP Proposal Review",
          "Call for SSP",
          "Commissioning",
          "Sky exposures",
          "LSST gen3",
          "YAML pipeline config",
          "Arm merging (B+R/M+N)",
          "DCR",
          "CCD Crosstalk",
          "Flux Calibration",
          "H4RG modelling",
          "Improved sky subtraction",
          "OH line modelling",
          "Telluric Correction",
          "Initial sky subtraction",
          "Improved wavelength soln (< 1 km/s)",
          "Improved wavelength soln (< 5 km/s)",
          "Arc subtraction",
          "Arc line intensity modelling",
          "FRD modeling",
          "PSF modelling (N)",
          "PSF modelling (B+R)"
         ],
         "tickvals": [
          0,
          1,
          2,
          3,
          4,
          5,
          6,
          7,
          8,
          9,
          10,
          11,
          12,
          13,
          14,
          15,
          16,
          17,
          18,
          19,
          20,
          21,
          22,
          23,
          24,
          25,
          26,
          27,
          28,
          29,
          30,
          31,
          32,
          33
         ],
         "zeroline": false
        }
       }
      },
      "text/html": [
       "<div>\n",
       "        \n",
       "        \n",
       "            <div id=\"5350c724-00ca-4659-b269-e77a82f6591e\" class=\"plotly-graph-div\" style=\"height:600px; width:100%;\"></div>\n",
       "            <script type=\"text/javascript\">\n",
       "                require([\"plotly\"], function(Plotly) {\n",
       "                    window.PLOTLYENV=window.PLOTLYENV || {};\n",
       "                    \n",
       "                if (document.getElementById(\"5350c724-00ca-4659-b269-e77a82f6591e\")) {\n",
       "                    Plotly.newPlot(\n",
       "                        '5350c724-00ca-4659-b269-e77a82f6591e',\n",
       "                        [{\"fill\": \"toself\", \"fillcolor\": \"rgb(102, 0, 255)\", \"hoverinfo\": \"name\", \"legendgroup\": \"rgb(102, 0, 255)\", \"mode\": \"none\", \"name\": \"PSF\", \"type\": \"scatter\", \"x\": [\"2020-09-01\", \"2020-10-01\", \"2020-10-01\", \"2020-09-01\", \"2020-09-01\", \"2019-06-1\", \"2020-08-01\", \"2020-08-01\", \"2019-06-1\", \"2019-06-1\", \"2019-09-01\", \"2021-06-01\", \"2021-06-01\", \"2019-09-01\", \"2019-09-01\", \"2020-10-01\", \"2021-01-30\", \"2021-01-30\", \"2020-10-01\", \"2020-10-01\", \"2020-05-01\", \"2020-08-30\", \"2020-08-30\", \"2020-05-01\"], \"y\": [28.9, 28.9, 29.1, 29.1, null, 29.9, 29.9, 30.1, 30.1, null, 30.9, 30.9, 31.1, 31.1, null, 31.9, 31.9, 32.1, 32.1, null, 32.9, 32.9, 33.1, 33.1]}, {\"fill\": \"toself\", \"fillcolor\": \"rgb(153, 0, 153)\", \"hoverinfo\": \"name\", \"legendgroup\": \"rgb(153, 0, 153)\", \"mode\": \"none\", \"name\": \"Infra\", \"type\": \"scatter\", \"x\": [\"2020-09-01\", \"2020-10-01\", \"2020-10-01\", \"2020-09-01\", \"2020-09-01\", \"2020-02-01\", \"2020-08-30\", \"2020-08-30\", \"2020-02-01\", \"2020-02-01\", \"2020-05-01\", \"2020-06-01\", \"2020-06-01\", \"2020-05-01\"], \"y\": [15.9, 15.9, 16.1, 16.1, null, 16.9, 16.9, 17.1, 17.1, null, 17.9, 17.9, 18.1, 18.1]}, {\"fill\": \"toself\", \"fillcolor\": \"rgb(153, 102, 255)\", \"hoverinfo\": \"name\", \"legendgroup\": \"rgb(153, 102, 255)\", \"mode\": \"none\", \"name\": \"WavelengthCalibration\", \"type\": \"scatter\", \"x\": [\"2021-04-01\", \"2021-08-01\", \"2021-08-01\", \"2021-04-01\", \"2021-04-01\", \"2020-06-01\", \"2020-12-01\", \"2020-12-01\", \"2020-06-01\"], \"y\": [26.9, 26.9, 27.1, 27.1, null, 27.9, 27.9, 28.1, 28.1]}, {\"fill\": \"toself\", \"fillcolor\": \"rgb(204, 51, 255)\", \"hoverinfo\": \"name\", \"legendgroup\": \"rgb(204, 51, 255)\", \"mode\": \"none\", \"name\": \"Calibration\", \"type\": \"scatter\", \"x\": [\"2021-04-01\", \"2021-12-31\", \"2021-12-31\", \"2021-04-01\", \"2021-04-01\", \"2021-01-01\", \"2021-06-01\", \"2021-06-01\", \"2021-01-01\", \"2021-01-01\", \"2020-02-01\", \"2021-06-01\", \"2021-06-01\", \"2020-02-01\", \"2020-02-01\", \"2020-08-01\", \"2021-08-01\", \"2021-08-01\", \"2020-08-01\"], \"y\": [18.9, 18.9, 19.1, 19.1, null, 19.9, 19.9, 20.1, 20.1, null, 20.9, 20.9, 21.1, 21.1, null, 21.9, 21.9, 22.1, 22.1]}, {\"fill\": \"toself\", \"fillcolor\": \"rgb(230, 230, 0)\", \"hoverinfo\": \"name\", \"legendgroup\": \"rgb(230, 230, 0)\", \"mode\": \"none\", \"name\": \"Hardware\", \"type\": \"scatter\", \"x\": [\"2020-12-01\", \"2025-01-01\", \"2025-01-01\", \"2020-12-01\", \"2020-12-01\", \"2021-11-01\", \"2021-12-01\", \"2021-12-01\", \"2021-11-01\", \"2021-11-01\", \"2021-06-01\", \"2021-11-01\", \"2021-11-01\", \"2021-06-01\", \"2021-06-01\", \"2021-06-01\", \"2025-01-01\", \"2025-01-01\", \"2021-06-01\", \"2021-06-01\", \"2020-10-01\", \"2021-06-01\", \"2021-06-01\", \"2020-10-01\", \"2020-10-01\", \"2020-09-01\", \"2020-10-01\", \"2020-10-01\", \"2020-09-01\", \"2020-09-01\", \"2020-10-01\", \"2021-06-01\", \"2021-06-01\", \"2020-10-01\", \"2020-10-01\", \"2020-12-01\", \"2025-01-01\", \"2025-01-01\", \"2020-12-01\", \"2020-12-01\", \"2020-05-01\", \"2020-12-31\", \"2020-12-31\", \"2020-05-01\", \"2020-05-01\", \"2019-12-01\", \"2020-06-02\", \"2020-06-02\", \"2019-12-01\"], \"y\": [-0.1, -0.1, 0.1, 0.1, null, 0.9, 0.9, 1.1, 1.1, null, 1.9, 1.9, 2.1, 2.1, null, 2.9, 2.9, 3.1, 3.1, null, 3.9, 3.9, 4.1, 4.1, null, 4.9, 4.9, 5.1, 5.1, null, 5.9, 5.9, 6.1, 6.1, null, 6.9, 6.9, 7.1, 7.1, null, 7.9, 7.9, 8.1, 8.1, null, 8.9, 8.9, 9.1, 9.1]}, {\"fill\": \"toself\", \"fillcolor\": \"rgb(255, 51, 0)\", \"hoverinfo\": \"name\", \"legendgroup\": \"rgb(255, 51, 0)\", \"mode\": \"none\", \"name\": \"Project\", \"type\": \"scatter\", \"x\": [\"2023-02-01\", \"2025-01-01\", \"2025-01-01\", \"2023-02-01\", \"2023-02-01\", \"2022-08-01\", \"2022-09-01\", \"2022-09-01\", \"2022-08-01\", \"2022-08-01\", \"2022-10-01\", \"2022-10-01\", \"2022-10-01\", \"2022-10-01\", \"2022-10-01\", \"2022-04-01\", \"2022-05-01\", \"2022-05-01\", \"2022-04-01\", \"2022-04-01\", \"2021-06-01\", \"2023-01-30\", \"2023-01-30\", \"2021-06-01\", \"2021-06-01\", \"2021-02-01\", \"2025-01-01\", \"2025-01-01\", \"2021-02-01\"], \"y\": [9.9, 9.9, 10.1, 10.1, null, 10.9, 10.9, 11.1, 11.1, null, 11.9, 11.9, 12.1, 12.1, null, 12.9, 12.9, 13.1, 13.1, null, 13.9, 13.9, 14.1, 14.1, null, 14.9, 14.9, 15.1, 15.1]}, {\"fill\": \"toself\", \"fillcolor\": \"rgb(51, 153, 255)\", \"hoverinfo\": \"name\", \"legendgroup\": \"rgb(51, 153, 255)\", \"mode\": \"none\", \"name\": \"Sky\", \"type\": \"scatter\", \"x\": [\"2021-02-01\", \"2024-01-01\", \"2024-01-01\", \"2021-02-01\", \"2021-02-01\", \"2020-09-01\", \"2021-04-01\", \"2021-04-01\", \"2020-09-01\", \"2020-09-01\", \"2020-09-01\", \"2020-12-31\", \"2020-12-31\", \"2020-09-01\", \"2020-09-01\", \"2019-09-01\", \"2019-12-31\", \"2019-12-31\", \"2019-09-01\"], \"y\": [22.9, 22.9, 23.1, 23.1, null, 23.9, 23.9, 24.1, 24.1, null, 24.9, 24.9, 25.1, 25.1, null, 25.9, 25.9, 26.1, 26.1]}, {\"legendgroup\": \"rgb(102, 0, 255)\", \"marker\": {\"color\": \"rgb(102, 0, 255)\", \"opacity\": 0, \"size\": 1}, \"mode\": \"markers\", \"name\": \"\", \"showlegend\": false, \"text\": [null, null, null, null, null, null, null, null, null, null], \"type\": \"scatter\", \"x\": [\"2020-09-01\", \"2020-10-01\", \"2019-06-1\", \"2020-08-01\", \"2019-09-01\", \"2021-06-01\", \"2020-10-01\", \"2021-01-30\", \"2020-05-01\", \"2020-08-30\"], \"y\": [29, 29, 30, 30, 31, 31, 32, 32, 33, 33]}, {\"legendgroup\": \"rgb(153, 0, 153)\", \"marker\": {\"color\": \"rgb(153, 0, 153)\", \"opacity\": 0, \"size\": 1}, \"mode\": \"markers\", \"name\": \"\", \"showlegend\": false, \"text\": [null, null, null, null, null, null], \"type\": \"scatter\", \"x\": [\"2020-09-01\", \"2020-10-01\", \"2020-02-01\", \"2020-08-30\", \"2020-05-01\", \"2020-06-01\"], \"y\": [16, 16, 17, 17, 18, 18]}, {\"legendgroup\": \"rgb(153, 102, 255)\", \"marker\": {\"color\": \"rgb(153, 102, 255)\", \"opacity\": 0, \"size\": 1}, \"mode\": \"markers\", \"name\": \"\", \"showlegend\": false, \"text\": [null, null, null, null], \"type\": \"scatter\", \"x\": [\"2021-04-01\", \"2021-08-01\", \"2020-06-01\", \"2020-12-01\"], \"y\": [27, 27, 28, 28]}, {\"legendgroup\": \"rgb(204, 51, 255)\", \"marker\": {\"color\": \"rgb(204, 51, 255)\", \"opacity\": 0, \"size\": 1}, \"mode\": \"markers\", \"name\": \"\", \"showlegend\": false, \"text\": [null, null, null, null, null, null, null, null], \"type\": \"scatter\", \"x\": [\"2021-04-01\", \"2021-12-31\", \"2021-01-01\", \"2021-06-01\", \"2020-02-01\", \"2021-06-01\", \"2020-08-01\", \"2021-08-01\"], \"y\": [19, 19, 20, 20, 21, 21, 22, 22]}, {\"legendgroup\": \"rgb(230, 230, 0)\", \"marker\": {\"color\": \"rgb(230, 230, 0)\", \"opacity\": 0, \"size\": 1}, \"mode\": \"markers\", \"name\": \"\", \"showlegend\": false, \"text\": [null, null, null, null, null, null, null, null, null, null, null, null, null, null, null, null, null, null, null, null], \"type\": \"scatter\", \"x\": [\"2020-12-01\", \"2025-01-01\", \"2021-11-01\", \"2021-12-01\", \"2021-06-01\", \"2021-11-01\", \"2021-06-01\", \"2025-01-01\", \"2020-10-01\", \"2021-06-01\", \"2020-09-01\", \"2020-10-01\", \"2020-10-01\", \"2021-06-01\", \"2020-12-01\", \"2025-01-01\", \"2020-05-01\", \"2020-12-31\", \"2019-12-01\", \"2020-06-02\"], \"y\": [0, 0, 1, 1, 2, 2, 3, 3, 4, 4, 5, 5, 6, 6, 7, 7, 8, 8, 9, 9]}, {\"legendgroup\": \"rgb(255, 51, 0)\", \"marker\": {\"color\": \"rgb(255, 51, 0)\", \"opacity\": 0, \"size\": 1}, \"mode\": \"markers\", \"name\": \"\", \"showlegend\": false, \"text\": [null, null, null, null, null, null, null, null, null, null, null, null], \"type\": \"scatter\", \"x\": [\"2023-02-01\", \"2025-01-01\", \"2022-08-01\", \"2022-09-01\", \"2022-10-01\", \"2022-10-01\", \"2022-04-01\", \"2022-05-01\", \"2021-06-01\", \"2023-01-30\", \"2021-02-01\", \"2025-01-01\"], \"y\": [10, 10, 11, 11, 12, 12, 13, 13, 14, 14, 15, 15]}, {\"legendgroup\": \"rgb(51, 153, 255)\", \"marker\": {\"color\": \"rgb(51, 153, 255)\", \"opacity\": 0, \"size\": 1}, \"mode\": \"markers\", \"name\": \"\", \"showlegend\": false, \"text\": [null, null, null, null, null, null, null, null], \"type\": \"scatter\", \"x\": [\"2021-02-01\", \"2024-01-01\", \"2020-09-01\", \"2021-04-01\", \"2020-09-01\", \"2020-12-31\", \"2019-09-01\", \"2019-12-31\"], \"y\": [23, 23, 24, 24, 25, 25, 26, 26]}, {\"line\": {\"color\": \"gray\", \"width\": 1}, \"mode\": \"lines+text\", \"name\": \"R+B+N\", \"showlegend\": false, \"textposition\": \"bottom center\", \"type\": \"scatter\", \"x\": [\"2020-10-01\", \"2020-10-01\"], \"y\": [-1, 35]}, {\"line\": {\"color\": \"gray\", \"width\": 1}, \"mode\": \"lines+text\", \"name\": \"Comm Start\", \"showlegend\": false, \"textposition\": \"bottom center\", \"type\": \"scatter\", \"x\": [\"2021-06-01\", \"2021-06-01\"], \"y\": [-1, 35]}, {\"line\": {\"color\": \"gray\", \"width\": 1}, \"mode\": \"lines+text\", \"name\": \"Comm End\", \"showlegend\": false, \"textposition\": \"bottom center\", \"type\": \"scatter\", \"x\": [\"2023-01-30\", \"2023-01-30\"], \"y\": [-1, 35]}, {\"line\": {\"color\": \"gray\", \"width\": 1}, \"mode\": \"lines+text\", \"name\": \"Call for SSP\", \"showlegend\": false, \"textposition\": \"bottom center\", \"type\": \"scatter\", \"x\": [\"2022-04-01\", \"2022-04-01\"], \"y\": [-1, 35]}],\n",
       "                        {\"height\": 600, \"hovermode\": \"closest\", \"plot_bgcolor\": \"rgba(0,0,0, 0.1)\", \"showlegend\": false, \"template\": {\"data\": {\"bar\": [{\"error_x\": {\"color\": \"#2a3f5f\"}, \"error_y\": {\"color\": \"#2a3f5f\"}, \"marker\": {\"line\": {\"color\": \"#E5ECF6\", \"width\": 0.5}}, \"type\": \"bar\"}], \"barpolar\": [{\"marker\": {\"line\": {\"color\": \"#E5ECF6\", \"width\": 0.5}}, \"type\": \"barpolar\"}], \"carpet\": [{\"aaxis\": {\"endlinecolor\": \"#2a3f5f\", \"gridcolor\": \"white\", \"linecolor\": \"white\", \"minorgridcolor\": \"white\", \"startlinecolor\": \"#2a3f5f\"}, \"baxis\": {\"endlinecolor\": \"#2a3f5f\", \"gridcolor\": \"white\", \"linecolor\": \"white\", \"minorgridcolor\": \"white\", \"startlinecolor\": \"#2a3f5f\"}, \"type\": \"carpet\"}], \"choropleth\": [{\"colorbar\": {\"outlinewidth\": 0, \"ticks\": \"\"}, \"type\": \"choropleth\"}], \"contour\": [{\"colorbar\": {\"outlinewidth\": 0, \"ticks\": \"\"}, \"colorscale\": [[0.0, \"#0d0887\"], [0.1111111111111111, \"#46039f\"], [0.2222222222222222, \"#7201a8\"], [0.3333333333333333, \"#9c179e\"], [0.4444444444444444, \"#bd3786\"], [0.5555555555555556, \"#d8576b\"], [0.6666666666666666, \"#ed7953\"], [0.7777777777777778, \"#fb9f3a\"], [0.8888888888888888, \"#fdca26\"], [1.0, \"#f0f921\"]], \"type\": \"contour\"}], \"contourcarpet\": [{\"colorbar\": {\"outlinewidth\": 0, \"ticks\": \"\"}, \"type\": \"contourcarpet\"}], \"heatmap\": [{\"colorbar\": {\"outlinewidth\": 0, \"ticks\": \"\"}, \"colorscale\": [[0.0, \"#0d0887\"], [0.1111111111111111, \"#46039f\"], [0.2222222222222222, \"#7201a8\"], [0.3333333333333333, \"#9c179e\"], [0.4444444444444444, \"#bd3786\"], [0.5555555555555556, \"#d8576b\"], [0.6666666666666666, \"#ed7953\"], [0.7777777777777778, \"#fb9f3a\"], [0.8888888888888888, \"#fdca26\"], [1.0, \"#f0f921\"]], \"type\": \"heatmap\"}], \"heatmapgl\": [{\"colorbar\": {\"outlinewidth\": 0, \"ticks\": \"\"}, \"colorscale\": [[0.0, \"#0d0887\"], [0.1111111111111111, \"#46039f\"], [0.2222222222222222, \"#7201a8\"], [0.3333333333333333, \"#9c179e\"], [0.4444444444444444, \"#bd3786\"], [0.5555555555555556, \"#d8576b\"], [0.6666666666666666, \"#ed7953\"], [0.7777777777777778, \"#fb9f3a\"], [0.8888888888888888, \"#fdca26\"], [1.0, \"#f0f921\"]], \"type\": \"heatmapgl\"}], \"histogram\": [{\"marker\": {\"colorbar\": {\"outlinewidth\": 0, \"ticks\": \"\"}}, \"type\": \"histogram\"}], \"histogram2d\": [{\"colorbar\": {\"outlinewidth\": 0, \"ticks\": \"\"}, \"colorscale\": [[0.0, \"#0d0887\"], [0.1111111111111111, \"#46039f\"], [0.2222222222222222, \"#7201a8\"], [0.3333333333333333, \"#9c179e\"], [0.4444444444444444, \"#bd3786\"], [0.5555555555555556, \"#d8576b\"], [0.6666666666666666, \"#ed7953\"], [0.7777777777777778, \"#fb9f3a\"], [0.8888888888888888, \"#fdca26\"], [1.0, \"#f0f921\"]], \"type\": \"histogram2d\"}], \"histogram2dcontour\": [{\"colorbar\": {\"outlinewidth\": 0, \"ticks\": \"\"}, \"colorscale\": [[0.0, \"#0d0887\"], [0.1111111111111111, \"#46039f\"], [0.2222222222222222, \"#7201a8\"], [0.3333333333333333, \"#9c179e\"], [0.4444444444444444, \"#bd3786\"], [0.5555555555555556, \"#d8576b\"], [0.6666666666666666, \"#ed7953\"], [0.7777777777777778, \"#fb9f3a\"], [0.8888888888888888, \"#fdca26\"], [1.0, \"#f0f921\"]], \"type\": \"histogram2dcontour\"}], \"mesh3d\": [{\"colorbar\": {\"outlinewidth\": 0, \"ticks\": \"\"}, \"type\": \"mesh3d\"}], \"parcoords\": [{\"line\": {\"colorbar\": {\"outlinewidth\": 0, \"ticks\": \"\"}}, \"type\": \"parcoords\"}], \"pie\": [{\"automargin\": true, \"type\": \"pie\"}], \"scatter\": [{\"marker\": {\"colorbar\": {\"outlinewidth\": 0, \"ticks\": \"\"}}, \"type\": \"scatter\"}], \"scatter3d\": [{\"line\": {\"colorbar\": {\"outlinewidth\": 0, \"ticks\": \"\"}}, \"marker\": {\"colorbar\": {\"outlinewidth\": 0, \"ticks\": \"\"}}, \"type\": \"scatter3d\"}], \"scattercarpet\": [{\"marker\": {\"colorbar\": {\"outlinewidth\": 0, \"ticks\": \"\"}}, \"type\": \"scattercarpet\"}], \"scattergeo\": [{\"marker\": {\"colorbar\": {\"outlinewidth\": 0, \"ticks\": \"\"}}, \"type\": \"scattergeo\"}], \"scattergl\": [{\"marker\": {\"colorbar\": {\"outlinewidth\": 0, \"ticks\": \"\"}}, \"type\": \"scattergl\"}], \"scattermapbox\": [{\"marker\": {\"colorbar\": {\"outlinewidth\": 0, \"ticks\": \"\"}}, \"type\": \"scattermapbox\"}], \"scatterpolar\": [{\"marker\": {\"colorbar\": {\"outlinewidth\": 0, \"ticks\": \"\"}}, \"type\": \"scatterpolar\"}], \"scatterpolargl\": [{\"marker\": {\"colorbar\": {\"outlinewidth\": 0, \"ticks\": \"\"}}, \"type\": \"scatterpolargl\"}], \"scatterternary\": [{\"marker\": {\"colorbar\": {\"outlinewidth\": 0, \"ticks\": \"\"}}, \"type\": \"scatterternary\"}], \"surface\": [{\"colorbar\": {\"outlinewidth\": 0, \"ticks\": \"\"}, \"colorscale\": [[0.0, \"#0d0887\"], [0.1111111111111111, \"#46039f\"], [0.2222222222222222, \"#7201a8\"], [0.3333333333333333, \"#9c179e\"], [0.4444444444444444, \"#bd3786\"], [0.5555555555555556, \"#d8576b\"], [0.6666666666666666, \"#ed7953\"], [0.7777777777777778, \"#fb9f3a\"], [0.8888888888888888, \"#fdca26\"], [1.0, \"#f0f921\"]], \"type\": \"surface\"}], \"table\": [{\"cells\": {\"fill\": {\"color\": \"#EBF0F8\"}, \"line\": {\"color\": \"white\"}}, \"header\": {\"fill\": {\"color\": \"#C8D4E3\"}, \"line\": {\"color\": \"white\"}}, \"type\": \"table\"}]}, \"layout\": {\"annotationdefaults\": {\"arrowcolor\": \"#2a3f5f\", \"arrowhead\": 0, \"arrowwidth\": 1}, \"coloraxis\": {\"colorbar\": {\"outlinewidth\": 0, \"ticks\": \"\"}}, \"colorscale\": {\"diverging\": [[0, \"#8e0152\"], [0.1, \"#c51b7d\"], [0.2, \"#de77ae\"], [0.3, \"#f1b6da\"], [0.4, \"#fde0ef\"], [0.5, \"#f7f7f7\"], [0.6, \"#e6f5d0\"], [0.7, \"#b8e186\"], [0.8, \"#7fbc41\"], [0.9, \"#4d9221\"], [1, \"#276419\"]], \"sequential\": [[0.0, \"#0d0887\"], [0.1111111111111111, \"#46039f\"], [0.2222222222222222, \"#7201a8\"], [0.3333333333333333, \"#9c179e\"], [0.4444444444444444, \"#bd3786\"], [0.5555555555555556, \"#d8576b\"], [0.6666666666666666, \"#ed7953\"], [0.7777777777777778, \"#fb9f3a\"], [0.8888888888888888, \"#fdca26\"], [1.0, \"#f0f921\"]], \"sequentialminus\": [[0.0, \"#0d0887\"], [0.1111111111111111, \"#46039f\"], [0.2222222222222222, \"#7201a8\"], [0.3333333333333333, \"#9c179e\"], [0.4444444444444444, \"#bd3786\"], [0.5555555555555556, \"#d8576b\"], [0.6666666666666666, \"#ed7953\"], [0.7777777777777778, \"#fb9f3a\"], [0.8888888888888888, \"#fdca26\"], [1.0, \"#f0f921\"]]}, \"colorway\": [\"#636efa\", \"#EF553B\", \"#00cc96\", \"#ab63fa\", \"#FFA15A\", \"#19d3f3\", \"#FF6692\", \"#B6E880\", \"#FF97FF\", \"#FECB52\"], \"font\": {\"color\": \"#2a3f5f\"}, \"geo\": {\"bgcolor\": \"white\", \"lakecolor\": \"white\", \"landcolor\": \"#E5ECF6\", \"showlakes\": true, \"showland\": true, \"subunitcolor\": \"white\"}, \"hoverlabel\": {\"align\": \"left\"}, \"hovermode\": \"closest\", \"mapbox\": {\"style\": \"light\"}, \"paper_bgcolor\": \"white\", \"plot_bgcolor\": \"#E5ECF6\", \"polar\": {\"angularaxis\": {\"gridcolor\": \"white\", \"linecolor\": \"white\", \"ticks\": \"\"}, \"bgcolor\": \"#E5ECF6\", \"radialaxis\": {\"gridcolor\": \"white\", \"linecolor\": \"white\", \"ticks\": \"\"}}, \"scene\": {\"xaxis\": {\"backgroundcolor\": \"#E5ECF6\", \"gridcolor\": \"white\", \"gridwidth\": 2, \"linecolor\": \"white\", \"showbackground\": true, \"ticks\": \"\", \"zerolinecolor\": \"white\"}, \"yaxis\": {\"backgroundcolor\": \"#E5ECF6\", \"gridcolor\": \"white\", \"gridwidth\": 2, \"linecolor\": \"white\", \"showbackground\": true, \"ticks\": \"\", \"zerolinecolor\": \"white\"}, \"zaxis\": {\"backgroundcolor\": \"#E5ECF6\", \"gridcolor\": \"white\", \"gridwidth\": 2, \"linecolor\": \"white\", \"showbackground\": true, \"ticks\": \"\", \"zerolinecolor\": \"white\"}}, \"shapedefaults\": {\"line\": {\"color\": \"#2a3f5f\"}}, \"ternary\": {\"aaxis\": {\"gridcolor\": \"white\", \"linecolor\": \"white\", \"ticks\": \"\"}, \"baxis\": {\"gridcolor\": \"white\", \"linecolor\": \"white\", \"ticks\": \"\"}, \"bgcolor\": \"#E5ECF6\", \"caxis\": {\"gridcolor\": \"white\", \"linecolor\": \"white\", \"ticks\": \"\"}}, \"title\": {\"x\": 0.05}, \"xaxis\": {\"automargin\": true, \"gridcolor\": \"white\", \"linecolor\": \"white\", \"ticks\": \"\", \"title\": {\"standoff\": 15}, \"zerolinecolor\": \"white\", \"zerolinewidth\": 2}, \"yaxis\": {\"automargin\": true, \"gridcolor\": \"white\", \"linecolor\": \"white\", \"ticks\": \"\", \"title\": {\"standoff\": 15}, \"zerolinecolor\": \"white\", \"zerolinewidth\": 2}}}, \"title\": {\"text\": \"DRP Plan\"}, \"xaxis\": {\"rangeselector\": {\"buttons\": [{\"count\": 7, \"label\": \"1w\", \"step\": \"day\", \"stepmode\": \"backward\"}, {\"count\": 1, \"label\": \"1m\", \"step\": \"month\", \"stepmode\": \"backward\"}, {\"count\": 6, \"label\": \"6m\", \"step\": \"month\", \"stepmode\": \"backward\"}, {\"count\": 1, \"label\": \"YTD\", \"step\": \"year\", \"stepmode\": \"todate\"}, {\"count\": 1, \"label\": \"1y\", \"step\": \"year\", \"stepmode\": \"backward\"}, {\"step\": \"all\"}]}, \"showgrid\": true, \"type\": \"date\", \"zeroline\": false}, \"yaxis\": {\"autorange\": false, \"range\": [-1, 35], \"showgrid\": false, \"ticktext\": [\"PFI@Subaru\", \"SM4(B+R)@Subaru\", \"SM4(B+R)@LAM\", \"SM3(B+R+N)@Subaru\", \"SM3(B+R+N)@LAM\", \"NCU1@LAM\", \"SM3(B+R)@LAM\", \"SM2(B+R)@Subaru\", \"SM2(B+R)@LAM\", \"SM1(B+R)@Subaru\", \"Science Operations\", \"Readiness review of inst for science\", \"End of SSP Proposal Review\", \"Call for SSP\", \"Commissioning\", \"Sky exposures\", \"LSST gen3\", \"YAML pipeline config\", \"Arm merging (B+R/M+N)\", \"DCR\", \"CCD Crosstalk\", \"Flux Calibration\", \"H4RG modelling\", \"Improved sky subtraction\", \"OH line modelling\", \"Telluric Correction\", \"Initial sky subtraction\", \"Improved wavelength soln (< 1 km/s)\", \"Improved wavelength soln (< 5 km/s)\", \"Arc subtraction\", \"Arc line intensity modelling\", \"FRD modeling\", \"PSF modelling (N)\", \"PSF modelling (B+R)\"], \"tickvals\": [0, 1, 2, 3, 4, 5, 6, 7, 8, 9, 10, 11, 12, 13, 14, 15, 16, 17, 18, 19, 20, 21, 22, 23, 24, 25, 26, 27, 28, 29, 30, 31, 32, 33], \"zeroline\": false}},\n",
       "                        {\"responsive\": true}\n",
       "                    ).then(function(){\n",
       "                            \n",
       "var gd = document.getElementById('5350c724-00ca-4659-b269-e77a82f6591e');\n",
       "var x = new MutationObserver(function (mutations, observer) {{\n",
       "        var display = window.getComputedStyle(gd).display;\n",
       "        if (!display || display === 'none') {{\n",
       "            console.log([gd, 'removed!']);\n",
       "            Plotly.purge(gd);\n",
       "            observer.disconnect();\n",
       "        }}\n",
       "}});\n",
       "\n",
       "// Listen for the removal of the full notebook cells\n",
       "var notebookContainer = gd.closest('#notebook-container');\n",
       "if (notebookContainer) {{\n",
       "    x.observe(notebookContainer, {childList: true});\n",
       "}}\n",
       "\n",
       "// Listen for the clearing of the current output cell\n",
       "var outputEl = gd.closest('.output');\n",
       "if (outputEl) {{\n",
       "    x.observe(outputEl, {childList: true});\n",
       "}}\n",
       "\n",
       "                        })\n",
       "                };\n",
       "                });\n",
       "            </script>\n",
       "        </div>"
      ]
     },
     "metadata": {},
     "output_type": "display_data"
    }
   ],
   "source": [
    "df = pd.read_csv('drp-plan.csv').applymap(lambda x: x.strip() if type(x)==str else x).iloc[::-1]\n",
    "\n",
    "for cat in set(df['Category']):\n",
    "    if cat not in catColors:\n",
    "        print(f'category {cat} is not in color mapping') \n",
    "\n",
    "arms_full = df[df['Task'] == 'SM3(B+R+N)@LAM']['Start'].values[0]\n",
    "commissioning_start = df[df['Task'] == 'Commissioning']['Start'].values[0]\n",
    "commissioning_end = df[df['Task'] == 'Commissioning']['Finish'].values[0]\n",
    "ssp_end = df[df['Task'] == 'Call for SSP']['Start'].values[0]\n",
    "\n",
    "#print(f'{arms_full} {commissioning_start} {commissioning_end} {ssp_end}')\n",
    "\n",
    "fig = ff.create_gantt(df, colors=catColors, index_col='Category',\n",
    "                      show_colorbar=False, \n",
    "                      bar_width=0.1, \n",
    "                      showgrid_x=True, \n",
    "                      showgrid_y=False, \n",
    "                      title=\"DRP Plan\")\n",
    "fig.update_layout(plot_bgcolor='rgba(0,0,0, 0.1)')\n",
    "\n",
    "for mls_yr, mls_text in {arms_full: 'R+B+N', \n",
    "                 commissioning_start: 'Comm Start', \n",
    "                 commissioning_end : 'Comm End', \n",
    "                 ssp_end : 'Call for SSP'}.items():\n",
    "    fig.add_trace(\n",
    "        go.Scatter(\n",
    "            x = [mls_yr, mls_yr],\n",
    "            y = [-1, len(df.index) + 1],\n",
    "#            mode = \"lines\",\n",
    "            mode = \"lines+text\",\n",
    "            name = mls_text,\n",
    "            textposition = \"bottom center\",\n",
    "            line = go.scatter.Line(color = \"gray\", width = 1),\n",
    "            showlegend = False\n",
    "        )\n",
    "    )\n",
    "\n",
    "fig.show()"
   ]
  },
  {
   "cell_type": "code",
   "execution_count": null,
   "metadata": {},
   "outputs": [],
   "source": []
  },
  {
   "cell_type": "code",
   "execution_count": null,
   "metadata": {},
   "outputs": [],
   "source": []
  }
 ],
 "metadata": {
  "kernelspec": {
   "display_name": "Python 3",
   "language": "python",
   "name": "python3"
  },
  "language_info": {
   "codemirror_mode": {
    "name": "ipython",
    "version": 3
   },
   "file_extension": ".py",
   "mimetype": "text/x-python",
   "name": "python",
   "nbconvert_exporter": "python",
   "pygments_lexer": "ipython3",
   "version": "3.7.2"
  }
 },
 "nbformat": 4,
 "nbformat_minor": 2
}
