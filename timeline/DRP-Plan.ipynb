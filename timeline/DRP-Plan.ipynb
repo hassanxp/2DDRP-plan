{
 "cells": [
  {
   "cell_type": "code",
   "execution_count": 1,
   "metadata": {},
   "outputs": [],
   "source": [
    "import plotly.figure_factory as ff\n",
    "import pandas as pd\n",
    "import random\n",
    "import plotly.graph_objects as go"
   ]
  },
  {
   "cell_type": "code",
   "execution_count": 8,
   "metadata": {},
   "outputs": [],
   "source": [
    "catColors = dict(Project='rgb(255, 51, 0)', \n",
    "                 Hardware='rgb(230, 230, 0)', \n",
    "                 Sky='rgb(51, 153, 255)', \n",
    "                 PSF='rgb(102, 0, 255)', \n",
    "                 WavelengthCalibration='rgb(153, 102, 255)', \n",
    "                 Calibration='rgb(204, 51, 255)',\n",
    "                 Infra='rgb(153, 0, 153)')"
   ]
  },
  {
   "cell_type": "code",
   "execution_count": 41,
   "metadata": {},
   "outputs": [
    {
     "data": {
      "application/vnd.plotly.v1+json": {
       "config": {
        "plotlyServerURL": "https://plotly.com"
       },
       "data": [
        {
         "fill": "toself",
         "fillcolor": "rgb(102, 0, 255)",
         "hoverinfo": "name",
         "legendgroup": "rgb(102, 0, 255)",
         "mode": "none",
         "name": "PSF",
         "type": "scatter",
         "x": [
          "2021-02-01",
          "2021-03-31",
          "2021-03-31",
          "2021-02-01",
          "2021-02-01",
          "2019-06-1",
          "2021-02-01",
          "2021-02-01",
          "2019-06-1",
          "2019-06-1",
          "2020-08-01",
          "2020-09-01",
          "2020-09-01",
          "2020-08-01",
          "2020-08-01",
          "2021-03-01",
          "2021-04-01",
          "2021-04-01",
          "2021-03-01",
          "2021-03-01",
          "2021-01-01",
          "2021-04-01",
          "2021-04-01",
          "2021-01-01",
          "2021-01-01",
          "2019-09-01",
          "2021-01-01",
          "2021-01-01",
          "2019-09-01",
          "2019-09-01",
          "2020-07-01",
          "2020-07-20",
          "2020-07-20",
          "2020-07-01",
          "2020-07-01",
          "2020-10-01",
          "2021-01-30",
          "2021-01-30",
          "2020-10-01",
          "2020-10-01",
          "2021-02-01",
          "2021-04-01",
          "2021-04-01",
          "2021-02-01",
          "2021-02-01",
          "2020-11-01",
          "2020-12-31",
          "2020-12-31",
          "2020-11-01",
          "2020-11-01",
          "2020-09-01",
          "2020-10-01",
          "2020-10-01",
          "2020-09-01",
          "2020-09-01",
          "2020-08-01",
          "2020-09-01",
          "2020-09-01",
          "2020-08-01",
          "2020-08-01",
          "2020-06-01",
          "2020-08-30",
          "2020-08-30",
          "2020-06-01"
         ],
         "y": [
          32.9,
          32.9,
          33.1,
          33.1,
          null,
          33.9,
          33.9,
          34.1,
          34.1,
          null,
          34.9,
          34.9,
          35.1,
          35.1,
          null,
          35.9,
          35.9,
          36.1,
          36.1,
          null,
          36.9,
          36.9,
          37.1,
          37.1,
          null,
          37.9,
          37.9,
          38.1,
          38.1,
          null,
          38.9,
          38.9,
          39.1,
          39.1,
          null,
          39.9,
          39.9,
          40.1,
          40.1,
          null,
          40.9,
          40.9,
          41.1,
          41.1,
          null,
          41.9,
          41.9,
          42.1,
          42.1,
          null,
          42.9,
          42.9,
          43.1,
          43.1,
          null,
          43.9,
          43.9,
          44.1,
          44.1,
          null,
          44.9,
          44.9,
          45.1,
          45.1
         ]
        },
        {
         "fill": "toself",
         "fillcolor": "rgb(153, 0, 153)",
         "hoverinfo": "name",
         "legendgroup": "rgb(153, 0, 153)",
         "mode": "none",
         "name": "Infra",
         "type": "scatter",
         "x": [
          "2020-09-01",
          "2020-10-01",
          "2020-10-01",
          "2020-09-01",
          "2020-09-01",
          "2020-02-01",
          "2020-08-30",
          "2020-08-30",
          "2020-02-01",
          "2020-02-01",
          "2020-05-01",
          "2020-06-01",
          "2020-06-01",
          "2020-05-01"
         ],
         "y": [
          14.9,
          14.9,
          15.1,
          15.1,
          null,
          15.9,
          15.9,
          16.1,
          16.1,
          null,
          16.9,
          16.9,
          17.1,
          17.1
         ]
        },
        {
         "fill": "toself",
         "fillcolor": "rgb(153, 102, 255)",
         "hoverinfo": "name",
         "legendgroup": "rgb(153, 102, 255)",
         "mode": "none",
         "name": "WavelengthCalibration",
         "type": "scatter",
         "x": [
          "2021-04-01",
          "2021-08-01",
          "2021-08-01",
          "2021-04-01",
          "2021-04-01",
          "2020-10-01",
          "2020-12-01",
          "2020-12-01",
          "2020-10-01",
          "2020-10-01",
          "2020-08-01",
          "2020-10-01",
          "2020-10-01",
          "2020-08-01"
         ],
         "y": [
          29.9,
          29.9,
          30.1,
          30.1,
          null,
          30.9,
          30.9,
          31.1,
          31.1,
          null,
          31.9,
          31.9,
          32.1,
          32.1
         ]
        },
        {
         "fill": "toself",
         "fillcolor": "rgb(204, 51, 255)",
         "hoverinfo": "name",
         "legendgroup": "rgb(204, 51, 255)",
         "mode": "none",
         "name": "Calibration",
         "type": "scatter",
         "x": [
          "2021-04-01",
          "2021-12-31",
          "2021-12-31",
          "2021-04-01",
          "2021-04-01",
          "2021-01-01",
          "2021-06-01",
          "2021-06-01",
          "2021-01-01",
          "2021-01-01",
          "2021-01-01",
          "2021-06-01",
          "2021-06-01",
          "2021-01-01",
          "2021-01-01",
          "2021-06-01",
          "2021-08-01",
          "2021-08-01",
          "2021-06-01",
          "2021-06-01",
          "2020-08-01",
          "2021-08-01",
          "2021-08-01",
          "2020-08-01",
          "2020-08-01",
          "2021-01-01",
          "2021-03-01",
          "2021-03-01",
          "2021-01-01",
          "2021-01-01",
          "2020-09-01",
          "2021-01-01",
          "2021-01-01",
          "2020-09-01",
          "2020-09-01",
          "2020-02-01",
          "2020-09-01",
          "2020-09-01",
          "2020-02-01"
         ],
         "y": [
          17.9,
          17.9,
          18.1,
          18.1,
          null,
          18.9,
          18.9,
          19.1,
          19.1,
          null,
          19.9,
          19.9,
          20.1,
          20.1,
          null,
          20.9,
          20.9,
          21.1,
          21.1,
          null,
          21.9,
          21.9,
          22.1,
          22.1,
          null,
          22.9,
          22.9,
          23.1,
          23.1,
          null,
          23.9,
          23.9,
          24.1,
          24.1,
          null,
          24.9,
          24.9,
          25.1,
          25.1
         ]
        },
        {
         "fill": "toself",
         "fillcolor": "rgb(230, 230, 0)",
         "hoverinfo": "name",
         "legendgroup": "rgb(230, 230, 0)",
         "mode": "none",
         "name": "Hardware",
         "type": "scatter",
         "x": [
          "2021-01-01",
          "2025-01-01",
          "2025-01-01",
          "2021-01-01",
          "2021-01-01",
          "2021-08-01",
          "2025-01-01",
          "2025-01-01",
          "2021-08-01",
          "2021-08-01",
          "2021-06-01",
          "2021-08-01",
          "2021-08-01",
          "2021-06-01",
          "2021-06-01",
          "2021-06-01",
          "2025-01-01",
          "2025-01-01",
          "2021-06-01",
          "2021-06-01",
          "2020-10-01",
          "2021-06-01",
          "2021-06-01",
          "2020-10-01",
          "2020-10-01",
          "2020-11-01",
          "2025-01-01",
          "2025-01-01",
          "2020-11-01",
          "2020-11-01",
          "2020-05-01",
          "2020-11-01",
          "2020-11-01",
          "2020-05-01",
          "2020-05-01",
          "2020-09-01",
          "2020-10-01",
          "2020-10-01",
          "2020-09-01",
          "2020-09-01",
          "2019-12-01",
          "2020-06-02",
          "2020-06-02",
          "2019-12-01",
          "2019-12-01",
          "2020-12-01",
          "2020-12-31",
          "2020-12-31",
          "2020-12-01"
         ],
         "y": [
          -0.1,
          -0.1,
          0.1,
          0.1,
          null,
          0.9,
          0.9,
          1.1,
          1.1,
          null,
          1.9,
          1.9,
          2.1,
          2.1,
          null,
          2.9,
          2.9,
          3.1,
          3.1,
          null,
          3.9,
          3.9,
          4.1,
          4.1,
          null,
          4.9,
          4.9,
          5.1,
          5.1,
          null,
          5.9,
          5.9,
          6.1,
          6.1,
          null,
          6.9,
          6.9,
          7.1,
          7.1,
          null,
          7.9,
          7.9,
          8.1,
          8.1,
          null,
          8.9,
          8.9,
          9.1,
          9.1
         ]
        },
        {
         "fill": "toself",
         "fillcolor": "rgb(255, 51, 0)",
         "hoverinfo": "name",
         "legendgroup": "rgb(255, 51, 0)",
         "mode": "none",
         "name": "Project",
         "type": "scatter",
         "x": [
          "2023-02-01",
          "2025-01-01",
          "2025-01-01",
          "2023-02-01",
          "2023-02-01",
          "2022-08-01",
          "2022-09-01",
          "2022-09-01",
          "2022-08-01",
          "2022-08-01",
          "2022-10-01",
          "2022-10-01",
          "2022-10-01",
          "2022-10-01",
          "2022-10-01",
          "2022-04-01",
          "2022-05-01",
          "2022-05-01",
          "2022-04-01",
          "2022-04-01",
          "2021-06-01",
          "2023-01-30",
          "2023-01-30",
          "2021-06-01"
         ],
         "y": [
          9.9,
          9.9,
          10.1,
          10.1,
          null,
          10.9,
          10.9,
          11.1,
          11.1,
          null,
          11.9,
          11.9,
          12.1,
          12.1,
          null,
          12.9,
          12.9,
          13.1,
          13.1,
          null,
          13.9,
          13.9,
          14.1,
          14.1
         ]
        },
        {
         "fill": "toself",
         "fillcolor": "rgb(51, 153, 255)",
         "hoverinfo": "name",
         "legendgroup": "rgb(51, 153, 255)",
         "mode": "none",
         "name": "Sky",
         "type": "scatter",
         "x": [
          "2021-02-01",
          "2024-01-01",
          "2024-01-01",
          "2021-02-01",
          "2021-02-01",
          "2020-09-01",
          "2021-04-01",
          "2021-04-01",
          "2020-09-01",
          "2020-09-01",
          "2020-09-01",
          "2020-12-31",
          "2020-12-31",
          "2020-09-01",
          "2020-09-01",
          "2019-09-01",
          "2019-12-31",
          "2019-12-31",
          "2019-09-01"
         ],
         "y": [
          25.9,
          25.9,
          26.1,
          26.1,
          null,
          26.9,
          26.9,
          27.1,
          27.1,
          null,
          27.9,
          27.9,
          28.1,
          28.1,
          null,
          28.9,
          28.9,
          29.1,
          29.1
         ]
        },
        {
         "legendgroup": "rgb(102, 0, 255)",
         "marker": {
          "color": "rgb(102, 0, 255)",
          "opacity": 0,
          "size": 1
         },
         "mode": "markers",
         "name": "",
         "showlegend": false,
         "text": [
          null,
          null,
          null,
          null,
          null,
          null,
          null,
          null,
          null,
          null,
          null,
          null,
          null,
          null,
          null,
          null,
          null,
          null,
          null,
          null,
          null,
          null,
          null,
          null,
          null,
          null
         ],
         "type": "scatter",
         "x": [
          "2021-02-01",
          "2021-03-31",
          "2019-06-1",
          "2021-02-01",
          "2020-08-01",
          "2020-09-01",
          "2021-03-01",
          "2021-04-01",
          "2021-01-01",
          "2021-04-01",
          "2019-09-01",
          "2021-01-01",
          "2020-07-01",
          "2020-07-20",
          "2020-10-01",
          "2021-01-30",
          "2021-02-01",
          "2021-04-01",
          "2020-11-01",
          "2020-12-31",
          "2020-09-01",
          "2020-10-01",
          "2020-08-01",
          "2020-09-01",
          "2020-06-01",
          "2020-08-30"
         ],
         "y": [
          33,
          33,
          34,
          34,
          35,
          35,
          36,
          36,
          37,
          37,
          38,
          38,
          39,
          39,
          40,
          40,
          41,
          41,
          42,
          42,
          43,
          43,
          44,
          44,
          45,
          45
         ]
        },
        {
         "legendgroup": "rgb(153, 0, 153)",
         "marker": {
          "color": "rgb(153, 0, 153)",
          "opacity": 0,
          "size": 1
         },
         "mode": "markers",
         "name": "",
         "showlegend": false,
         "text": [
          null,
          null,
          null,
          null,
          null,
          null
         ],
         "type": "scatter",
         "x": [
          "2020-09-01",
          "2020-10-01",
          "2020-02-01",
          "2020-08-30",
          "2020-05-01",
          "2020-06-01"
         ],
         "y": [
          15,
          15,
          16,
          16,
          17,
          17
         ]
        },
        {
         "legendgroup": "rgb(153, 102, 255)",
         "marker": {
          "color": "rgb(153, 102, 255)",
          "opacity": 0,
          "size": 1
         },
         "mode": "markers",
         "name": "",
         "showlegend": false,
         "text": [
          null,
          null,
          null,
          null,
          null,
          null
         ],
         "type": "scatter",
         "x": [
          "2021-04-01",
          "2021-08-01",
          "2020-10-01",
          "2020-12-01",
          "2020-08-01",
          "2020-10-01"
         ],
         "y": [
          30,
          30,
          31,
          31,
          32,
          32
         ]
        },
        {
         "legendgroup": "rgb(204, 51, 255)",
         "marker": {
          "color": "rgb(204, 51, 255)",
          "opacity": 0,
          "size": 1
         },
         "mode": "markers",
         "name": "",
         "showlegend": false,
         "text": [
          null,
          null,
          null,
          null,
          null,
          null,
          null,
          null,
          null,
          null,
          null,
          null,
          null,
          null,
          null,
          null
         ],
         "type": "scatter",
         "x": [
          "2021-04-01",
          "2021-12-31",
          "2021-01-01",
          "2021-06-01",
          "2021-01-01",
          "2021-06-01",
          "2021-06-01",
          "2021-08-01",
          "2020-08-01",
          "2021-08-01",
          "2021-01-01",
          "2021-03-01",
          "2020-09-01",
          "2021-01-01",
          "2020-02-01",
          "2020-09-01"
         ],
         "y": [
          18,
          18,
          19,
          19,
          20,
          20,
          21,
          21,
          22,
          22,
          23,
          23,
          24,
          24,
          25,
          25
         ]
        },
        {
         "legendgroup": "rgb(230, 230, 0)",
         "marker": {
          "color": "rgb(230, 230, 0)",
          "opacity": 0,
          "size": 1
         },
         "mode": "markers",
         "name": "",
         "showlegend": false,
         "text": [
          null,
          null,
          null,
          null,
          null,
          null,
          null,
          null,
          null,
          null,
          null,
          null,
          null,
          null,
          null,
          null,
          null,
          null,
          null,
          null
         ],
         "type": "scatter",
         "x": [
          "2021-01-01",
          "2025-01-01",
          "2021-08-01",
          "2025-01-01",
          "2021-06-01",
          "2021-08-01",
          "2021-06-01",
          "2025-01-01",
          "2020-10-01",
          "2021-06-01",
          "2020-11-01",
          "2025-01-01",
          "2020-05-01",
          "2020-11-01",
          "2020-09-01",
          "2020-10-01",
          "2019-12-01",
          "2020-06-02",
          "2020-12-01",
          "2020-12-31"
         ],
         "y": [
          0,
          0,
          1,
          1,
          2,
          2,
          3,
          3,
          4,
          4,
          5,
          5,
          6,
          6,
          7,
          7,
          8,
          8,
          9,
          9
         ]
        },
        {
         "legendgroup": "rgb(255, 51, 0)",
         "marker": {
          "color": "rgb(255, 51, 0)",
          "opacity": 0,
          "size": 1
         },
         "mode": "markers",
         "name": "",
         "showlegend": false,
         "text": [
          null,
          null,
          null,
          null,
          null,
          null,
          null,
          null,
          null,
          null
         ],
         "type": "scatter",
         "x": [
          "2023-02-01",
          "2025-01-01",
          "2022-08-01",
          "2022-09-01",
          "2022-10-01",
          "2022-10-01",
          "2022-04-01",
          "2022-05-01",
          "2021-06-01",
          "2023-01-30"
         ],
         "y": [
          10,
          10,
          11,
          11,
          12,
          12,
          13,
          13,
          14,
          14
         ]
        },
        {
         "legendgroup": "rgb(51, 153, 255)",
         "marker": {
          "color": "rgb(51, 153, 255)",
          "opacity": 0,
          "size": 1
         },
         "mode": "markers",
         "name": "",
         "showlegend": false,
         "text": [
          null,
          null,
          null,
          null,
          null,
          null,
          null,
          null
         ],
         "type": "scatter",
         "x": [
          "2021-02-01",
          "2024-01-01",
          "2020-09-01",
          "2021-04-01",
          "2020-09-01",
          "2020-12-31",
          "2019-09-01",
          "2019-12-31"
         ],
         "y": [
          26,
          26,
          27,
          27,
          28,
          28,
          29,
          29
         ]
        },
        {
         "line": {
          "color": "gray",
          "width": 1
         },
         "mode": "lines+text",
         "name": "R+B+N",
         "showlegend": false,
         "textposition": "bottom center",
         "type": "scatter",
         "x": [
          "2020-10-01",
          "2020-10-01"
         ],
         "y": [
          -1,
          47
         ]
        },
        {
         "line": {
          "color": "gray",
          "width": 1
         },
         "mode": "lines+text",
         "name": "Eng Obs Start",
         "showlegend": false,
         "textposition": "bottom center",
         "type": "scatter",
         "x": [
          "2021-06-01",
          "2021-06-01"
         ],
         "y": [
          -1,
          47
         ]
        },
        {
         "line": {
          "color": "gray",
          "width": 1
         },
         "mode": "lines+text",
         "name": "Eng Obs End",
         "showlegend": false,
         "textposition": "bottom center",
         "type": "scatter",
         "x": [
          "2023-01-30",
          "2023-01-30"
         ],
         "y": [
          -1,
          47
         ]
        },
        {
         "line": {
          "color": "gray",
          "width": 1
         },
         "mode": "lines+text",
         "name": "Call for SSP",
         "showlegend": false,
         "textposition": "bottom center",
         "type": "scatter",
         "x": [
          "2022-04-01",
          "2022-04-01"
         ],
         "y": [
          -1,
          47
         ]
        }
       ],
       "layout": {
        "height": 750,
        "hovermode": "closest",
        "plot_bgcolor": "rgba(0,0,0, 0.1)",
        "showlegend": false,
        "template": {
         "data": {
          "bar": [
           {
            "error_x": {
             "color": "#2a3f5f"
            },
            "error_y": {
             "color": "#2a3f5f"
            },
            "marker": {
             "line": {
              "color": "#E5ECF6",
              "width": 0.5
             }
            },
            "type": "bar"
           }
          ],
          "barpolar": [
           {
            "marker": {
             "line": {
              "color": "#E5ECF6",
              "width": 0.5
             }
            },
            "type": "barpolar"
           }
          ],
          "carpet": [
           {
            "aaxis": {
             "endlinecolor": "#2a3f5f",
             "gridcolor": "white",
             "linecolor": "white",
             "minorgridcolor": "white",
             "startlinecolor": "#2a3f5f"
            },
            "baxis": {
             "endlinecolor": "#2a3f5f",
             "gridcolor": "white",
             "linecolor": "white",
             "minorgridcolor": "white",
             "startlinecolor": "#2a3f5f"
            },
            "type": "carpet"
           }
          ],
          "choropleth": [
           {
            "colorbar": {
             "outlinewidth": 0,
             "ticks": ""
            },
            "type": "choropleth"
           }
          ],
          "contour": [
           {
            "colorbar": {
             "outlinewidth": 0,
             "ticks": ""
            },
            "colorscale": [
             [
              0,
              "#0d0887"
             ],
             [
              0.1111111111111111,
              "#46039f"
             ],
             [
              0.2222222222222222,
              "#7201a8"
             ],
             [
              0.3333333333333333,
              "#9c179e"
             ],
             [
              0.4444444444444444,
              "#bd3786"
             ],
             [
              0.5555555555555556,
              "#d8576b"
             ],
             [
              0.6666666666666666,
              "#ed7953"
             ],
             [
              0.7777777777777778,
              "#fb9f3a"
             ],
             [
              0.8888888888888888,
              "#fdca26"
             ],
             [
              1,
              "#f0f921"
             ]
            ],
            "type": "contour"
           }
          ],
          "contourcarpet": [
           {
            "colorbar": {
             "outlinewidth": 0,
             "ticks": ""
            },
            "type": "contourcarpet"
           }
          ],
          "heatmap": [
           {
            "colorbar": {
             "outlinewidth": 0,
             "ticks": ""
            },
            "colorscale": [
             [
              0,
              "#0d0887"
             ],
             [
              0.1111111111111111,
              "#46039f"
             ],
             [
              0.2222222222222222,
              "#7201a8"
             ],
             [
              0.3333333333333333,
              "#9c179e"
             ],
             [
              0.4444444444444444,
              "#bd3786"
             ],
             [
              0.5555555555555556,
              "#d8576b"
             ],
             [
              0.6666666666666666,
              "#ed7953"
             ],
             [
              0.7777777777777778,
              "#fb9f3a"
             ],
             [
              0.8888888888888888,
              "#fdca26"
             ],
             [
              1,
              "#f0f921"
             ]
            ],
            "type": "heatmap"
           }
          ],
          "heatmapgl": [
           {
            "colorbar": {
             "outlinewidth": 0,
             "ticks": ""
            },
            "colorscale": [
             [
              0,
              "#0d0887"
             ],
             [
              0.1111111111111111,
              "#46039f"
             ],
             [
              0.2222222222222222,
              "#7201a8"
             ],
             [
              0.3333333333333333,
              "#9c179e"
             ],
             [
              0.4444444444444444,
              "#bd3786"
             ],
             [
              0.5555555555555556,
              "#d8576b"
             ],
             [
              0.6666666666666666,
              "#ed7953"
             ],
             [
              0.7777777777777778,
              "#fb9f3a"
             ],
             [
              0.8888888888888888,
              "#fdca26"
             ],
             [
              1,
              "#f0f921"
             ]
            ],
            "type": "heatmapgl"
           }
          ],
          "histogram": [
           {
            "marker": {
             "colorbar": {
              "outlinewidth": 0,
              "ticks": ""
             }
            },
            "type": "histogram"
           }
          ],
          "histogram2d": [
           {
            "colorbar": {
             "outlinewidth": 0,
             "ticks": ""
            },
            "colorscale": [
             [
              0,
              "#0d0887"
             ],
             [
              0.1111111111111111,
              "#46039f"
             ],
             [
              0.2222222222222222,
              "#7201a8"
             ],
             [
              0.3333333333333333,
              "#9c179e"
             ],
             [
              0.4444444444444444,
              "#bd3786"
             ],
             [
              0.5555555555555556,
              "#d8576b"
             ],
             [
              0.6666666666666666,
              "#ed7953"
             ],
             [
              0.7777777777777778,
              "#fb9f3a"
             ],
             [
              0.8888888888888888,
              "#fdca26"
             ],
             [
              1,
              "#f0f921"
             ]
            ],
            "type": "histogram2d"
           }
          ],
          "histogram2dcontour": [
           {
            "colorbar": {
             "outlinewidth": 0,
             "ticks": ""
            },
            "colorscale": [
             [
              0,
              "#0d0887"
             ],
             [
              0.1111111111111111,
              "#46039f"
             ],
             [
              0.2222222222222222,
              "#7201a8"
             ],
             [
              0.3333333333333333,
              "#9c179e"
             ],
             [
              0.4444444444444444,
              "#bd3786"
             ],
             [
              0.5555555555555556,
              "#d8576b"
             ],
             [
              0.6666666666666666,
              "#ed7953"
             ],
             [
              0.7777777777777778,
              "#fb9f3a"
             ],
             [
              0.8888888888888888,
              "#fdca26"
             ],
             [
              1,
              "#f0f921"
             ]
            ],
            "type": "histogram2dcontour"
           }
          ],
          "mesh3d": [
           {
            "colorbar": {
             "outlinewidth": 0,
             "ticks": ""
            },
            "type": "mesh3d"
           }
          ],
          "parcoords": [
           {
            "line": {
             "colorbar": {
              "outlinewidth": 0,
              "ticks": ""
             }
            },
            "type": "parcoords"
           }
          ],
          "pie": [
           {
            "automargin": true,
            "type": "pie"
           }
          ],
          "scatter": [
           {
            "marker": {
             "colorbar": {
              "outlinewidth": 0,
              "ticks": ""
             }
            },
            "type": "scatter"
           }
          ],
          "scatter3d": [
           {
            "line": {
             "colorbar": {
              "outlinewidth": 0,
              "ticks": ""
             }
            },
            "marker": {
             "colorbar": {
              "outlinewidth": 0,
              "ticks": ""
             }
            },
            "type": "scatter3d"
           }
          ],
          "scattercarpet": [
           {
            "marker": {
             "colorbar": {
              "outlinewidth": 0,
              "ticks": ""
             }
            },
            "type": "scattercarpet"
           }
          ],
          "scattergeo": [
           {
            "marker": {
             "colorbar": {
              "outlinewidth": 0,
              "ticks": ""
             }
            },
            "type": "scattergeo"
           }
          ],
          "scattergl": [
           {
            "marker": {
             "colorbar": {
              "outlinewidth": 0,
              "ticks": ""
             }
            },
            "type": "scattergl"
           }
          ],
          "scattermapbox": [
           {
            "marker": {
             "colorbar": {
              "outlinewidth": 0,
              "ticks": ""
             }
            },
            "type": "scattermapbox"
           }
          ],
          "scatterpolar": [
           {
            "marker": {
             "colorbar": {
              "outlinewidth": 0,
              "ticks": ""
             }
            },
            "type": "scatterpolar"
           }
          ],
          "scatterpolargl": [
           {
            "marker": {
             "colorbar": {
              "outlinewidth": 0,
              "ticks": ""
             }
            },
            "type": "scatterpolargl"
           }
          ],
          "scatterternary": [
           {
            "marker": {
             "colorbar": {
              "outlinewidth": 0,
              "ticks": ""
             }
            },
            "type": "scatterternary"
           }
          ],
          "surface": [
           {
            "colorbar": {
             "outlinewidth": 0,
             "ticks": ""
            },
            "colorscale": [
             [
              0,
              "#0d0887"
             ],
             [
              0.1111111111111111,
              "#46039f"
             ],
             [
              0.2222222222222222,
              "#7201a8"
             ],
             [
              0.3333333333333333,
              "#9c179e"
             ],
             [
              0.4444444444444444,
              "#bd3786"
             ],
             [
              0.5555555555555556,
              "#d8576b"
             ],
             [
              0.6666666666666666,
              "#ed7953"
             ],
             [
              0.7777777777777778,
              "#fb9f3a"
             ],
             [
              0.8888888888888888,
              "#fdca26"
             ],
             [
              1,
              "#f0f921"
             ]
            ],
            "type": "surface"
           }
          ],
          "table": [
           {
            "cells": {
             "fill": {
              "color": "#EBF0F8"
             },
             "line": {
              "color": "white"
             }
            },
            "header": {
             "fill": {
              "color": "#C8D4E3"
             },
             "line": {
              "color": "white"
             }
            },
            "type": "table"
           }
          ]
         },
         "layout": {
          "annotationdefaults": {
           "arrowcolor": "#2a3f5f",
           "arrowhead": 0,
           "arrowwidth": 1
          },
          "coloraxis": {
           "colorbar": {
            "outlinewidth": 0,
            "ticks": ""
           }
          },
          "colorscale": {
           "diverging": [
            [
             0,
             "#8e0152"
            ],
            [
             0.1,
             "#c51b7d"
            ],
            [
             0.2,
             "#de77ae"
            ],
            [
             0.3,
             "#f1b6da"
            ],
            [
             0.4,
             "#fde0ef"
            ],
            [
             0.5,
             "#f7f7f7"
            ],
            [
             0.6,
             "#e6f5d0"
            ],
            [
             0.7,
             "#b8e186"
            ],
            [
             0.8,
             "#7fbc41"
            ],
            [
             0.9,
             "#4d9221"
            ],
            [
             1,
             "#276419"
            ]
           ],
           "sequential": [
            [
             0,
             "#0d0887"
            ],
            [
             0.1111111111111111,
             "#46039f"
            ],
            [
             0.2222222222222222,
             "#7201a8"
            ],
            [
             0.3333333333333333,
             "#9c179e"
            ],
            [
             0.4444444444444444,
             "#bd3786"
            ],
            [
             0.5555555555555556,
             "#d8576b"
            ],
            [
             0.6666666666666666,
             "#ed7953"
            ],
            [
             0.7777777777777778,
             "#fb9f3a"
            ],
            [
             0.8888888888888888,
             "#fdca26"
            ],
            [
             1,
             "#f0f921"
            ]
           ],
           "sequentialminus": [
            [
             0,
             "#0d0887"
            ],
            [
             0.1111111111111111,
             "#46039f"
            ],
            [
             0.2222222222222222,
             "#7201a8"
            ],
            [
             0.3333333333333333,
             "#9c179e"
            ],
            [
             0.4444444444444444,
             "#bd3786"
            ],
            [
             0.5555555555555556,
             "#d8576b"
            ],
            [
             0.6666666666666666,
             "#ed7953"
            ],
            [
             0.7777777777777778,
             "#fb9f3a"
            ],
            [
             0.8888888888888888,
             "#fdca26"
            ],
            [
             1,
             "#f0f921"
            ]
           ]
          },
          "colorway": [
           "#636efa",
           "#EF553B",
           "#00cc96",
           "#ab63fa",
           "#FFA15A",
           "#19d3f3",
           "#FF6692",
           "#B6E880",
           "#FF97FF",
           "#FECB52"
          ],
          "font": {
           "color": "#2a3f5f"
          },
          "geo": {
           "bgcolor": "white",
           "lakecolor": "white",
           "landcolor": "#E5ECF6",
           "showlakes": true,
           "showland": true,
           "subunitcolor": "white"
          },
          "hoverlabel": {
           "align": "left"
          },
          "hovermode": "closest",
          "mapbox": {
           "style": "light"
          },
          "paper_bgcolor": "white",
          "plot_bgcolor": "#E5ECF6",
          "polar": {
           "angularaxis": {
            "gridcolor": "white",
            "linecolor": "white",
            "ticks": ""
           },
           "bgcolor": "#E5ECF6",
           "radialaxis": {
            "gridcolor": "white",
            "linecolor": "white",
            "ticks": ""
           }
          },
          "scene": {
           "xaxis": {
            "backgroundcolor": "#E5ECF6",
            "gridcolor": "white",
            "gridwidth": 2,
            "linecolor": "white",
            "showbackground": true,
            "ticks": "",
            "zerolinecolor": "white"
           },
           "yaxis": {
            "backgroundcolor": "#E5ECF6",
            "gridcolor": "white",
            "gridwidth": 2,
            "linecolor": "white",
            "showbackground": true,
            "ticks": "",
            "zerolinecolor": "white"
           },
           "zaxis": {
            "backgroundcolor": "#E5ECF6",
            "gridcolor": "white",
            "gridwidth": 2,
            "linecolor": "white",
            "showbackground": true,
            "ticks": "",
            "zerolinecolor": "white"
           }
          },
          "shapedefaults": {
           "line": {
            "color": "#2a3f5f"
           }
          },
          "ternary": {
           "aaxis": {
            "gridcolor": "white",
            "linecolor": "white",
            "ticks": ""
           },
           "baxis": {
            "gridcolor": "white",
            "linecolor": "white",
            "ticks": ""
           },
           "bgcolor": "#E5ECF6",
           "caxis": {
            "gridcolor": "white",
            "linecolor": "white",
            "ticks": ""
           }
          },
          "title": {
           "x": 0.05
          },
          "xaxis": {
           "automargin": true,
           "gridcolor": "white",
           "linecolor": "white",
           "ticks": "",
           "title": {
            "standoff": 15
           },
           "zerolinecolor": "white",
           "zerolinewidth": 2
          },
          "yaxis": {
           "automargin": true,
           "gridcolor": "white",
           "linecolor": "white",
           "ticks": "",
           "title": {
            "standoff": 15
           },
           "zerolinecolor": "white",
           "zerolinewidth": 2
          }
         }
        },
        "title": {
         "text": "DRP Plan"
        },
        "xaxis": {
         "rangeselector": {
          "buttons": [
           {
            "count": 7,
            "label": "1w",
            "step": "day",
            "stepmode": "backward"
           },
           {
            "count": 1,
            "label": "1m",
            "step": "month",
            "stepmode": "backward"
           },
           {
            "count": 6,
            "label": "6m",
            "step": "month",
            "stepmode": "backward"
           },
           {
            "count": 1,
            "label": "YTD",
            "step": "year",
            "stepmode": "todate"
           },
           {
            "count": 1,
            "label": "1y",
            "step": "year",
            "stepmode": "backward"
           },
           {
            "step": "all"
           }
          ]
         },
         "showgrid": true,
         "type": "date",
         "zeroline": false
        },
        "yaxis": {
         "autorange": false,
         "range": [
          -1,
          47
         ],
         "showgrid": false,
         "ticktext": [
          "PFI@Subaru",
          "SM4(B+R)@Subaru",
          "SM4(B+R)@LAM",
          "SM3(B+R+N)@Subaru",
          "SM3(B+R+N)@LAM",
          "SM2(B+R)@Subaru",
          "SM2(B+R)@LAM",
          "NCU1@LAM",
          "SM1(B+R)@Subaru",
          "First cable B@Subaru",
          "Science Operations",
          "Readiness review of inst for science",
          "End of SSP Proposal Review",
          "Call for SSP",
          "Start of engineering observations",
          "LSST gen3",
          "YAML pipeline config",
          "Arm merging (B+R/M+N)",
          "DCR",
          "CCD Brighter/Fatter",
          "CCD Crosstalk",
          "Quartz color filter calibration",
          "H4RG modelling",
          "Flux Calibration: f-star selection",
          "Flux Calibration: stellar typing",
          "Flux Calibration: interpolation",
          "Improved sky subtraction",
          "OH line modelling",
          "Telluric Correction",
          "Initial sky subtraction",
          "Improved wavelength soln (< 1 km/s)",
          "Improved wavelength soln (< 2-5 km/s)",
          "Consistent 2D model for detectormap",
          "Arc subtraction",
          "Arc line amplitude modelling",
          "Arc line intensity list",
          "FRD effect w/cobra movement",
          "FRD effect w/cable B",
          "FRD modelling",
          "FRD: metric for quantifying effect",
          "PSF modelling (N)",
          "PSF modelling (600 fibers)",
          "PSF: interpolate in zernike space",
          "PSF model self-consistent within same fiber",
          "PSF model (B detector modeling)",
          "PSF model self-consistent across defocuses"
         ],
         "tickvals": [
          0,
          1,
          2,
          3,
          4,
          5,
          6,
          7,
          8,
          9,
          10,
          11,
          12,
          13,
          14,
          15,
          16,
          17,
          18,
          19,
          20,
          21,
          22,
          23,
          24,
          25,
          26,
          27,
          28,
          29,
          30,
          31,
          32,
          33,
          34,
          35,
          36,
          37,
          38,
          39,
          40,
          41,
          42,
          43,
          44,
          45
         ],
         "zeroline": false
        }
       }
      },
      "text/html": [
       "<div>\n",
       "        \n",
       "        \n",
       "            <div id=\"454cd0dc-0567-4e38-aeb8-d6f076058b64\" class=\"plotly-graph-div\" style=\"height:750px; width:100%;\"></div>\n",
       "            <script type=\"text/javascript\">\n",
       "                require([\"plotly\"], function(Plotly) {\n",
       "                    window.PLOTLYENV=window.PLOTLYENV || {};\n",
       "                    \n",
       "                if (document.getElementById(\"454cd0dc-0567-4e38-aeb8-d6f076058b64\")) {\n",
       "                    Plotly.newPlot(\n",
       "                        '454cd0dc-0567-4e38-aeb8-d6f076058b64',\n",
       "                        [{\"fill\": \"toself\", \"fillcolor\": \"rgb(102, 0, 255)\", \"hoverinfo\": \"name\", \"legendgroup\": \"rgb(102, 0, 255)\", \"mode\": \"none\", \"name\": \"PSF\", \"type\": \"scatter\", \"x\": [\"2021-02-01\", \"2021-03-31\", \"2021-03-31\", \"2021-02-01\", \"2021-02-01\", \"2019-06-1\", \"2021-02-01\", \"2021-02-01\", \"2019-06-1\", \"2019-06-1\", \"2020-08-01\", \"2020-09-01\", \"2020-09-01\", \"2020-08-01\", \"2020-08-01\", \"2021-03-01\", \"2021-04-01\", \"2021-04-01\", \"2021-03-01\", \"2021-03-01\", \"2021-01-01\", \"2021-04-01\", \"2021-04-01\", \"2021-01-01\", \"2021-01-01\", \"2019-09-01\", \"2021-01-01\", \"2021-01-01\", \"2019-09-01\", \"2019-09-01\", \"2020-07-01\", \"2020-07-20\", \"2020-07-20\", \"2020-07-01\", \"2020-07-01\", \"2020-10-01\", \"2021-01-30\", \"2021-01-30\", \"2020-10-01\", \"2020-10-01\", \"2021-02-01\", \"2021-04-01\", \"2021-04-01\", \"2021-02-01\", \"2021-02-01\", \"2020-11-01\", \"2020-12-31\", \"2020-12-31\", \"2020-11-01\", \"2020-11-01\", \"2020-09-01\", \"2020-10-01\", \"2020-10-01\", \"2020-09-01\", \"2020-09-01\", \"2020-08-01\", \"2020-09-01\", \"2020-09-01\", \"2020-08-01\", \"2020-08-01\", \"2020-06-01\", \"2020-08-30\", \"2020-08-30\", \"2020-06-01\"], \"y\": [32.9, 32.9, 33.1, 33.1, null, 33.9, 33.9, 34.1, 34.1, null, 34.9, 34.9, 35.1, 35.1, null, 35.9, 35.9, 36.1, 36.1, null, 36.9, 36.9, 37.1, 37.1, null, 37.9, 37.9, 38.1, 38.1, null, 38.9, 38.9, 39.1, 39.1, null, 39.9, 39.9, 40.1, 40.1, null, 40.9, 40.9, 41.1, 41.1, null, 41.9, 41.9, 42.1, 42.1, null, 42.9, 42.9, 43.1, 43.1, null, 43.9, 43.9, 44.1, 44.1, null, 44.9, 44.9, 45.1, 45.1]}, {\"fill\": \"toself\", \"fillcolor\": \"rgb(153, 0, 153)\", \"hoverinfo\": \"name\", \"legendgroup\": \"rgb(153, 0, 153)\", \"mode\": \"none\", \"name\": \"Infra\", \"type\": \"scatter\", \"x\": [\"2020-09-01\", \"2020-10-01\", \"2020-10-01\", \"2020-09-01\", \"2020-09-01\", \"2020-02-01\", \"2020-08-30\", \"2020-08-30\", \"2020-02-01\", \"2020-02-01\", \"2020-05-01\", \"2020-06-01\", \"2020-06-01\", \"2020-05-01\"], \"y\": [14.9, 14.9, 15.1, 15.1, null, 15.9, 15.9, 16.1, 16.1, null, 16.9, 16.9, 17.1, 17.1]}, {\"fill\": \"toself\", \"fillcolor\": \"rgb(153, 102, 255)\", \"hoverinfo\": \"name\", \"legendgroup\": \"rgb(153, 102, 255)\", \"mode\": \"none\", \"name\": \"WavelengthCalibration\", \"type\": \"scatter\", \"x\": [\"2021-04-01\", \"2021-08-01\", \"2021-08-01\", \"2021-04-01\", \"2021-04-01\", \"2020-10-01\", \"2020-12-01\", \"2020-12-01\", \"2020-10-01\", \"2020-10-01\", \"2020-08-01\", \"2020-10-01\", \"2020-10-01\", \"2020-08-01\"], \"y\": [29.9, 29.9, 30.1, 30.1, null, 30.9, 30.9, 31.1, 31.1, null, 31.9, 31.9, 32.1, 32.1]}, {\"fill\": \"toself\", \"fillcolor\": \"rgb(204, 51, 255)\", \"hoverinfo\": \"name\", \"legendgroup\": \"rgb(204, 51, 255)\", \"mode\": \"none\", \"name\": \"Calibration\", \"type\": \"scatter\", \"x\": [\"2021-04-01\", \"2021-12-31\", \"2021-12-31\", \"2021-04-01\", \"2021-04-01\", \"2021-01-01\", \"2021-06-01\", \"2021-06-01\", \"2021-01-01\", \"2021-01-01\", \"2021-01-01\", \"2021-06-01\", \"2021-06-01\", \"2021-01-01\", \"2021-01-01\", \"2021-06-01\", \"2021-08-01\", \"2021-08-01\", \"2021-06-01\", \"2021-06-01\", \"2020-08-01\", \"2021-08-01\", \"2021-08-01\", \"2020-08-01\", \"2020-08-01\", \"2021-01-01\", \"2021-03-01\", \"2021-03-01\", \"2021-01-01\", \"2021-01-01\", \"2020-09-01\", \"2021-01-01\", \"2021-01-01\", \"2020-09-01\", \"2020-09-01\", \"2020-02-01\", \"2020-09-01\", \"2020-09-01\", \"2020-02-01\"], \"y\": [17.9, 17.9, 18.1, 18.1, null, 18.9, 18.9, 19.1, 19.1, null, 19.9, 19.9, 20.1, 20.1, null, 20.9, 20.9, 21.1, 21.1, null, 21.9, 21.9, 22.1, 22.1, null, 22.9, 22.9, 23.1, 23.1, null, 23.9, 23.9, 24.1, 24.1, null, 24.9, 24.9, 25.1, 25.1]}, {\"fill\": \"toself\", \"fillcolor\": \"rgb(230, 230, 0)\", \"hoverinfo\": \"name\", \"legendgroup\": \"rgb(230, 230, 0)\", \"mode\": \"none\", \"name\": \"Hardware\", \"type\": \"scatter\", \"x\": [\"2021-01-01\", \"2025-01-01\", \"2025-01-01\", \"2021-01-01\", \"2021-01-01\", \"2021-08-01\", \"2025-01-01\", \"2025-01-01\", \"2021-08-01\", \"2021-08-01\", \"2021-06-01\", \"2021-08-01\", \"2021-08-01\", \"2021-06-01\", \"2021-06-01\", \"2021-06-01\", \"2025-01-01\", \"2025-01-01\", \"2021-06-01\", \"2021-06-01\", \"2020-10-01\", \"2021-06-01\", \"2021-06-01\", \"2020-10-01\", \"2020-10-01\", \"2020-11-01\", \"2025-01-01\", \"2025-01-01\", \"2020-11-01\", \"2020-11-01\", \"2020-05-01\", \"2020-11-01\", \"2020-11-01\", \"2020-05-01\", \"2020-05-01\", \"2020-09-01\", \"2020-10-01\", \"2020-10-01\", \"2020-09-01\", \"2020-09-01\", \"2019-12-01\", \"2020-06-02\", \"2020-06-02\", \"2019-12-01\", \"2019-12-01\", \"2020-12-01\", \"2020-12-31\", \"2020-12-31\", \"2020-12-01\"], \"y\": [-0.1, -0.1, 0.1, 0.1, null, 0.9, 0.9, 1.1, 1.1, null, 1.9, 1.9, 2.1, 2.1, null, 2.9, 2.9, 3.1, 3.1, null, 3.9, 3.9, 4.1, 4.1, null, 4.9, 4.9, 5.1, 5.1, null, 5.9, 5.9, 6.1, 6.1, null, 6.9, 6.9, 7.1, 7.1, null, 7.9, 7.9, 8.1, 8.1, null, 8.9, 8.9, 9.1, 9.1]}, {\"fill\": \"toself\", \"fillcolor\": \"rgb(255, 51, 0)\", \"hoverinfo\": \"name\", \"legendgroup\": \"rgb(255, 51, 0)\", \"mode\": \"none\", \"name\": \"Project\", \"type\": \"scatter\", \"x\": [\"2023-02-01\", \"2025-01-01\", \"2025-01-01\", \"2023-02-01\", \"2023-02-01\", \"2022-08-01\", \"2022-09-01\", \"2022-09-01\", \"2022-08-01\", \"2022-08-01\", \"2022-10-01\", \"2022-10-01\", \"2022-10-01\", \"2022-10-01\", \"2022-10-01\", \"2022-04-01\", \"2022-05-01\", \"2022-05-01\", \"2022-04-01\", \"2022-04-01\", \"2021-06-01\", \"2023-01-30\", \"2023-01-30\", \"2021-06-01\"], \"y\": [9.9, 9.9, 10.1, 10.1, null, 10.9, 10.9, 11.1, 11.1, null, 11.9, 11.9, 12.1, 12.1, null, 12.9, 12.9, 13.1, 13.1, null, 13.9, 13.9, 14.1, 14.1]}, {\"fill\": \"toself\", \"fillcolor\": \"rgb(51, 153, 255)\", \"hoverinfo\": \"name\", \"legendgroup\": \"rgb(51, 153, 255)\", \"mode\": \"none\", \"name\": \"Sky\", \"type\": \"scatter\", \"x\": [\"2021-02-01\", \"2024-01-01\", \"2024-01-01\", \"2021-02-01\", \"2021-02-01\", \"2020-09-01\", \"2021-04-01\", \"2021-04-01\", \"2020-09-01\", \"2020-09-01\", \"2020-09-01\", \"2020-12-31\", \"2020-12-31\", \"2020-09-01\", \"2020-09-01\", \"2019-09-01\", \"2019-12-31\", \"2019-12-31\", \"2019-09-01\"], \"y\": [25.9, 25.9, 26.1, 26.1, null, 26.9, 26.9, 27.1, 27.1, null, 27.9, 27.9, 28.1, 28.1, null, 28.9, 28.9, 29.1, 29.1]}, {\"legendgroup\": \"rgb(102, 0, 255)\", \"marker\": {\"color\": \"rgb(102, 0, 255)\", \"opacity\": 0, \"size\": 1}, \"mode\": \"markers\", \"name\": \"\", \"showlegend\": false, \"text\": [null, null, null, null, null, null, null, null, null, null, null, null, null, null, null, null, null, null, null, null, null, null, null, null, null, null], \"type\": \"scatter\", \"x\": [\"2021-02-01\", \"2021-03-31\", \"2019-06-1\", \"2021-02-01\", \"2020-08-01\", \"2020-09-01\", \"2021-03-01\", \"2021-04-01\", \"2021-01-01\", \"2021-04-01\", \"2019-09-01\", \"2021-01-01\", \"2020-07-01\", \"2020-07-20\", \"2020-10-01\", \"2021-01-30\", \"2021-02-01\", \"2021-04-01\", \"2020-11-01\", \"2020-12-31\", \"2020-09-01\", \"2020-10-01\", \"2020-08-01\", \"2020-09-01\", \"2020-06-01\", \"2020-08-30\"], \"y\": [33, 33, 34, 34, 35, 35, 36, 36, 37, 37, 38, 38, 39, 39, 40, 40, 41, 41, 42, 42, 43, 43, 44, 44, 45, 45]}, {\"legendgroup\": \"rgb(153, 0, 153)\", \"marker\": {\"color\": \"rgb(153, 0, 153)\", \"opacity\": 0, \"size\": 1}, \"mode\": \"markers\", \"name\": \"\", \"showlegend\": false, \"text\": [null, null, null, null, null, null], \"type\": \"scatter\", \"x\": [\"2020-09-01\", \"2020-10-01\", \"2020-02-01\", \"2020-08-30\", \"2020-05-01\", \"2020-06-01\"], \"y\": [15, 15, 16, 16, 17, 17]}, {\"legendgroup\": \"rgb(153, 102, 255)\", \"marker\": {\"color\": \"rgb(153, 102, 255)\", \"opacity\": 0, \"size\": 1}, \"mode\": \"markers\", \"name\": \"\", \"showlegend\": false, \"text\": [null, null, null, null, null, null], \"type\": \"scatter\", \"x\": [\"2021-04-01\", \"2021-08-01\", \"2020-10-01\", \"2020-12-01\", \"2020-08-01\", \"2020-10-01\"], \"y\": [30, 30, 31, 31, 32, 32]}, {\"legendgroup\": \"rgb(204, 51, 255)\", \"marker\": {\"color\": \"rgb(204, 51, 255)\", \"opacity\": 0, \"size\": 1}, \"mode\": \"markers\", \"name\": \"\", \"showlegend\": false, \"text\": [null, null, null, null, null, null, null, null, null, null, null, null, null, null, null, null], \"type\": \"scatter\", \"x\": [\"2021-04-01\", \"2021-12-31\", \"2021-01-01\", \"2021-06-01\", \"2021-01-01\", \"2021-06-01\", \"2021-06-01\", \"2021-08-01\", \"2020-08-01\", \"2021-08-01\", \"2021-01-01\", \"2021-03-01\", \"2020-09-01\", \"2021-01-01\", \"2020-02-01\", \"2020-09-01\"], \"y\": [18, 18, 19, 19, 20, 20, 21, 21, 22, 22, 23, 23, 24, 24, 25, 25]}, {\"legendgroup\": \"rgb(230, 230, 0)\", \"marker\": {\"color\": \"rgb(230, 230, 0)\", \"opacity\": 0, \"size\": 1}, \"mode\": \"markers\", \"name\": \"\", \"showlegend\": false, \"text\": [null, null, null, null, null, null, null, null, null, null, null, null, null, null, null, null, null, null, null, null], \"type\": \"scatter\", \"x\": [\"2021-01-01\", \"2025-01-01\", \"2021-08-01\", \"2025-01-01\", \"2021-06-01\", \"2021-08-01\", \"2021-06-01\", \"2025-01-01\", \"2020-10-01\", \"2021-06-01\", \"2020-11-01\", \"2025-01-01\", \"2020-05-01\", \"2020-11-01\", \"2020-09-01\", \"2020-10-01\", \"2019-12-01\", \"2020-06-02\", \"2020-12-01\", \"2020-12-31\"], \"y\": [0, 0, 1, 1, 2, 2, 3, 3, 4, 4, 5, 5, 6, 6, 7, 7, 8, 8, 9, 9]}, {\"legendgroup\": \"rgb(255, 51, 0)\", \"marker\": {\"color\": \"rgb(255, 51, 0)\", \"opacity\": 0, \"size\": 1}, \"mode\": \"markers\", \"name\": \"\", \"showlegend\": false, \"text\": [null, null, null, null, null, null, null, null, null, null], \"type\": \"scatter\", \"x\": [\"2023-02-01\", \"2025-01-01\", \"2022-08-01\", \"2022-09-01\", \"2022-10-01\", \"2022-10-01\", \"2022-04-01\", \"2022-05-01\", \"2021-06-01\", \"2023-01-30\"], \"y\": [10, 10, 11, 11, 12, 12, 13, 13, 14, 14]}, {\"legendgroup\": \"rgb(51, 153, 255)\", \"marker\": {\"color\": \"rgb(51, 153, 255)\", \"opacity\": 0, \"size\": 1}, \"mode\": \"markers\", \"name\": \"\", \"showlegend\": false, \"text\": [null, null, null, null, null, null, null, null], \"type\": \"scatter\", \"x\": [\"2021-02-01\", \"2024-01-01\", \"2020-09-01\", \"2021-04-01\", \"2020-09-01\", \"2020-12-31\", \"2019-09-01\", \"2019-12-31\"], \"y\": [26, 26, 27, 27, 28, 28, 29, 29]}, {\"line\": {\"color\": \"gray\", \"width\": 1}, \"mode\": \"lines+text\", \"name\": \"R+B+N\", \"showlegend\": false, \"textposition\": \"bottom center\", \"type\": \"scatter\", \"x\": [\"2020-10-01\", \"2020-10-01\"], \"y\": [-1, 47]}, {\"line\": {\"color\": \"gray\", \"width\": 1}, \"mode\": \"lines+text\", \"name\": \"Eng Obs Start\", \"showlegend\": false, \"textposition\": \"bottom center\", \"type\": \"scatter\", \"x\": [\"2021-06-01\", \"2021-06-01\"], \"y\": [-1, 47]}, {\"line\": {\"color\": \"gray\", \"width\": 1}, \"mode\": \"lines+text\", \"name\": \"Eng Obs End\", \"showlegend\": false, \"textposition\": \"bottom center\", \"type\": \"scatter\", \"x\": [\"2023-01-30\", \"2023-01-30\"], \"y\": [-1, 47]}, {\"line\": {\"color\": \"gray\", \"width\": 1}, \"mode\": \"lines+text\", \"name\": \"Call for SSP\", \"showlegend\": false, \"textposition\": \"bottom center\", \"type\": \"scatter\", \"x\": [\"2022-04-01\", \"2022-04-01\"], \"y\": [-1, 47]}],\n",
       "                        {\"height\": 750, \"hovermode\": \"closest\", \"plot_bgcolor\": \"rgba(0,0,0, 0.1)\", \"showlegend\": false, \"template\": {\"data\": {\"bar\": [{\"error_x\": {\"color\": \"#2a3f5f\"}, \"error_y\": {\"color\": \"#2a3f5f\"}, \"marker\": {\"line\": {\"color\": \"#E5ECF6\", \"width\": 0.5}}, \"type\": \"bar\"}], \"barpolar\": [{\"marker\": {\"line\": {\"color\": \"#E5ECF6\", \"width\": 0.5}}, \"type\": \"barpolar\"}], \"carpet\": [{\"aaxis\": {\"endlinecolor\": \"#2a3f5f\", \"gridcolor\": \"white\", \"linecolor\": \"white\", \"minorgridcolor\": \"white\", \"startlinecolor\": \"#2a3f5f\"}, \"baxis\": {\"endlinecolor\": \"#2a3f5f\", \"gridcolor\": \"white\", \"linecolor\": \"white\", \"minorgridcolor\": \"white\", \"startlinecolor\": \"#2a3f5f\"}, \"type\": \"carpet\"}], \"choropleth\": [{\"colorbar\": {\"outlinewidth\": 0, \"ticks\": \"\"}, \"type\": \"choropleth\"}], \"contour\": [{\"colorbar\": {\"outlinewidth\": 0, \"ticks\": \"\"}, \"colorscale\": [[0.0, \"#0d0887\"], [0.1111111111111111, \"#46039f\"], [0.2222222222222222, \"#7201a8\"], [0.3333333333333333, \"#9c179e\"], [0.4444444444444444, \"#bd3786\"], [0.5555555555555556, \"#d8576b\"], [0.6666666666666666, \"#ed7953\"], [0.7777777777777778, \"#fb9f3a\"], [0.8888888888888888, \"#fdca26\"], [1.0, \"#f0f921\"]], \"type\": \"contour\"}], \"contourcarpet\": [{\"colorbar\": {\"outlinewidth\": 0, \"ticks\": \"\"}, \"type\": \"contourcarpet\"}], \"heatmap\": [{\"colorbar\": {\"outlinewidth\": 0, \"ticks\": \"\"}, \"colorscale\": [[0.0, \"#0d0887\"], [0.1111111111111111, \"#46039f\"], [0.2222222222222222, \"#7201a8\"], [0.3333333333333333, \"#9c179e\"], [0.4444444444444444, \"#bd3786\"], [0.5555555555555556, \"#d8576b\"], [0.6666666666666666, \"#ed7953\"], [0.7777777777777778, \"#fb9f3a\"], [0.8888888888888888, \"#fdca26\"], [1.0, \"#f0f921\"]], \"type\": \"heatmap\"}], \"heatmapgl\": [{\"colorbar\": {\"outlinewidth\": 0, \"ticks\": \"\"}, \"colorscale\": [[0.0, \"#0d0887\"], [0.1111111111111111, \"#46039f\"], [0.2222222222222222, \"#7201a8\"], [0.3333333333333333, \"#9c179e\"], [0.4444444444444444, \"#bd3786\"], [0.5555555555555556, \"#d8576b\"], [0.6666666666666666, \"#ed7953\"], [0.7777777777777778, \"#fb9f3a\"], [0.8888888888888888, \"#fdca26\"], [1.0, \"#f0f921\"]], \"type\": \"heatmapgl\"}], \"histogram\": [{\"marker\": {\"colorbar\": {\"outlinewidth\": 0, \"ticks\": \"\"}}, \"type\": \"histogram\"}], \"histogram2d\": [{\"colorbar\": {\"outlinewidth\": 0, \"ticks\": \"\"}, \"colorscale\": [[0.0, \"#0d0887\"], [0.1111111111111111, \"#46039f\"], [0.2222222222222222, \"#7201a8\"], [0.3333333333333333, \"#9c179e\"], [0.4444444444444444, \"#bd3786\"], [0.5555555555555556, \"#d8576b\"], [0.6666666666666666, \"#ed7953\"], [0.7777777777777778, \"#fb9f3a\"], [0.8888888888888888, \"#fdca26\"], [1.0, \"#f0f921\"]], \"type\": \"histogram2d\"}], \"histogram2dcontour\": [{\"colorbar\": {\"outlinewidth\": 0, \"ticks\": \"\"}, \"colorscale\": [[0.0, \"#0d0887\"], [0.1111111111111111, \"#46039f\"], [0.2222222222222222, \"#7201a8\"], [0.3333333333333333, \"#9c179e\"], [0.4444444444444444, \"#bd3786\"], [0.5555555555555556, \"#d8576b\"], [0.6666666666666666, \"#ed7953\"], [0.7777777777777778, \"#fb9f3a\"], [0.8888888888888888, \"#fdca26\"], [1.0, \"#f0f921\"]], \"type\": \"histogram2dcontour\"}], \"mesh3d\": [{\"colorbar\": {\"outlinewidth\": 0, \"ticks\": \"\"}, \"type\": \"mesh3d\"}], \"parcoords\": [{\"line\": {\"colorbar\": {\"outlinewidth\": 0, \"ticks\": \"\"}}, \"type\": \"parcoords\"}], \"pie\": [{\"automargin\": true, \"type\": \"pie\"}], \"scatter\": [{\"marker\": {\"colorbar\": {\"outlinewidth\": 0, \"ticks\": \"\"}}, \"type\": \"scatter\"}], \"scatter3d\": [{\"line\": {\"colorbar\": {\"outlinewidth\": 0, \"ticks\": \"\"}}, \"marker\": {\"colorbar\": {\"outlinewidth\": 0, \"ticks\": \"\"}}, \"type\": \"scatter3d\"}], \"scattercarpet\": [{\"marker\": {\"colorbar\": {\"outlinewidth\": 0, \"ticks\": \"\"}}, \"type\": \"scattercarpet\"}], \"scattergeo\": [{\"marker\": {\"colorbar\": {\"outlinewidth\": 0, \"ticks\": \"\"}}, \"type\": \"scattergeo\"}], \"scattergl\": [{\"marker\": {\"colorbar\": {\"outlinewidth\": 0, \"ticks\": \"\"}}, \"type\": \"scattergl\"}], \"scattermapbox\": [{\"marker\": {\"colorbar\": {\"outlinewidth\": 0, \"ticks\": \"\"}}, \"type\": \"scattermapbox\"}], \"scatterpolar\": [{\"marker\": {\"colorbar\": {\"outlinewidth\": 0, \"ticks\": \"\"}}, \"type\": \"scatterpolar\"}], \"scatterpolargl\": [{\"marker\": {\"colorbar\": {\"outlinewidth\": 0, \"ticks\": \"\"}}, \"type\": \"scatterpolargl\"}], \"scatterternary\": [{\"marker\": {\"colorbar\": {\"outlinewidth\": 0, \"ticks\": \"\"}}, \"type\": \"scatterternary\"}], \"surface\": [{\"colorbar\": {\"outlinewidth\": 0, \"ticks\": \"\"}, \"colorscale\": [[0.0, \"#0d0887\"], [0.1111111111111111, \"#46039f\"], [0.2222222222222222, \"#7201a8\"], [0.3333333333333333, \"#9c179e\"], [0.4444444444444444, \"#bd3786\"], [0.5555555555555556, \"#d8576b\"], [0.6666666666666666, \"#ed7953\"], [0.7777777777777778, \"#fb9f3a\"], [0.8888888888888888, \"#fdca26\"], [1.0, \"#f0f921\"]], \"type\": \"surface\"}], \"table\": [{\"cells\": {\"fill\": {\"color\": \"#EBF0F8\"}, \"line\": {\"color\": \"white\"}}, \"header\": {\"fill\": {\"color\": \"#C8D4E3\"}, \"line\": {\"color\": \"white\"}}, \"type\": \"table\"}]}, \"layout\": {\"annotationdefaults\": {\"arrowcolor\": \"#2a3f5f\", \"arrowhead\": 0, \"arrowwidth\": 1}, \"coloraxis\": {\"colorbar\": {\"outlinewidth\": 0, \"ticks\": \"\"}}, \"colorscale\": {\"diverging\": [[0, \"#8e0152\"], [0.1, \"#c51b7d\"], [0.2, \"#de77ae\"], [0.3, \"#f1b6da\"], [0.4, \"#fde0ef\"], [0.5, \"#f7f7f7\"], [0.6, \"#e6f5d0\"], [0.7, \"#b8e186\"], [0.8, \"#7fbc41\"], [0.9, \"#4d9221\"], [1, \"#276419\"]], \"sequential\": [[0.0, \"#0d0887\"], [0.1111111111111111, \"#46039f\"], [0.2222222222222222, \"#7201a8\"], [0.3333333333333333, \"#9c179e\"], [0.4444444444444444, \"#bd3786\"], [0.5555555555555556, \"#d8576b\"], [0.6666666666666666, \"#ed7953\"], [0.7777777777777778, \"#fb9f3a\"], [0.8888888888888888, \"#fdca26\"], [1.0, \"#f0f921\"]], \"sequentialminus\": [[0.0, \"#0d0887\"], [0.1111111111111111, \"#46039f\"], [0.2222222222222222, \"#7201a8\"], [0.3333333333333333, \"#9c179e\"], [0.4444444444444444, \"#bd3786\"], [0.5555555555555556, \"#d8576b\"], [0.6666666666666666, \"#ed7953\"], [0.7777777777777778, \"#fb9f3a\"], [0.8888888888888888, \"#fdca26\"], [1.0, \"#f0f921\"]]}, \"colorway\": [\"#636efa\", \"#EF553B\", \"#00cc96\", \"#ab63fa\", \"#FFA15A\", \"#19d3f3\", \"#FF6692\", \"#B6E880\", \"#FF97FF\", \"#FECB52\"], \"font\": {\"color\": \"#2a3f5f\"}, \"geo\": {\"bgcolor\": \"white\", \"lakecolor\": \"white\", \"landcolor\": \"#E5ECF6\", \"showlakes\": true, \"showland\": true, \"subunitcolor\": \"white\"}, \"hoverlabel\": {\"align\": \"left\"}, \"hovermode\": \"closest\", \"mapbox\": {\"style\": \"light\"}, \"paper_bgcolor\": \"white\", \"plot_bgcolor\": \"#E5ECF6\", \"polar\": {\"angularaxis\": {\"gridcolor\": \"white\", \"linecolor\": \"white\", \"ticks\": \"\"}, \"bgcolor\": \"#E5ECF6\", \"radialaxis\": {\"gridcolor\": \"white\", \"linecolor\": \"white\", \"ticks\": \"\"}}, \"scene\": {\"xaxis\": {\"backgroundcolor\": \"#E5ECF6\", \"gridcolor\": \"white\", \"gridwidth\": 2, \"linecolor\": \"white\", \"showbackground\": true, \"ticks\": \"\", \"zerolinecolor\": \"white\"}, \"yaxis\": {\"backgroundcolor\": \"#E5ECF6\", \"gridcolor\": \"white\", \"gridwidth\": 2, \"linecolor\": \"white\", \"showbackground\": true, \"ticks\": \"\", \"zerolinecolor\": \"white\"}, \"zaxis\": {\"backgroundcolor\": \"#E5ECF6\", \"gridcolor\": \"white\", \"gridwidth\": 2, \"linecolor\": \"white\", \"showbackground\": true, \"ticks\": \"\", \"zerolinecolor\": \"white\"}}, \"shapedefaults\": {\"line\": {\"color\": \"#2a3f5f\"}}, \"ternary\": {\"aaxis\": {\"gridcolor\": \"white\", \"linecolor\": \"white\", \"ticks\": \"\"}, \"baxis\": {\"gridcolor\": \"white\", \"linecolor\": \"white\", \"ticks\": \"\"}, \"bgcolor\": \"#E5ECF6\", \"caxis\": {\"gridcolor\": \"white\", \"linecolor\": \"white\", \"ticks\": \"\"}}, \"title\": {\"x\": 0.05}, \"xaxis\": {\"automargin\": true, \"gridcolor\": \"white\", \"linecolor\": \"white\", \"ticks\": \"\", \"title\": {\"standoff\": 15}, \"zerolinecolor\": \"white\", \"zerolinewidth\": 2}, \"yaxis\": {\"automargin\": true, \"gridcolor\": \"white\", \"linecolor\": \"white\", \"ticks\": \"\", \"title\": {\"standoff\": 15}, \"zerolinecolor\": \"white\", \"zerolinewidth\": 2}}}, \"title\": {\"text\": \"DRP Plan\"}, \"xaxis\": {\"rangeselector\": {\"buttons\": [{\"count\": 7, \"label\": \"1w\", \"step\": \"day\", \"stepmode\": \"backward\"}, {\"count\": 1, \"label\": \"1m\", \"step\": \"month\", \"stepmode\": \"backward\"}, {\"count\": 6, \"label\": \"6m\", \"step\": \"month\", \"stepmode\": \"backward\"}, {\"count\": 1, \"label\": \"YTD\", \"step\": \"year\", \"stepmode\": \"todate\"}, {\"count\": 1, \"label\": \"1y\", \"step\": \"year\", \"stepmode\": \"backward\"}, {\"step\": \"all\"}]}, \"showgrid\": true, \"type\": \"date\", \"zeroline\": false}, \"yaxis\": {\"autorange\": false, \"range\": [-1, 47], \"showgrid\": false, \"ticktext\": [\"PFI@Subaru\", \"SM4(B+R)@Subaru\", \"SM4(B+R)@LAM\", \"SM3(B+R+N)@Subaru\", \"SM3(B+R+N)@LAM\", \"SM2(B+R)@Subaru\", \"SM2(B+R)@LAM\", \"NCU1@LAM\", \"SM1(B+R)@Subaru\", \"First cable B@Subaru\", \"Science Operations\", \"Readiness review of inst for science\", \"End of SSP Proposal Review\", \"Call for SSP\", \"Start of engineering observations\", \"LSST gen3\", \"YAML pipeline config\", \"Arm merging (B+R/M+N)\", \"DCR\", \"CCD Brighter/Fatter\", \"CCD Crosstalk\", \"Quartz color filter calibration\", \"H4RG modelling\", \"Flux Calibration: f-star selection\", \"Flux Calibration: stellar typing\", \"Flux Calibration: interpolation\", \"Improved sky subtraction\", \"OH line modelling\", \"Telluric Correction\", \"Initial sky subtraction\", \"Improved wavelength soln (< 1 km/s)\", \"Improved wavelength soln (< 2-5 km/s)\", \"Consistent 2D model for detectormap\", \"Arc subtraction\", \"Arc line amplitude modelling\", \"Arc line intensity list\", \"FRD effect w/cobra movement\", \"FRD effect w/cable B\", \"FRD modelling\", \"FRD: metric for quantifying effect\", \"PSF modelling (N)\", \"PSF modelling (600 fibers)\", \"PSF: interpolate in zernike space\", \"PSF model self-consistent within same fiber\", \"PSF model (B detector modeling)\", \"PSF model self-consistent across defocuses\"], \"tickvals\": [0, 1, 2, 3, 4, 5, 6, 7, 8, 9, 10, 11, 12, 13, 14, 15, 16, 17, 18, 19, 20, 21, 22, 23, 24, 25, 26, 27, 28, 29, 30, 31, 32, 33, 34, 35, 36, 37, 38, 39, 40, 41, 42, 43, 44, 45], \"zeroline\": false}},\n",
       "                        {\"responsive\": true}\n",
       "                    ).then(function(){\n",
       "                            \n",
       "var gd = document.getElementById('454cd0dc-0567-4e38-aeb8-d6f076058b64');\n",
       "var x = new MutationObserver(function (mutations, observer) {{\n",
       "        var display = window.getComputedStyle(gd).display;\n",
       "        if (!display || display === 'none') {{\n",
       "            console.log([gd, 'removed!']);\n",
       "            Plotly.purge(gd);\n",
       "            observer.disconnect();\n",
       "        }}\n",
       "}});\n",
       "\n",
       "// Listen for the removal of the full notebook cells\n",
       "var notebookContainer = gd.closest('#notebook-container');\n",
       "if (notebookContainer) {{\n",
       "    x.observe(notebookContainer, {childList: true});\n",
       "}}\n",
       "\n",
       "// Listen for the clearing of the current output cell\n",
       "var outputEl = gd.closest('.output');\n",
       "if (outputEl) {{\n",
       "    x.observe(outputEl, {childList: true});\n",
       "}}\n",
       "\n",
       "                        })\n",
       "                };\n",
       "                });\n",
       "            </script>\n",
       "        </div>"
      ]
     },
     "metadata": {},
     "output_type": "display_data"
    }
   ],
   "source": [
    "# Load in CSV\n",
    "# Last row is usually plotted first, so reverse that.\n",
    "df = pd.read_csv('drp-plan.csv').applymap(lambda x: x.strip() if type(x)==str else x).iloc[::-1]\n",
    "\n",
    "for cat in set(df['Category']):\n",
    "    if cat not in catColors:\n",
    "        print(f'category {cat} is not in color mapping') \n",
    "\n",
    "arms_full = df[df['Task'] == 'SM3(B+R+N)@LAM']['Start'].values[0]\n",
    "engobs_start = df[df['Task'] == 'Start of engineering observations']['Start'].values[0]\n",
    "science_ops = df[df['Task'] ==  'Science Operations']['Start'].values[0]\n",
    "ssp_end = df[df['Task'] == 'Call for SSP']['Start'].values[0]\n",
    "\n",
    "fig = ff.create_gantt(df, colors=catColors, index_col='Category',\n",
    "                      show_colorbar=False, \n",
    "                      bar_width=0.1, \n",
    "                      showgrid_x=True, \n",
    "                      showgrid_y=False, \n",
    "                      title=\"DRP Plan\",\n",
    "                      height=750)\n",
    "fig.update_layout(plot_bgcolor='rgba(0,0,0, 0.1)')\n",
    "\n",
    "for mls_yr, mls_text in {arms_full: 'R+B+N', \n",
    "                 engobs_start: 'Eng Obs Start', \n",
    "                 engobs_end : 'Eng Obs End', \n",
    "                 ssp_end : 'Call for SSP'}.items():\n",
    "    fig.add_trace(\n",
    "        go.Scatter(\n",
    "            x = [mls_yr, mls_yr],\n",
    "            y = [-1, len(df.index) + 1],\n",
    "#            mode = \"lines\",\n",
    "            mode = \"lines+text\",\n",
    "            name = mls_text,\n",
    "            textposition = \"bottom center\",\n",
    "            line = go.scatter.Line(color = \"gray\", width = 1),\n",
    "            showlegend = False\n",
    "        )\n",
    "    )\n",
    "\n",
    "fig.show()"
   ]
  },
  {
   "cell_type": "code",
   "execution_count": 31,
   "metadata": {},
   "outputs": [
    {
     "data": {
      "text/html": [
       "<div>\n",
       "<style scoped>\n",
       "    .dataframe tbody tr th:only-of-type {\n",
       "        vertical-align: middle;\n",
       "    }\n",
       "\n",
       "    .dataframe tbody tr th {\n",
       "        vertical-align: top;\n",
       "    }\n",
       "\n",
       "    .dataframe thead th {\n",
       "        text-align: right;\n",
       "    }\n",
       "</style>\n",
       "<table border=\"1\" class=\"dataframe\">\n",
       "  <thead>\n",
       "    <tr style=\"text-align: right;\">\n",
       "      <th></th>\n",
       "      <th>Task</th>\n",
       "      <th>Start</th>\n",
       "      <th>Finish</th>\n",
       "      <th>Complete</th>\n",
       "      <th>Category</th>\n",
       "    </tr>\n",
       "  </thead>\n",
       "  <tbody>\n",
       "    <tr>\n",
       "      <th>40</th>\n",
       "      <td>PFI@Subaru</td>\n",
       "      <td>2021-01-01</td>\n",
       "      <td>2025-01-01</td>\n",
       "      <td>0</td>\n",
       "      <td>Hardware</td>\n",
       "    </tr>\n",
       "    <tr>\n",
       "      <th>39</th>\n",
       "      <td>SM4(B+R)@Subaru</td>\n",
       "      <td>2021-08-01</td>\n",
       "      <td>2025-01-01</td>\n",
       "      <td>0</td>\n",
       "      <td>Hardware</td>\n",
       "    </tr>\n",
       "    <tr>\n",
       "      <th>38</th>\n",
       "      <td>SM4(B+R)@LAM</td>\n",
       "      <td>2021-06-01</td>\n",
       "      <td>2021-08-01</td>\n",
       "      <td>0</td>\n",
       "      <td>Hardware</td>\n",
       "    </tr>\n",
       "    <tr>\n",
       "      <th>37</th>\n",
       "      <td>SM3(B+R+N)@Subaru</td>\n",
       "      <td>2021-06-01</td>\n",
       "      <td>2025-01-01</td>\n",
       "      <td>0</td>\n",
       "      <td>Hardware</td>\n",
       "    </tr>\n",
       "    <tr>\n",
       "      <th>36</th>\n",
       "      <td>SM3(B+R+N)@LAM</td>\n",
       "      <td>2020-10-01</td>\n",
       "      <td>2021-06-01</td>\n",
       "      <td>0</td>\n",
       "      <td>Hardware</td>\n",
       "    </tr>\n",
       "    <tr>\n",
       "      <th>35</th>\n",
       "      <td>SM2(B+R)@Subaru</td>\n",
       "      <td>2020-11-01</td>\n",
       "      <td>2025-01-01</td>\n",
       "      <td>0</td>\n",
       "      <td>Hardware</td>\n",
       "    </tr>\n",
       "    <tr>\n",
       "      <th>34</th>\n",
       "      <td>SM2(B+R)@LAM</td>\n",
       "      <td>2020-05-01</td>\n",
       "      <td>2020-11-01</td>\n",
       "      <td>0</td>\n",
       "      <td>Hardware</td>\n",
       "    </tr>\n",
       "    <tr>\n",
       "      <th>33</th>\n",
       "      <td>NCU1@LAM</td>\n",
       "      <td>2020-09-01</td>\n",
       "      <td>2020-10-01</td>\n",
       "      <td>0</td>\n",
       "      <td>Hardware</td>\n",
       "    </tr>\n",
       "    <tr>\n",
       "      <th>32</th>\n",
       "      <td>SM1(B+R)@Subaru</td>\n",
       "      <td>2019-12-01</td>\n",
       "      <td>2020-06-02</td>\n",
       "      <td>0</td>\n",
       "      <td>Hardware</td>\n",
       "    </tr>\n",
       "    <tr>\n",
       "      <th>31</th>\n",
       "      <td>First cable B@Subaru</td>\n",
       "      <td>2020-12-01</td>\n",
       "      <td>2020-12-31</td>\n",
       "      <td>0</td>\n",
       "      <td>Hardware</td>\n",
       "    </tr>\n",
       "    <tr>\n",
       "      <th>30</th>\n",
       "      <td>Science Operations</td>\n",
       "      <td>2023-02-01</td>\n",
       "      <td>2025-01-01</td>\n",
       "      <td>0</td>\n",
       "      <td>Project</td>\n",
       "    </tr>\n",
       "    <tr>\n",
       "      <th>29</th>\n",
       "      <td>Readiness review of inst for science</td>\n",
       "      <td>2022-08-01</td>\n",
       "      <td>2022-09-01</td>\n",
       "      <td>0</td>\n",
       "      <td>Project</td>\n",
       "    </tr>\n",
       "    <tr>\n",
       "      <th>28</th>\n",
       "      <td>End of SSP Proposal Review</td>\n",
       "      <td>2022-10-01</td>\n",
       "      <td>2022-10-01</td>\n",
       "      <td>0</td>\n",
       "      <td>Project</td>\n",
       "    </tr>\n",
       "    <tr>\n",
       "      <th>27</th>\n",
       "      <td>Call for SSP</td>\n",
       "      <td>2022-04-01</td>\n",
       "      <td>2022-05-01</td>\n",
       "      <td>0</td>\n",
       "      <td>Project</td>\n",
       "    </tr>\n",
       "    <tr>\n",
       "      <th>26</th>\n",
       "      <td>Start of engineering observations</td>\n",
       "      <td>2021-06-01</td>\n",
       "      <td>2023-01-30</td>\n",
       "      <td>0</td>\n",
       "      <td>Project</td>\n",
       "    </tr>\n",
       "    <tr>\n",
       "      <th>25</th>\n",
       "      <td>Sky exposures</td>\n",
       "      <td>2021-02-01</td>\n",
       "      <td>2025-01-01</td>\n",
       "      <td>0</td>\n",
       "      <td>Project</td>\n",
       "    </tr>\n",
       "    <tr>\n",
       "      <th>24</th>\n",
       "      <td>LSST gen3</td>\n",
       "      <td>2020-09-01</td>\n",
       "      <td>2020-10-01</td>\n",
       "      <td>0</td>\n",
       "      <td>Infra</td>\n",
       "    </tr>\n",
       "    <tr>\n",
       "      <th>23</th>\n",
       "      <td>YAML pipeline config</td>\n",
       "      <td>2020-02-01</td>\n",
       "      <td>2020-08-30</td>\n",
       "      <td>0</td>\n",
       "      <td>Infra</td>\n",
       "    </tr>\n",
       "    <tr>\n",
       "      <th>22</th>\n",
       "      <td>Arm merging (B+R/M+N)</td>\n",
       "      <td>2020-05-01</td>\n",
       "      <td>2020-06-01</td>\n",
       "      <td>0</td>\n",
       "      <td>Infra</td>\n",
       "    </tr>\n",
       "    <tr>\n",
       "      <th>21</th>\n",
       "      <td>DCR</td>\n",
       "      <td>2021-04-01</td>\n",
       "      <td>2021-12-31</td>\n",
       "      <td>0</td>\n",
       "      <td>Calibration</td>\n",
       "    </tr>\n",
       "    <tr>\n",
       "      <th>20</th>\n",
       "      <td>CCD Crosstalk</td>\n",
       "      <td>2021-01-01</td>\n",
       "      <td>2021-06-01</td>\n",
       "      <td>0</td>\n",
       "      <td>Calibration</td>\n",
       "    </tr>\n",
       "    <tr>\n",
       "      <th>19</th>\n",
       "      <td>Flux Calibration</td>\n",
       "      <td>2020-02-01</td>\n",
       "      <td>2021-06-01</td>\n",
       "      <td>0</td>\n",
       "      <td>Calibration</td>\n",
       "    </tr>\n",
       "    <tr>\n",
       "      <th>18</th>\n",
       "      <td>H4RG modelling</td>\n",
       "      <td>2020-08-01</td>\n",
       "      <td>2021-08-01</td>\n",
       "      <td>0</td>\n",
       "      <td>Calibration</td>\n",
       "    </tr>\n",
       "    <tr>\n",
       "      <th>17</th>\n",
       "      <td>Improved sky subtraction</td>\n",
       "      <td>2021-02-01</td>\n",
       "      <td>2024-01-01</td>\n",
       "      <td>0</td>\n",
       "      <td>Sky</td>\n",
       "    </tr>\n",
       "    <tr>\n",
       "      <th>16</th>\n",
       "      <td>OH line modelling</td>\n",
       "      <td>2020-09-01</td>\n",
       "      <td>2021-04-01</td>\n",
       "      <td>0</td>\n",
       "      <td>Sky</td>\n",
       "    </tr>\n",
       "    <tr>\n",
       "      <th>15</th>\n",
       "      <td>Telluric Correction</td>\n",
       "      <td>2020-09-01</td>\n",
       "      <td>2020-12-31</td>\n",
       "      <td>0</td>\n",
       "      <td>Sky</td>\n",
       "    </tr>\n",
       "    <tr>\n",
       "      <th>14</th>\n",
       "      <td>Initial sky subtraction</td>\n",
       "      <td>2019-09-01</td>\n",
       "      <td>2019-12-31</td>\n",
       "      <td>0</td>\n",
       "      <td>Sky</td>\n",
       "    </tr>\n",
       "    <tr>\n",
       "      <th>13</th>\n",
       "      <td>Improved wavelength soln (&lt; 1 km/s)</td>\n",
       "      <td>2021-04-01</td>\n",
       "      <td>2021-08-01</td>\n",
       "      <td>0</td>\n",
       "      <td>WavelengthCalibration</td>\n",
       "    </tr>\n",
       "    <tr>\n",
       "      <th>12</th>\n",
       "      <td>Improved wavelength soln (&lt; 2-5 km/s)</td>\n",
       "      <td>2020-10-01</td>\n",
       "      <td>2020-12-01</td>\n",
       "      <td>0</td>\n",
       "      <td>WavelengthCalibration</td>\n",
       "    </tr>\n",
       "    <tr>\n",
       "      <th>11</th>\n",
       "      <td>Consistent 2D model for detectormap</td>\n",
       "      <td>2020-08-01</td>\n",
       "      <td>2020-10-01</td>\n",
       "      <td>0</td>\n",
       "      <td>WavelengthCalibration</td>\n",
       "    </tr>\n",
       "    <tr>\n",
       "      <th>10</th>\n",
       "      <td>Arc subtraction</td>\n",
       "      <td>2020-09-01</td>\n",
       "      <td>2020-10-01</td>\n",
       "      <td>0</td>\n",
       "      <td>PSF</td>\n",
       "    </tr>\n",
       "    <tr>\n",
       "      <th>9</th>\n",
       "      <td>Arc line intensity modelling</td>\n",
       "      <td>2019-06-1</td>\n",
       "      <td>2021-02-01</td>\n",
       "      <td>0</td>\n",
       "      <td>PSF</td>\n",
       "    </tr>\n",
       "    <tr>\n",
       "      <th>8</th>\n",
       "      <td>FRD effect w/cobra movement</td>\n",
       "      <td>2021-03-01</td>\n",
       "      <td>2021-04-01</td>\n",
       "      <td>0</td>\n",
       "      <td>PSF</td>\n",
       "    </tr>\n",
       "    <tr>\n",
       "      <th>7</th>\n",
       "      <td>FRD effect w/cable B</td>\n",
       "      <td>2021-01-01</td>\n",
       "      <td>2021-04-01</td>\n",
       "      <td>0</td>\n",
       "      <td>PSF</td>\n",
       "    </tr>\n",
       "    <tr>\n",
       "      <th>6</th>\n",
       "      <td>FRD modelling</td>\n",
       "      <td>2019-09-01</td>\n",
       "      <td>2021-01-01</td>\n",
       "      <td>0</td>\n",
       "      <td>PSF</td>\n",
       "    </tr>\n",
       "    <tr>\n",
       "      <th>5</th>\n",
       "      <td>FRD: metric for quantifying effect</td>\n",
       "      <td>2020-07-01</td>\n",
       "      <td>2020-07-20</td>\n",
       "      <td>0</td>\n",
       "      <td>PSF</td>\n",
       "    </tr>\n",
       "    <tr>\n",
       "      <th>4</th>\n",
       "      <td>PSF modelling (N)</td>\n",
       "      <td>2020-10-01</td>\n",
       "      <td>2021-01-30</td>\n",
       "      <td>0</td>\n",
       "      <td>PSF</td>\n",
       "    </tr>\n",
       "    <tr>\n",
       "      <th>3</th>\n",
       "      <td>PSF modelling (600 fibers)</td>\n",
       "      <td>2021-02-01</td>\n",
       "      <td>2021-04-01</td>\n",
       "      <td>0</td>\n",
       "      <td>PSF</td>\n",
       "    </tr>\n",
       "    <tr>\n",
       "      <th>2</th>\n",
       "      <td>PSF: interpolate in zernike space</td>\n",
       "      <td>2020-11-01</td>\n",
       "      <td>2020-12-31</td>\n",
       "      <td>PSF</td>\n",
       "      <td>NaN</td>\n",
       "    </tr>\n",
       "    <tr>\n",
       "      <th>1</th>\n",
       "      <td>PSF model self-consistent within same fiber</td>\n",
       "      <td>2020-09-01</td>\n",
       "      <td>2020-10-01</td>\n",
       "      <td>0</td>\n",
       "      <td>PSF</td>\n",
       "    </tr>\n",
       "    <tr>\n",
       "      <th>0</th>\n",
       "      <td>PSF model self-consistent across defocuses</td>\n",
       "      <td>2020-06-01</td>\n",
       "      <td>2020-08-30</td>\n",
       "      <td>0</td>\n",
       "      <td>PSF</td>\n",
       "    </tr>\n",
       "  </tbody>\n",
       "</table>\n",
       "</div>"
      ],
      "text/plain": [
       "                                           Task       Start      Finish  \\\n",
       "40                                   PFI@Subaru  2021-01-01  2025-01-01   \n",
       "39                              SM4(B+R)@Subaru  2021-08-01  2025-01-01   \n",
       "38                                 SM4(B+R)@LAM  2021-06-01  2021-08-01   \n",
       "37                            SM3(B+R+N)@Subaru  2021-06-01  2025-01-01   \n",
       "36                               SM3(B+R+N)@LAM  2020-10-01  2021-06-01   \n",
       "35                              SM2(B+R)@Subaru  2020-11-01  2025-01-01   \n",
       "34                                 SM2(B+R)@LAM  2020-05-01  2020-11-01   \n",
       "33                                     NCU1@LAM  2020-09-01  2020-10-01   \n",
       "32                              SM1(B+R)@Subaru  2019-12-01  2020-06-02   \n",
       "31                         First cable B@Subaru  2020-12-01  2020-12-31   \n",
       "30                           Science Operations  2023-02-01  2025-01-01   \n",
       "29         Readiness review of inst for science  2022-08-01  2022-09-01   \n",
       "28                   End of SSP Proposal Review  2022-10-01  2022-10-01   \n",
       "27                                 Call for SSP  2022-04-01  2022-05-01   \n",
       "26            Start of engineering observations  2021-06-01  2023-01-30   \n",
       "25                                Sky exposures  2021-02-01  2025-01-01   \n",
       "24                                    LSST gen3  2020-09-01  2020-10-01   \n",
       "23                         YAML pipeline config  2020-02-01  2020-08-30   \n",
       "22                        Arm merging (B+R/M+N)  2020-05-01  2020-06-01   \n",
       "21                                          DCR  2021-04-01  2021-12-31   \n",
       "20                                CCD Crosstalk  2021-01-01  2021-06-01   \n",
       "19                             Flux Calibration  2020-02-01  2021-06-01   \n",
       "18                               H4RG modelling  2020-08-01  2021-08-01   \n",
       "17                     Improved sky subtraction  2021-02-01  2024-01-01   \n",
       "16                            OH line modelling  2020-09-01  2021-04-01   \n",
       "15                          Telluric Correction  2020-09-01  2020-12-31   \n",
       "14                      Initial sky subtraction  2019-09-01  2019-12-31   \n",
       "13          Improved wavelength soln (< 1 km/s)  2021-04-01  2021-08-01   \n",
       "12        Improved wavelength soln (< 2-5 km/s)  2020-10-01  2020-12-01   \n",
       "11          Consistent 2D model for detectormap  2020-08-01  2020-10-01   \n",
       "10                              Arc subtraction  2020-09-01  2020-10-01   \n",
       "9                  Arc line intensity modelling   2019-06-1  2021-02-01   \n",
       "8                   FRD effect w/cobra movement  2021-03-01  2021-04-01   \n",
       "7                          FRD effect w/cable B  2021-01-01  2021-04-01   \n",
       "6                                 FRD modelling  2019-09-01  2021-01-01   \n",
       "5            FRD: metric for quantifying effect  2020-07-01  2020-07-20   \n",
       "4                             PSF modelling (N)  2020-10-01  2021-01-30   \n",
       "3                    PSF modelling (600 fibers)  2021-02-01  2021-04-01   \n",
       "2             PSF: interpolate in zernike space  2020-11-01  2020-12-31   \n",
       "1   PSF model self-consistent within same fiber  2020-09-01  2020-10-01   \n",
       "0    PSF model self-consistent across defocuses  2020-06-01  2020-08-30   \n",
       "\n",
       "   Complete               Category  \n",
       "40        0               Hardware  \n",
       "39        0               Hardware  \n",
       "38        0               Hardware  \n",
       "37        0               Hardware  \n",
       "36        0               Hardware  \n",
       "35        0               Hardware  \n",
       "34        0               Hardware  \n",
       "33        0               Hardware  \n",
       "32        0               Hardware  \n",
       "31        0               Hardware  \n",
       "30        0                Project  \n",
       "29        0                Project  \n",
       "28        0                Project  \n",
       "27        0                Project  \n",
       "26        0                Project  \n",
       "25        0                Project  \n",
       "24        0                  Infra  \n",
       "23        0                  Infra  \n",
       "22        0                  Infra  \n",
       "21        0            Calibration  \n",
       "20        0            Calibration  \n",
       "19        0            Calibration  \n",
       "18        0            Calibration  \n",
       "17        0                    Sky  \n",
       "16        0                    Sky  \n",
       "15        0                    Sky  \n",
       "14        0                    Sky  \n",
       "13        0  WavelengthCalibration  \n",
       "12        0  WavelengthCalibration  \n",
       "11        0  WavelengthCalibration  \n",
       "10        0                    PSF  \n",
       "9         0                    PSF  \n",
       "8         0                    PSF  \n",
       "7         0                    PSF  \n",
       "6         0                    PSF  \n",
       "5         0                    PSF  \n",
       "4         0                    PSF  \n",
       "3         0                    PSF  \n",
       "2       PSF                    NaN  \n",
       "1         0                    PSF  \n",
       "0         0                    PSF  "
      ]
     },
     "execution_count": 31,
     "metadata": {},
     "output_type": "execute_result"
    }
   ],
   "source": [
    "df"
   ]
  },
  {
   "cell_type": "code",
   "execution_count": null,
   "metadata": {},
   "outputs": [],
   "source": []
  }
 ],
 "metadata": {
  "kernelspec": {
   "display_name": "Python 3",
   "language": "python",
   "name": "python3"
  },
  "language_info": {
   "codemirror_mode": {
    "name": "ipython",
    "version": 3
   },
   "file_extension": ".py",
   "mimetype": "text/x-python",
   "name": "python",
   "nbconvert_exporter": "python",
   "pygments_lexer": "ipython3",
   "version": "3.7.2"
  }
 },
 "nbformat": 4,
 "nbformat_minor": 2
}
