{
 "cells": [
  {
   "cell_type": "code",
   "execution_count": 23,
   "metadata": {},
   "outputs": [],
   "source": [
    "import plotly.figure_factory as ff\n",
    "import pandas as pd\n",
    "import random\n",
    "import plotly.graph_objects as go"
   ]
  },
  {
   "cell_type": "code",
   "execution_count": 24,
   "metadata": {},
   "outputs": [],
   "source": [
    "catColors = dict(Project='rgb(255, 51, 0)', \n",
    "                 Hardware='rgb(230, 230, 0)', \n",
    "                 Sky='rgb(51, 153, 255)', \n",
    "                 PSF='rgb(102, 0, 255)', \n",
    "                 WavelengthCalibration='rgb(153, 102, 255)', \n",
    "                 Calibration='rgb(204, 51, 255)')"
   ]
  },
  {
   "cell_type": "code",
   "execution_count": 88,
   "metadata": {},
   "outputs": [],
   "source": [
    "df = pd.read_csv('drp-plan.csv').applymap(lambda x: x.strip() if type(x)==str else x)"
   ]
  },
  {
   "cell_type": "code",
   "execution_count": 89,
   "metadata": {},
   "outputs": [],
   "source": [
    "for cat in set(df['Category']):\n",
    "    if cat not in catColors:\n",
    "        print(f'category {cat} is not in color mapping') "
   ]
  },
  {
   "cell_type": "code",
   "execution_count": 90,
   "metadata": {},
   "outputs": [],
   "source": [
    "arms_full = df[df['Task'] == 'SM3(B+R+N)@LAM']['Start'].values[0]\n",
    "commissioning_start = df[df['Task'] == 'Commissioning']['Start'].values[0]\n",
    "commissioning_end = df[df['Task'] == 'Commissioning']['Finish'].values[0]"
   ]
  },
  {
   "cell_type": "code",
   "execution_count": 91,
   "metadata": {},
   "outputs": [
    {
     "data": {
      "application/vnd.plotly.v1+json": {
       "config": {
        "plotlyServerURL": "https://plotly.com"
       },
       "data": [
        {
         "fill": "toself",
         "fillcolor": "rgb(102, 0, 255)",
         "hoverinfo": "name",
         "legendgroup": "rgb(102, 0, 255)",
         "mode": "none",
         "name": "PSF",
         "type": "scatter",
         "x": [
          "2020-05-01",
          "2020-8-30",
          "2020-8-30",
          "2020-05-01",
          "2020-05-01",
          "2020-10-01",
          "2021-01-30",
          "2021-01-30",
          "2020-10-01",
          "2020-10-01",
          "2019-09-01",
          "2021-06-01",
          "2021-06-01",
          "2019-09-01"
         ],
         "y": [
          12.95,
          12.95,
          13.05,
          13.05,
          null,
          13.95,
          13.95,
          14.05,
          14.05,
          null,
          14.95,
          14.95,
          15.05,
          15.05
         ]
        },
        {
         "fill": "toself",
         "fillcolor": "rgb(153, 102, 255)",
         "hoverinfo": "name",
         "legendgroup": "rgb(153, 102, 255)",
         "mode": "none",
         "name": "WavelengthCalibration",
         "type": "scatter",
         "x": [
          "2020-06-01",
          "2020-12-01",
          "2020-12-01",
          "2020-06-01",
          "2020-06-01",
          "2021-04-01",
          "2021-08-01",
          "2021-08-01",
          "2021-04-01"
         ],
         "y": [
          15.95,
          15.95,
          16.05,
          16.05,
          null,
          16.95,
          16.95,
          17.05,
          17.05
         ]
        },
        {
         "fill": "toself",
         "fillcolor": "rgb(204, 51, 255)",
         "hoverinfo": "name",
         "legendgroup": "rgb(204, 51, 255)",
         "mode": "none",
         "name": "Calibration",
         "type": "scatter",
         "x": [
          "2020-08-01",
          "2021-05-01",
          "2021-05-01",
          "2020-08-01",
          "2020-08-01",
          "2020-02-01",
          "2021-06-01",
          "2021-06-01",
          "2020-02-01",
          "2020-02-01",
          "2021-04-01",
          "2021-12-31",
          "2021-12-31",
          "2021-04-01",
          "2021-04-01",
          "2021-01-01",
          "2021-06-01",
          "2021-06-01",
          "2021-01-01"
         ],
         "y": [
          20.95,
          20.95,
          21.05,
          21.05,
          null,
          21.95,
          21.95,
          22.05,
          22.05,
          null,
          22.95,
          22.95,
          23.05,
          23.05,
          null,
          23.95,
          23.95,
          24.05,
          24.05
         ]
        },
        {
         "fill": "toself",
         "fillcolor": "rgb(230, 230, 0)",
         "hoverinfo": "name",
         "legendgroup": "rgb(230, 230, 0)",
         "mode": "none",
         "name": "Hardware",
         "type": "scatter",
         "x": [
          "2019-12-01",
          "2020-06-02",
          "2020-06-02",
          "2019-12-01",
          "2019-12-01",
          "2020-05-01",
          "2020-12-31",
          "2020-12-31",
          "2020-05-01",
          "2020-05-01",
          "2020-12-01",
          "2025-01-01",
          "2025-01-01",
          "2020-12-01",
          "2020-12-01",
          "2020-10-01",
          "2021-06-01",
          "2021-06-01",
          "2020-10-01",
          "2020-10-01",
          "2020-09-01",
          "2020-10-01",
          "2020-10-01",
          "2020-09-01",
          "2020-09-01",
          "2020-10-01",
          "2021-06-01",
          "2021-06-01",
          "2020-10-01",
          "2020-10-01",
          "2021-06-01",
          "2025-01-01",
          "2025-01-01",
          "2021-06-01",
          "2021-06-01",
          "2021-06-01",
          "2021-12-01",
          "2021-12-01",
          "2021-06-01",
          "2021-06-01",
          "2021-12-01",
          "2022-06-01",
          "2022-06-01",
          "2021-12-01",
          "2021-12-01",
          "2020-12-01",
          "2025-01-01",
          "2025-01-01",
          "2020-12-01"
         ],
         "y": [
          2.95,
          2.95,
          3.05,
          3.05,
          null,
          3.95,
          3.95,
          4.05,
          4.05,
          null,
          4.95,
          4.95,
          5.05,
          5.05,
          null,
          5.95,
          5.95,
          6.05,
          6.05,
          null,
          6.95,
          6.95,
          7.05,
          7.05,
          null,
          7.95,
          7.95,
          8.05,
          8.05,
          null,
          8.95,
          8.95,
          9.05,
          9.05,
          null,
          9.95,
          9.95,
          10.05,
          10.05,
          null,
          10.95,
          10.95,
          11.05,
          11.05,
          null,
          11.95,
          11.95,
          12.05,
          12.05
         ]
        },
        {
         "fill": "toself",
         "fillcolor": "rgb(255, 51, 0)",
         "hoverinfo": "name",
         "legendgroup": "rgb(255, 51, 0)",
         "mode": "none",
         "name": "Project",
         "type": "scatter",
         "x": [
          "2022-06-01",
          "2025-01-01",
          "2025-01-01",
          "2022-06-01",
          "2022-06-01",
          "2021-02-01",
          "2022-06-01",
          "2022-06-01",
          "2021-02-01",
          "2021-02-01",
          "2021-01-01",
          "2025-01-01",
          "2025-01-01",
          "2021-01-01"
         ],
         "y": [
          -0.05,
          -0.05,
          0.05,
          0.05,
          null,
          0.95,
          0.95,
          1.05,
          1.05,
          null,
          1.95,
          1.95,
          2.05,
          2.05
         ]
        },
        {
         "fill": "toself",
         "fillcolor": "rgb(51, 153, 255)",
         "hoverinfo": "name",
         "legendgroup": "rgb(51, 153, 255)",
         "mode": "none",
         "name": "Sky",
         "type": "scatter",
         "x": [
          "2020-09-01",
          "2020-12-31",
          "2020-12-31",
          "2020-09-01",
          "2020-09-01",
          "2020-09-01",
          "2021-04-01",
          "2021-04-01",
          "2020-09-01",
          "2020-09-01",
          "2021-02-01",
          "2020-05-01",
          "2020-05-01",
          "2021-02-01"
         ],
         "y": [
          17.95,
          17.95,
          18.05,
          18.05,
          null,
          18.95,
          18.95,
          19.05,
          19.05,
          null,
          19.95,
          19.95,
          20.05,
          20.05
         ]
        },
        {
         "legendgroup": "rgb(102, 0, 255)",
         "marker": {
          "color": "rgb(102, 0, 255)",
          "opacity": 0,
          "size": 1
         },
         "mode": "markers",
         "name": "",
         "showlegend": false,
         "text": [
          null,
          null,
          null,
          null,
          null,
          null
         ],
         "type": "scatter",
         "x": [
          "2020-05-01",
          "2020-8-30",
          "2020-10-01",
          "2021-01-30",
          "2019-09-01",
          "2021-06-01"
         ],
         "y": [
          13,
          13,
          14,
          14,
          15,
          15
         ]
        },
        {
         "legendgroup": "rgb(153, 102, 255)",
         "marker": {
          "color": "rgb(153, 102, 255)",
          "opacity": 0,
          "size": 1
         },
         "mode": "markers",
         "name": "",
         "showlegend": false,
         "text": [
          null,
          null,
          null,
          null
         ],
         "type": "scatter",
         "x": [
          "2020-06-01",
          "2020-12-01",
          "2021-04-01",
          "2021-08-01"
         ],
         "y": [
          16,
          16,
          17,
          17
         ]
        },
        {
         "legendgroup": "rgb(204, 51, 255)",
         "marker": {
          "color": "rgb(204, 51, 255)",
          "opacity": 0,
          "size": 1
         },
         "mode": "markers",
         "name": "",
         "showlegend": false,
         "text": [
          null,
          null,
          null,
          null,
          null,
          null,
          null,
          null
         ],
         "type": "scatter",
         "x": [
          "2020-08-01",
          "2021-05-01",
          "2020-02-01",
          "2021-06-01",
          "2021-04-01",
          "2021-12-31",
          "2021-01-01",
          "2021-06-01"
         ],
         "y": [
          21,
          21,
          22,
          22,
          23,
          23,
          24,
          24
         ]
        },
        {
         "legendgroup": "rgb(230, 230, 0)",
         "marker": {
          "color": "rgb(230, 230, 0)",
          "opacity": 0,
          "size": 1
         },
         "mode": "markers",
         "name": "",
         "showlegend": false,
         "text": [
          null,
          null,
          null,
          null,
          null,
          null,
          null,
          null,
          null,
          null,
          null,
          null,
          null,
          null,
          null,
          null,
          null,
          null,
          null,
          null
         ],
         "type": "scatter",
         "x": [
          "2019-12-01",
          "2020-06-02",
          "2020-05-01",
          "2020-12-31",
          "2020-12-01",
          "2025-01-01",
          "2020-10-01",
          "2021-06-01",
          "2020-09-01",
          "2020-10-01",
          "2020-10-01",
          "2021-06-01",
          "2021-06-01",
          "2025-01-01",
          "2021-06-01",
          "2021-12-01",
          "2021-12-01",
          "2022-06-01",
          "2020-12-01",
          "2025-01-01"
         ],
         "y": [
          3,
          3,
          4,
          4,
          5,
          5,
          6,
          6,
          7,
          7,
          8,
          8,
          9,
          9,
          10,
          10,
          11,
          11,
          12,
          12
         ]
        },
        {
         "legendgroup": "rgb(255, 51, 0)",
         "marker": {
          "color": "rgb(255, 51, 0)",
          "opacity": 0,
          "size": 1
         },
         "mode": "markers",
         "name": "",
         "showlegend": false,
         "text": [
          null,
          null,
          null,
          null,
          null,
          null
         ],
         "type": "scatter",
         "x": [
          "2022-06-01",
          "2025-01-01",
          "2021-02-01",
          "2022-06-01",
          "2021-01-01",
          "2025-01-01"
         ],
         "y": [
          0,
          0,
          1,
          1,
          2,
          2
         ]
        },
        {
         "legendgroup": "rgb(51, 153, 255)",
         "marker": {
          "color": "rgb(51, 153, 255)",
          "opacity": 0,
          "size": 1
         },
         "mode": "markers",
         "name": "",
         "showlegend": false,
         "text": [
          null,
          null,
          null,
          null,
          null,
          null
         ],
         "type": "scatter",
         "x": [
          "2020-09-01",
          "2020-12-31",
          "2020-09-01",
          "2021-04-01",
          "2021-02-01",
          "2020-05-01"
         ],
         "y": [
          18,
          18,
          19,
          19,
          20,
          20
         ]
        },
        {
         "line": {
          "color": "gray",
          "width": 1
         },
         "mode": "lines",
         "showlegend": false,
         "type": "scatter",
         "x": [
          "2020-10-01",
          "2020-10-01"
         ],
         "y": [
          -1,
          26
         ]
        },
        {
         "line": {
          "color": "gray",
          "width": 1
         },
         "mode": "lines",
         "showlegend": false,
         "type": "scatter",
         "x": [
          "2021-02-01",
          "2021-02-01"
         ],
         "y": [
          -1,
          26
         ]
        },
        {
         "line": {
          "color": "gray",
          "width": 1
         },
         "mode": "lines",
         "showlegend": false,
         "type": "scatter",
         "x": [
          "2022-06-01",
          "2022-06-01"
         ],
         "y": [
          -1,
          26
         ]
        }
       ],
       "layout": {
        "height": 600,
        "hovermode": "closest",
        "plot_bgcolor": "rgba(0,0,0, 0.02)",
        "showlegend": true,
        "template": {
         "data": {
          "bar": [
           {
            "error_x": {
             "color": "#2a3f5f"
            },
            "error_y": {
             "color": "#2a3f5f"
            },
            "marker": {
             "line": {
              "color": "#E5ECF6",
              "width": 0.5
             }
            },
            "type": "bar"
           }
          ],
          "barpolar": [
           {
            "marker": {
             "line": {
              "color": "#E5ECF6",
              "width": 0.5
             }
            },
            "type": "barpolar"
           }
          ],
          "carpet": [
           {
            "aaxis": {
             "endlinecolor": "#2a3f5f",
             "gridcolor": "white",
             "linecolor": "white",
             "minorgridcolor": "white",
             "startlinecolor": "#2a3f5f"
            },
            "baxis": {
             "endlinecolor": "#2a3f5f",
             "gridcolor": "white",
             "linecolor": "white",
             "minorgridcolor": "white",
             "startlinecolor": "#2a3f5f"
            },
            "type": "carpet"
           }
          ],
          "choropleth": [
           {
            "colorbar": {
             "outlinewidth": 0,
             "ticks": ""
            },
            "type": "choropleth"
           }
          ],
          "contour": [
           {
            "colorbar": {
             "outlinewidth": 0,
             "ticks": ""
            },
            "colorscale": [
             [
              0,
              "#0d0887"
             ],
             [
              0.1111111111111111,
              "#46039f"
             ],
             [
              0.2222222222222222,
              "#7201a8"
             ],
             [
              0.3333333333333333,
              "#9c179e"
             ],
             [
              0.4444444444444444,
              "#bd3786"
             ],
             [
              0.5555555555555556,
              "#d8576b"
             ],
             [
              0.6666666666666666,
              "#ed7953"
             ],
             [
              0.7777777777777778,
              "#fb9f3a"
             ],
             [
              0.8888888888888888,
              "#fdca26"
             ],
             [
              1,
              "#f0f921"
             ]
            ],
            "type": "contour"
           }
          ],
          "contourcarpet": [
           {
            "colorbar": {
             "outlinewidth": 0,
             "ticks": ""
            },
            "type": "contourcarpet"
           }
          ],
          "heatmap": [
           {
            "colorbar": {
             "outlinewidth": 0,
             "ticks": ""
            },
            "colorscale": [
             [
              0,
              "#0d0887"
             ],
             [
              0.1111111111111111,
              "#46039f"
             ],
             [
              0.2222222222222222,
              "#7201a8"
             ],
             [
              0.3333333333333333,
              "#9c179e"
             ],
             [
              0.4444444444444444,
              "#bd3786"
             ],
             [
              0.5555555555555556,
              "#d8576b"
             ],
             [
              0.6666666666666666,
              "#ed7953"
             ],
             [
              0.7777777777777778,
              "#fb9f3a"
             ],
             [
              0.8888888888888888,
              "#fdca26"
             ],
             [
              1,
              "#f0f921"
             ]
            ],
            "type": "heatmap"
           }
          ],
          "heatmapgl": [
           {
            "colorbar": {
             "outlinewidth": 0,
             "ticks": ""
            },
            "colorscale": [
             [
              0,
              "#0d0887"
             ],
             [
              0.1111111111111111,
              "#46039f"
             ],
             [
              0.2222222222222222,
              "#7201a8"
             ],
             [
              0.3333333333333333,
              "#9c179e"
             ],
             [
              0.4444444444444444,
              "#bd3786"
             ],
             [
              0.5555555555555556,
              "#d8576b"
             ],
             [
              0.6666666666666666,
              "#ed7953"
             ],
             [
              0.7777777777777778,
              "#fb9f3a"
             ],
             [
              0.8888888888888888,
              "#fdca26"
             ],
             [
              1,
              "#f0f921"
             ]
            ],
            "type": "heatmapgl"
           }
          ],
          "histogram": [
           {
            "marker": {
             "colorbar": {
              "outlinewidth": 0,
              "ticks": ""
             }
            },
            "type": "histogram"
           }
          ],
          "histogram2d": [
           {
            "colorbar": {
             "outlinewidth": 0,
             "ticks": ""
            },
            "colorscale": [
             [
              0,
              "#0d0887"
             ],
             [
              0.1111111111111111,
              "#46039f"
             ],
             [
              0.2222222222222222,
              "#7201a8"
             ],
             [
              0.3333333333333333,
              "#9c179e"
             ],
             [
              0.4444444444444444,
              "#bd3786"
             ],
             [
              0.5555555555555556,
              "#d8576b"
             ],
             [
              0.6666666666666666,
              "#ed7953"
             ],
             [
              0.7777777777777778,
              "#fb9f3a"
             ],
             [
              0.8888888888888888,
              "#fdca26"
             ],
             [
              1,
              "#f0f921"
             ]
            ],
            "type": "histogram2d"
           }
          ],
          "histogram2dcontour": [
           {
            "colorbar": {
             "outlinewidth": 0,
             "ticks": ""
            },
            "colorscale": [
             [
              0,
              "#0d0887"
             ],
             [
              0.1111111111111111,
              "#46039f"
             ],
             [
              0.2222222222222222,
              "#7201a8"
             ],
             [
              0.3333333333333333,
              "#9c179e"
             ],
             [
              0.4444444444444444,
              "#bd3786"
             ],
             [
              0.5555555555555556,
              "#d8576b"
             ],
             [
              0.6666666666666666,
              "#ed7953"
             ],
             [
              0.7777777777777778,
              "#fb9f3a"
             ],
             [
              0.8888888888888888,
              "#fdca26"
             ],
             [
              1,
              "#f0f921"
             ]
            ],
            "type": "histogram2dcontour"
           }
          ],
          "mesh3d": [
           {
            "colorbar": {
             "outlinewidth": 0,
             "ticks": ""
            },
            "type": "mesh3d"
           }
          ],
          "parcoords": [
           {
            "line": {
             "colorbar": {
              "outlinewidth": 0,
              "ticks": ""
             }
            },
            "type": "parcoords"
           }
          ],
          "pie": [
           {
            "automargin": true,
            "type": "pie"
           }
          ],
          "scatter": [
           {
            "marker": {
             "colorbar": {
              "outlinewidth": 0,
              "ticks": ""
             }
            },
            "type": "scatter"
           }
          ],
          "scatter3d": [
           {
            "line": {
             "colorbar": {
              "outlinewidth": 0,
              "ticks": ""
             }
            },
            "marker": {
             "colorbar": {
              "outlinewidth": 0,
              "ticks": ""
             }
            },
            "type": "scatter3d"
           }
          ],
          "scattercarpet": [
           {
            "marker": {
             "colorbar": {
              "outlinewidth": 0,
              "ticks": ""
             }
            },
            "type": "scattercarpet"
           }
          ],
          "scattergeo": [
           {
            "marker": {
             "colorbar": {
              "outlinewidth": 0,
              "ticks": ""
             }
            },
            "type": "scattergeo"
           }
          ],
          "scattergl": [
           {
            "marker": {
             "colorbar": {
              "outlinewidth": 0,
              "ticks": ""
             }
            },
            "type": "scattergl"
           }
          ],
          "scattermapbox": [
           {
            "marker": {
             "colorbar": {
              "outlinewidth": 0,
              "ticks": ""
             }
            },
            "type": "scattermapbox"
           }
          ],
          "scatterpolar": [
           {
            "marker": {
             "colorbar": {
              "outlinewidth": 0,
              "ticks": ""
             }
            },
            "type": "scatterpolar"
           }
          ],
          "scatterpolargl": [
           {
            "marker": {
             "colorbar": {
              "outlinewidth": 0,
              "ticks": ""
             }
            },
            "type": "scatterpolargl"
           }
          ],
          "scatterternary": [
           {
            "marker": {
             "colorbar": {
              "outlinewidth": 0,
              "ticks": ""
             }
            },
            "type": "scatterternary"
           }
          ],
          "surface": [
           {
            "colorbar": {
             "outlinewidth": 0,
             "ticks": ""
            },
            "colorscale": [
             [
              0,
              "#0d0887"
             ],
             [
              0.1111111111111111,
              "#46039f"
             ],
             [
              0.2222222222222222,
              "#7201a8"
             ],
             [
              0.3333333333333333,
              "#9c179e"
             ],
             [
              0.4444444444444444,
              "#bd3786"
             ],
             [
              0.5555555555555556,
              "#d8576b"
             ],
             [
              0.6666666666666666,
              "#ed7953"
             ],
             [
              0.7777777777777778,
              "#fb9f3a"
             ],
             [
              0.8888888888888888,
              "#fdca26"
             ],
             [
              1,
              "#f0f921"
             ]
            ],
            "type": "surface"
           }
          ],
          "table": [
           {
            "cells": {
             "fill": {
              "color": "#EBF0F8"
             },
             "line": {
              "color": "white"
             }
            },
            "header": {
             "fill": {
              "color": "#C8D4E3"
             },
             "line": {
              "color": "white"
             }
            },
            "type": "table"
           }
          ]
         },
         "layout": {
          "annotationdefaults": {
           "arrowcolor": "#2a3f5f",
           "arrowhead": 0,
           "arrowwidth": 1
          },
          "coloraxis": {
           "colorbar": {
            "outlinewidth": 0,
            "ticks": ""
           }
          },
          "colorscale": {
           "diverging": [
            [
             0,
             "#8e0152"
            ],
            [
             0.1,
             "#c51b7d"
            ],
            [
             0.2,
             "#de77ae"
            ],
            [
             0.3,
             "#f1b6da"
            ],
            [
             0.4,
             "#fde0ef"
            ],
            [
             0.5,
             "#f7f7f7"
            ],
            [
             0.6,
             "#e6f5d0"
            ],
            [
             0.7,
             "#b8e186"
            ],
            [
             0.8,
             "#7fbc41"
            ],
            [
             0.9,
             "#4d9221"
            ],
            [
             1,
             "#276419"
            ]
           ],
           "sequential": [
            [
             0,
             "#0d0887"
            ],
            [
             0.1111111111111111,
             "#46039f"
            ],
            [
             0.2222222222222222,
             "#7201a8"
            ],
            [
             0.3333333333333333,
             "#9c179e"
            ],
            [
             0.4444444444444444,
             "#bd3786"
            ],
            [
             0.5555555555555556,
             "#d8576b"
            ],
            [
             0.6666666666666666,
             "#ed7953"
            ],
            [
             0.7777777777777778,
             "#fb9f3a"
            ],
            [
             0.8888888888888888,
             "#fdca26"
            ],
            [
             1,
             "#f0f921"
            ]
           ],
           "sequentialminus": [
            [
             0,
             "#0d0887"
            ],
            [
             0.1111111111111111,
             "#46039f"
            ],
            [
             0.2222222222222222,
             "#7201a8"
            ],
            [
             0.3333333333333333,
             "#9c179e"
            ],
            [
             0.4444444444444444,
             "#bd3786"
            ],
            [
             0.5555555555555556,
             "#d8576b"
            ],
            [
             0.6666666666666666,
             "#ed7953"
            ],
            [
             0.7777777777777778,
             "#fb9f3a"
            ],
            [
             0.8888888888888888,
             "#fdca26"
            ],
            [
             1,
             "#f0f921"
            ]
           ]
          },
          "colorway": [
           "#636efa",
           "#EF553B",
           "#00cc96",
           "#ab63fa",
           "#FFA15A",
           "#19d3f3",
           "#FF6692",
           "#B6E880",
           "#FF97FF",
           "#FECB52"
          ],
          "font": {
           "color": "#2a3f5f"
          },
          "geo": {
           "bgcolor": "white",
           "lakecolor": "white",
           "landcolor": "#E5ECF6",
           "showlakes": true,
           "showland": true,
           "subunitcolor": "white"
          },
          "hoverlabel": {
           "align": "left"
          },
          "hovermode": "closest",
          "mapbox": {
           "style": "light"
          },
          "paper_bgcolor": "white",
          "plot_bgcolor": "#E5ECF6",
          "polar": {
           "angularaxis": {
            "gridcolor": "white",
            "linecolor": "white",
            "ticks": ""
           },
           "bgcolor": "#E5ECF6",
           "radialaxis": {
            "gridcolor": "white",
            "linecolor": "white",
            "ticks": ""
           }
          },
          "scene": {
           "xaxis": {
            "backgroundcolor": "#E5ECF6",
            "gridcolor": "white",
            "gridwidth": 2,
            "linecolor": "white",
            "showbackground": true,
            "ticks": "",
            "zerolinecolor": "white"
           },
           "yaxis": {
            "backgroundcolor": "#E5ECF6",
            "gridcolor": "white",
            "gridwidth": 2,
            "linecolor": "white",
            "showbackground": true,
            "ticks": "",
            "zerolinecolor": "white"
           },
           "zaxis": {
            "backgroundcolor": "#E5ECF6",
            "gridcolor": "white",
            "gridwidth": 2,
            "linecolor": "white",
            "showbackground": true,
            "ticks": "",
            "zerolinecolor": "white"
           }
          },
          "shapedefaults": {
           "line": {
            "color": "#2a3f5f"
           }
          },
          "ternary": {
           "aaxis": {
            "gridcolor": "white",
            "linecolor": "white",
            "ticks": ""
           },
           "baxis": {
            "gridcolor": "white",
            "linecolor": "white",
            "ticks": ""
           },
           "bgcolor": "#E5ECF6",
           "caxis": {
            "gridcolor": "white",
            "linecolor": "white",
            "ticks": ""
           }
          },
          "title": {
           "x": 0.05
          },
          "xaxis": {
           "automargin": true,
           "gridcolor": "white",
           "linecolor": "white",
           "ticks": "",
           "title": {
            "standoff": 15
           },
           "zerolinecolor": "white",
           "zerolinewidth": 2
          },
          "yaxis": {
           "automargin": true,
           "gridcolor": "white",
           "linecolor": "white",
           "ticks": "",
           "title": {
            "standoff": 15
           },
           "zerolinecolor": "white",
           "zerolinewidth": 2
          }
         }
        },
        "title": {
         "text": "DRP Plan"
        },
        "xaxis": {
         "rangeselector": {
          "buttons": [
           {
            "count": 7,
            "label": "1w",
            "step": "day",
            "stepmode": "backward"
           },
           {
            "count": 1,
            "label": "1m",
            "step": "month",
            "stepmode": "backward"
           },
           {
            "count": 6,
            "label": "6m",
            "step": "month",
            "stepmode": "backward"
           },
           {
            "count": 1,
            "label": "YTD",
            "step": "year",
            "stepmode": "todate"
           },
           {
            "count": 1,
            "label": "1y",
            "step": "year",
            "stepmode": "backward"
           },
           {
            "step": "all"
           }
          ]
         },
         "showgrid": true,
         "type": "date",
         "zeroline": false
        },
        "yaxis": {
         "autorange": false,
         "range": [
          -1,
          26
         ],
         "showgrid": false,
         "ticktext": [
          "Science Operations",
          "Commissioning",
          "Sky exposures",
          "SM1@Subaru",
          "SM2@LAM",
          "SM2@Subaru",
          "SM3(B+R)@LAM",
          "NIR@LAM",
          "SM3(B+R+N)@LAM",
          "SM3@Subaru",
          "SM4@LAM",
          "SM4@Subaru",
          "PFI@Subaru",
          "PSF modelling (B+R)",
          "PSF modelling (N)",
          "FRD modeling",
          "Improved detectormap (< 5 km/s)",
          "Improved detectormap (< 1 km/s)",
          "Telluric Correction",
          "OH line modelling",
          "Improved sky subtraction",
          "H4RG modelling",
          "Flux Calibration",
          "DCR",
          "CCD Crosstalk"
         ],
         "tickvals": [
          0,
          1,
          2,
          3,
          4,
          5,
          6,
          7,
          8,
          9,
          10,
          11,
          12,
          13,
          14,
          15,
          16,
          17,
          18,
          19,
          20,
          21,
          22,
          23,
          24
         ],
         "zeroline": false
        }
       }
      },
      "text/html": [
       "<div>\n",
       "        \n",
       "        \n",
       "            <div id=\"02b36ed5-9737-47e0-8f00-87144999e698\" class=\"plotly-graph-div\" style=\"height:600px; width:100%;\"></div>\n",
       "            <script type=\"text/javascript\">\n",
       "                require([\"plotly\"], function(Plotly) {\n",
       "                    window.PLOTLYENV=window.PLOTLYENV || {};\n",
       "                    \n",
       "                if (document.getElementById(\"02b36ed5-9737-47e0-8f00-87144999e698\")) {\n",
       "                    Plotly.newPlot(\n",
       "                        '02b36ed5-9737-47e0-8f00-87144999e698',\n",
       "                        [{\"fill\": \"toself\", \"fillcolor\": \"rgb(102, 0, 255)\", \"hoverinfo\": \"name\", \"legendgroup\": \"rgb(102, 0, 255)\", \"mode\": \"none\", \"name\": \"PSF\", \"type\": \"scatter\", \"x\": [\"2020-05-01\", \"2020-8-30\", \"2020-8-30\", \"2020-05-01\", \"2020-05-01\", \"2020-10-01\", \"2021-01-30\", \"2021-01-30\", \"2020-10-01\", \"2020-10-01\", \"2019-09-01\", \"2021-06-01\", \"2021-06-01\", \"2019-09-01\"], \"y\": [12.95, 12.95, 13.05, 13.05, null, 13.95, 13.95, 14.05, 14.05, null, 14.95, 14.95, 15.05, 15.05]}, {\"fill\": \"toself\", \"fillcolor\": \"rgb(153, 102, 255)\", \"hoverinfo\": \"name\", \"legendgroup\": \"rgb(153, 102, 255)\", \"mode\": \"none\", \"name\": \"WavelengthCalibration\", \"type\": \"scatter\", \"x\": [\"2020-06-01\", \"2020-12-01\", \"2020-12-01\", \"2020-06-01\", \"2020-06-01\", \"2021-04-01\", \"2021-08-01\", \"2021-08-01\", \"2021-04-01\"], \"y\": [15.95, 15.95, 16.05, 16.05, null, 16.95, 16.95, 17.05, 17.05]}, {\"fill\": \"toself\", \"fillcolor\": \"rgb(204, 51, 255)\", \"hoverinfo\": \"name\", \"legendgroup\": \"rgb(204, 51, 255)\", \"mode\": \"none\", \"name\": \"Calibration\", \"type\": \"scatter\", \"x\": [\"2020-08-01\", \"2021-05-01\", \"2021-05-01\", \"2020-08-01\", \"2020-08-01\", \"2020-02-01\", \"2021-06-01\", \"2021-06-01\", \"2020-02-01\", \"2020-02-01\", \"2021-04-01\", \"2021-12-31\", \"2021-12-31\", \"2021-04-01\", \"2021-04-01\", \"2021-01-01\", \"2021-06-01\", \"2021-06-01\", \"2021-01-01\"], \"y\": [20.95, 20.95, 21.05, 21.05, null, 21.95, 21.95, 22.05, 22.05, null, 22.95, 22.95, 23.05, 23.05, null, 23.95, 23.95, 24.05, 24.05]}, {\"fill\": \"toself\", \"fillcolor\": \"rgb(230, 230, 0)\", \"hoverinfo\": \"name\", \"legendgroup\": \"rgb(230, 230, 0)\", \"mode\": \"none\", \"name\": \"Hardware\", \"type\": \"scatter\", \"x\": [\"2019-12-01\", \"2020-06-02\", \"2020-06-02\", \"2019-12-01\", \"2019-12-01\", \"2020-05-01\", \"2020-12-31\", \"2020-12-31\", \"2020-05-01\", \"2020-05-01\", \"2020-12-01\", \"2025-01-01\", \"2025-01-01\", \"2020-12-01\", \"2020-12-01\", \"2020-10-01\", \"2021-06-01\", \"2021-06-01\", \"2020-10-01\", \"2020-10-01\", \"2020-09-01\", \"2020-10-01\", \"2020-10-01\", \"2020-09-01\", \"2020-09-01\", \"2020-10-01\", \"2021-06-01\", \"2021-06-01\", \"2020-10-01\", \"2020-10-01\", \"2021-06-01\", \"2025-01-01\", \"2025-01-01\", \"2021-06-01\", \"2021-06-01\", \"2021-06-01\", \"2021-12-01\", \"2021-12-01\", \"2021-06-01\", \"2021-06-01\", \"2021-12-01\", \"2022-06-01\", \"2022-06-01\", \"2021-12-01\", \"2021-12-01\", \"2020-12-01\", \"2025-01-01\", \"2025-01-01\", \"2020-12-01\"], \"y\": [2.95, 2.95, 3.05, 3.05, null, 3.95, 3.95, 4.05, 4.05, null, 4.95, 4.95, 5.05, 5.05, null, 5.95, 5.95, 6.05, 6.05, null, 6.95, 6.95, 7.05, 7.05, null, 7.95, 7.95, 8.05, 8.05, null, 8.95, 8.95, 9.05, 9.05, null, 9.95, 9.95, 10.05, 10.05, null, 10.95, 10.95, 11.05, 11.05, null, 11.95, 11.95, 12.05, 12.05]}, {\"fill\": \"toself\", \"fillcolor\": \"rgb(255, 51, 0)\", \"hoverinfo\": \"name\", \"legendgroup\": \"rgb(255, 51, 0)\", \"mode\": \"none\", \"name\": \"Project\", \"type\": \"scatter\", \"x\": [\"2022-06-01\", \"2025-01-01\", \"2025-01-01\", \"2022-06-01\", \"2022-06-01\", \"2021-02-01\", \"2022-06-01\", \"2022-06-01\", \"2021-02-01\", \"2021-02-01\", \"2021-01-01\", \"2025-01-01\", \"2025-01-01\", \"2021-01-01\"], \"y\": [-0.05, -0.05, 0.05, 0.05, null, 0.95, 0.95, 1.05, 1.05, null, 1.95, 1.95, 2.05, 2.05]}, {\"fill\": \"toself\", \"fillcolor\": \"rgb(51, 153, 255)\", \"hoverinfo\": \"name\", \"legendgroup\": \"rgb(51, 153, 255)\", \"mode\": \"none\", \"name\": \"Sky\", \"type\": \"scatter\", \"x\": [\"2020-09-01\", \"2020-12-31\", \"2020-12-31\", \"2020-09-01\", \"2020-09-01\", \"2020-09-01\", \"2021-04-01\", \"2021-04-01\", \"2020-09-01\", \"2020-09-01\", \"2021-02-01\", \"2020-05-01\", \"2020-05-01\", \"2021-02-01\"], \"y\": [17.95, 17.95, 18.05, 18.05, null, 18.95, 18.95, 19.05, 19.05, null, 19.95, 19.95, 20.05, 20.05]}, {\"legendgroup\": \"rgb(102, 0, 255)\", \"marker\": {\"color\": \"rgb(102, 0, 255)\", \"opacity\": 0, \"size\": 1}, \"mode\": \"markers\", \"name\": \"\", \"showlegend\": false, \"text\": [null, null, null, null, null, null], \"type\": \"scatter\", \"x\": [\"2020-05-01\", \"2020-8-30\", \"2020-10-01\", \"2021-01-30\", \"2019-09-01\", \"2021-06-01\"], \"y\": [13, 13, 14, 14, 15, 15]}, {\"legendgroup\": \"rgb(153, 102, 255)\", \"marker\": {\"color\": \"rgb(153, 102, 255)\", \"opacity\": 0, \"size\": 1}, \"mode\": \"markers\", \"name\": \"\", \"showlegend\": false, \"text\": [null, null, null, null], \"type\": \"scatter\", \"x\": [\"2020-06-01\", \"2020-12-01\", \"2021-04-01\", \"2021-08-01\"], \"y\": [16, 16, 17, 17]}, {\"legendgroup\": \"rgb(204, 51, 255)\", \"marker\": {\"color\": \"rgb(204, 51, 255)\", \"opacity\": 0, \"size\": 1}, \"mode\": \"markers\", \"name\": \"\", \"showlegend\": false, \"text\": [null, null, null, null, null, null, null, null], \"type\": \"scatter\", \"x\": [\"2020-08-01\", \"2021-05-01\", \"2020-02-01\", \"2021-06-01\", \"2021-04-01\", \"2021-12-31\", \"2021-01-01\", \"2021-06-01\"], \"y\": [21, 21, 22, 22, 23, 23, 24, 24]}, {\"legendgroup\": \"rgb(230, 230, 0)\", \"marker\": {\"color\": \"rgb(230, 230, 0)\", \"opacity\": 0, \"size\": 1}, \"mode\": \"markers\", \"name\": \"\", \"showlegend\": false, \"text\": [null, null, null, null, null, null, null, null, null, null, null, null, null, null, null, null, null, null, null, null], \"type\": \"scatter\", \"x\": [\"2019-12-01\", \"2020-06-02\", \"2020-05-01\", \"2020-12-31\", \"2020-12-01\", \"2025-01-01\", \"2020-10-01\", \"2021-06-01\", \"2020-09-01\", \"2020-10-01\", \"2020-10-01\", \"2021-06-01\", \"2021-06-01\", \"2025-01-01\", \"2021-06-01\", \"2021-12-01\", \"2021-12-01\", \"2022-06-01\", \"2020-12-01\", \"2025-01-01\"], \"y\": [3, 3, 4, 4, 5, 5, 6, 6, 7, 7, 8, 8, 9, 9, 10, 10, 11, 11, 12, 12]}, {\"legendgroup\": \"rgb(255, 51, 0)\", \"marker\": {\"color\": \"rgb(255, 51, 0)\", \"opacity\": 0, \"size\": 1}, \"mode\": \"markers\", \"name\": \"\", \"showlegend\": false, \"text\": [null, null, null, null, null, null], \"type\": \"scatter\", \"x\": [\"2022-06-01\", \"2025-01-01\", \"2021-02-01\", \"2022-06-01\", \"2021-01-01\", \"2025-01-01\"], \"y\": [0, 0, 1, 1, 2, 2]}, {\"legendgroup\": \"rgb(51, 153, 255)\", \"marker\": {\"color\": \"rgb(51, 153, 255)\", \"opacity\": 0, \"size\": 1}, \"mode\": \"markers\", \"name\": \"\", \"showlegend\": false, \"text\": [null, null, null, null, null, null], \"type\": \"scatter\", \"x\": [\"2020-09-01\", \"2020-12-31\", \"2020-09-01\", \"2021-04-01\", \"2021-02-01\", \"2020-05-01\"], \"y\": [18, 18, 19, 19, 20, 20]}, {\"line\": {\"color\": \"gray\", \"width\": 1}, \"mode\": \"lines\", \"showlegend\": false, \"type\": \"scatter\", \"x\": [\"2020-10-01\", \"2020-10-01\"], \"y\": [-1, 26]}, {\"line\": {\"color\": \"gray\", \"width\": 1}, \"mode\": \"lines\", \"showlegend\": false, \"type\": \"scatter\", \"x\": [\"2021-02-01\", \"2021-02-01\"], \"y\": [-1, 26]}, {\"line\": {\"color\": \"gray\", \"width\": 1}, \"mode\": \"lines\", \"showlegend\": false, \"type\": \"scatter\", \"x\": [\"2022-06-01\", \"2022-06-01\"], \"y\": [-1, 26]}],\n",
       "                        {\"height\": 600, \"hovermode\": \"closest\", \"plot_bgcolor\": \"rgba(0,0,0, 0.02)\", \"showlegend\": true, \"template\": {\"data\": {\"bar\": [{\"error_x\": {\"color\": \"#2a3f5f\"}, \"error_y\": {\"color\": \"#2a3f5f\"}, \"marker\": {\"line\": {\"color\": \"#E5ECF6\", \"width\": 0.5}}, \"type\": \"bar\"}], \"barpolar\": [{\"marker\": {\"line\": {\"color\": \"#E5ECF6\", \"width\": 0.5}}, \"type\": \"barpolar\"}], \"carpet\": [{\"aaxis\": {\"endlinecolor\": \"#2a3f5f\", \"gridcolor\": \"white\", \"linecolor\": \"white\", \"minorgridcolor\": \"white\", \"startlinecolor\": \"#2a3f5f\"}, \"baxis\": {\"endlinecolor\": \"#2a3f5f\", \"gridcolor\": \"white\", \"linecolor\": \"white\", \"minorgridcolor\": \"white\", \"startlinecolor\": \"#2a3f5f\"}, \"type\": \"carpet\"}], \"choropleth\": [{\"colorbar\": {\"outlinewidth\": 0, \"ticks\": \"\"}, \"type\": \"choropleth\"}], \"contour\": [{\"colorbar\": {\"outlinewidth\": 0, \"ticks\": \"\"}, \"colorscale\": [[0.0, \"#0d0887\"], [0.1111111111111111, \"#46039f\"], [0.2222222222222222, \"#7201a8\"], [0.3333333333333333, \"#9c179e\"], [0.4444444444444444, \"#bd3786\"], [0.5555555555555556, \"#d8576b\"], [0.6666666666666666, \"#ed7953\"], [0.7777777777777778, \"#fb9f3a\"], [0.8888888888888888, \"#fdca26\"], [1.0, \"#f0f921\"]], \"type\": \"contour\"}], \"contourcarpet\": [{\"colorbar\": {\"outlinewidth\": 0, \"ticks\": \"\"}, \"type\": \"contourcarpet\"}], \"heatmap\": [{\"colorbar\": {\"outlinewidth\": 0, \"ticks\": \"\"}, \"colorscale\": [[0.0, \"#0d0887\"], [0.1111111111111111, \"#46039f\"], [0.2222222222222222, \"#7201a8\"], [0.3333333333333333, \"#9c179e\"], [0.4444444444444444, \"#bd3786\"], [0.5555555555555556, \"#d8576b\"], [0.6666666666666666, \"#ed7953\"], [0.7777777777777778, \"#fb9f3a\"], [0.8888888888888888, \"#fdca26\"], [1.0, \"#f0f921\"]], \"type\": \"heatmap\"}], \"heatmapgl\": [{\"colorbar\": {\"outlinewidth\": 0, \"ticks\": \"\"}, \"colorscale\": [[0.0, \"#0d0887\"], [0.1111111111111111, \"#46039f\"], [0.2222222222222222, \"#7201a8\"], [0.3333333333333333, \"#9c179e\"], [0.4444444444444444, \"#bd3786\"], [0.5555555555555556, \"#d8576b\"], [0.6666666666666666, \"#ed7953\"], [0.7777777777777778, \"#fb9f3a\"], [0.8888888888888888, \"#fdca26\"], [1.0, \"#f0f921\"]], \"type\": \"heatmapgl\"}], \"histogram\": [{\"marker\": {\"colorbar\": {\"outlinewidth\": 0, \"ticks\": \"\"}}, \"type\": \"histogram\"}], \"histogram2d\": [{\"colorbar\": {\"outlinewidth\": 0, \"ticks\": \"\"}, \"colorscale\": [[0.0, \"#0d0887\"], [0.1111111111111111, \"#46039f\"], [0.2222222222222222, \"#7201a8\"], [0.3333333333333333, \"#9c179e\"], [0.4444444444444444, \"#bd3786\"], [0.5555555555555556, \"#d8576b\"], [0.6666666666666666, \"#ed7953\"], [0.7777777777777778, \"#fb9f3a\"], [0.8888888888888888, \"#fdca26\"], [1.0, \"#f0f921\"]], \"type\": \"histogram2d\"}], \"histogram2dcontour\": [{\"colorbar\": {\"outlinewidth\": 0, \"ticks\": \"\"}, \"colorscale\": [[0.0, \"#0d0887\"], [0.1111111111111111, \"#46039f\"], [0.2222222222222222, \"#7201a8\"], [0.3333333333333333, \"#9c179e\"], [0.4444444444444444, \"#bd3786\"], [0.5555555555555556, \"#d8576b\"], [0.6666666666666666, \"#ed7953\"], [0.7777777777777778, \"#fb9f3a\"], [0.8888888888888888, \"#fdca26\"], [1.0, \"#f0f921\"]], \"type\": \"histogram2dcontour\"}], \"mesh3d\": [{\"colorbar\": {\"outlinewidth\": 0, \"ticks\": \"\"}, \"type\": \"mesh3d\"}], \"parcoords\": [{\"line\": {\"colorbar\": {\"outlinewidth\": 0, \"ticks\": \"\"}}, \"type\": \"parcoords\"}], \"pie\": [{\"automargin\": true, \"type\": \"pie\"}], \"scatter\": [{\"marker\": {\"colorbar\": {\"outlinewidth\": 0, \"ticks\": \"\"}}, \"type\": \"scatter\"}], \"scatter3d\": [{\"line\": {\"colorbar\": {\"outlinewidth\": 0, \"ticks\": \"\"}}, \"marker\": {\"colorbar\": {\"outlinewidth\": 0, \"ticks\": \"\"}}, \"type\": \"scatter3d\"}], \"scattercarpet\": [{\"marker\": {\"colorbar\": {\"outlinewidth\": 0, \"ticks\": \"\"}}, \"type\": \"scattercarpet\"}], \"scattergeo\": [{\"marker\": {\"colorbar\": {\"outlinewidth\": 0, \"ticks\": \"\"}}, \"type\": \"scattergeo\"}], \"scattergl\": [{\"marker\": {\"colorbar\": {\"outlinewidth\": 0, \"ticks\": \"\"}}, \"type\": \"scattergl\"}], \"scattermapbox\": [{\"marker\": {\"colorbar\": {\"outlinewidth\": 0, \"ticks\": \"\"}}, \"type\": \"scattermapbox\"}], \"scatterpolar\": [{\"marker\": {\"colorbar\": {\"outlinewidth\": 0, \"ticks\": \"\"}}, \"type\": \"scatterpolar\"}], \"scatterpolargl\": [{\"marker\": {\"colorbar\": {\"outlinewidth\": 0, \"ticks\": \"\"}}, \"type\": \"scatterpolargl\"}], \"scatterternary\": [{\"marker\": {\"colorbar\": {\"outlinewidth\": 0, \"ticks\": \"\"}}, \"type\": \"scatterternary\"}], \"surface\": [{\"colorbar\": {\"outlinewidth\": 0, \"ticks\": \"\"}, \"colorscale\": [[0.0, \"#0d0887\"], [0.1111111111111111, \"#46039f\"], [0.2222222222222222, \"#7201a8\"], [0.3333333333333333, \"#9c179e\"], [0.4444444444444444, \"#bd3786\"], [0.5555555555555556, \"#d8576b\"], [0.6666666666666666, \"#ed7953\"], [0.7777777777777778, \"#fb9f3a\"], [0.8888888888888888, \"#fdca26\"], [1.0, \"#f0f921\"]], \"type\": \"surface\"}], \"table\": [{\"cells\": {\"fill\": {\"color\": \"#EBF0F8\"}, \"line\": {\"color\": \"white\"}}, \"header\": {\"fill\": {\"color\": \"#C8D4E3\"}, \"line\": {\"color\": \"white\"}}, \"type\": \"table\"}]}, \"layout\": {\"annotationdefaults\": {\"arrowcolor\": \"#2a3f5f\", \"arrowhead\": 0, \"arrowwidth\": 1}, \"coloraxis\": {\"colorbar\": {\"outlinewidth\": 0, \"ticks\": \"\"}}, \"colorscale\": {\"diverging\": [[0, \"#8e0152\"], [0.1, \"#c51b7d\"], [0.2, \"#de77ae\"], [0.3, \"#f1b6da\"], [0.4, \"#fde0ef\"], [0.5, \"#f7f7f7\"], [0.6, \"#e6f5d0\"], [0.7, \"#b8e186\"], [0.8, \"#7fbc41\"], [0.9, \"#4d9221\"], [1, \"#276419\"]], \"sequential\": [[0.0, \"#0d0887\"], [0.1111111111111111, \"#46039f\"], [0.2222222222222222, \"#7201a8\"], [0.3333333333333333, \"#9c179e\"], [0.4444444444444444, \"#bd3786\"], [0.5555555555555556, \"#d8576b\"], [0.6666666666666666, \"#ed7953\"], [0.7777777777777778, \"#fb9f3a\"], [0.8888888888888888, \"#fdca26\"], [1.0, \"#f0f921\"]], \"sequentialminus\": [[0.0, \"#0d0887\"], [0.1111111111111111, \"#46039f\"], [0.2222222222222222, \"#7201a8\"], [0.3333333333333333, \"#9c179e\"], [0.4444444444444444, \"#bd3786\"], [0.5555555555555556, \"#d8576b\"], [0.6666666666666666, \"#ed7953\"], [0.7777777777777778, \"#fb9f3a\"], [0.8888888888888888, \"#fdca26\"], [1.0, \"#f0f921\"]]}, \"colorway\": [\"#636efa\", \"#EF553B\", \"#00cc96\", \"#ab63fa\", \"#FFA15A\", \"#19d3f3\", \"#FF6692\", \"#B6E880\", \"#FF97FF\", \"#FECB52\"], \"font\": {\"color\": \"#2a3f5f\"}, \"geo\": {\"bgcolor\": \"white\", \"lakecolor\": \"white\", \"landcolor\": \"#E5ECF6\", \"showlakes\": true, \"showland\": true, \"subunitcolor\": \"white\"}, \"hoverlabel\": {\"align\": \"left\"}, \"hovermode\": \"closest\", \"mapbox\": {\"style\": \"light\"}, \"paper_bgcolor\": \"white\", \"plot_bgcolor\": \"#E5ECF6\", \"polar\": {\"angularaxis\": {\"gridcolor\": \"white\", \"linecolor\": \"white\", \"ticks\": \"\"}, \"bgcolor\": \"#E5ECF6\", \"radialaxis\": {\"gridcolor\": \"white\", \"linecolor\": \"white\", \"ticks\": \"\"}}, \"scene\": {\"xaxis\": {\"backgroundcolor\": \"#E5ECF6\", \"gridcolor\": \"white\", \"gridwidth\": 2, \"linecolor\": \"white\", \"showbackground\": true, \"ticks\": \"\", \"zerolinecolor\": \"white\"}, \"yaxis\": {\"backgroundcolor\": \"#E5ECF6\", \"gridcolor\": \"white\", \"gridwidth\": 2, \"linecolor\": \"white\", \"showbackground\": true, \"ticks\": \"\", \"zerolinecolor\": \"white\"}, \"zaxis\": {\"backgroundcolor\": \"#E5ECF6\", \"gridcolor\": \"white\", \"gridwidth\": 2, \"linecolor\": \"white\", \"showbackground\": true, \"ticks\": \"\", \"zerolinecolor\": \"white\"}}, \"shapedefaults\": {\"line\": {\"color\": \"#2a3f5f\"}}, \"ternary\": {\"aaxis\": {\"gridcolor\": \"white\", \"linecolor\": \"white\", \"ticks\": \"\"}, \"baxis\": {\"gridcolor\": \"white\", \"linecolor\": \"white\", \"ticks\": \"\"}, \"bgcolor\": \"#E5ECF6\", \"caxis\": {\"gridcolor\": \"white\", \"linecolor\": \"white\", \"ticks\": \"\"}}, \"title\": {\"x\": 0.05}, \"xaxis\": {\"automargin\": true, \"gridcolor\": \"white\", \"linecolor\": \"white\", \"ticks\": \"\", \"title\": {\"standoff\": 15}, \"zerolinecolor\": \"white\", \"zerolinewidth\": 2}, \"yaxis\": {\"automargin\": true, \"gridcolor\": \"white\", \"linecolor\": \"white\", \"ticks\": \"\", \"title\": {\"standoff\": 15}, \"zerolinecolor\": \"white\", \"zerolinewidth\": 2}}}, \"title\": {\"text\": \"DRP Plan\"}, \"xaxis\": {\"rangeselector\": {\"buttons\": [{\"count\": 7, \"label\": \"1w\", \"step\": \"day\", \"stepmode\": \"backward\"}, {\"count\": 1, \"label\": \"1m\", \"step\": \"month\", \"stepmode\": \"backward\"}, {\"count\": 6, \"label\": \"6m\", \"step\": \"month\", \"stepmode\": \"backward\"}, {\"count\": 1, \"label\": \"YTD\", \"step\": \"year\", \"stepmode\": \"todate\"}, {\"count\": 1, \"label\": \"1y\", \"step\": \"year\", \"stepmode\": \"backward\"}, {\"step\": \"all\"}]}, \"showgrid\": true, \"type\": \"date\", \"zeroline\": false}, \"yaxis\": {\"autorange\": false, \"range\": [-1, 26], \"showgrid\": false, \"ticktext\": [\"Science Operations\", \"Commissioning\", \"Sky exposures\", \"SM1@Subaru\", \"SM2@LAM\", \"SM2@Subaru\", \"SM3(B+R)@LAM\", \"NIR@LAM\", \"SM3(B+R+N)@LAM\", \"SM3@Subaru\", \"SM4@LAM\", \"SM4@Subaru\", \"PFI@Subaru\", \"PSF modelling (B+R)\", \"PSF modelling (N)\", \"FRD modeling\", \"Improved detectormap (< 5 km/s)\", \"Improved detectormap (< 1 km/s)\", \"Telluric Correction\", \"OH line modelling\", \"Improved sky subtraction\", \"H4RG modelling\", \"Flux Calibration\", \"DCR\", \"CCD Crosstalk\"], \"tickvals\": [0, 1, 2, 3, 4, 5, 6, 7, 8, 9, 10, 11, 12, 13, 14, 15, 16, 17, 18, 19, 20, 21, 22, 23, 24], \"zeroline\": false}},\n",
       "                        {\"responsive\": true}\n",
       "                    ).then(function(){\n",
       "                            \n",
       "var gd = document.getElementById('02b36ed5-9737-47e0-8f00-87144999e698');\n",
       "var x = new MutationObserver(function (mutations, observer) {{\n",
       "        var display = window.getComputedStyle(gd).display;\n",
       "        if (!display || display === 'none') {{\n",
       "            console.log([gd, 'removed!']);\n",
       "            Plotly.purge(gd);\n",
       "            observer.disconnect();\n",
       "        }}\n",
       "}});\n",
       "\n",
       "// Listen for the removal of the full notebook cells\n",
       "var notebookContainer = gd.closest('#notebook-container');\n",
       "if (notebookContainer) {{\n",
       "    x.observe(notebookContainer, {childList: true});\n",
       "}}\n",
       "\n",
       "// Listen for the clearing of the current output cell\n",
       "var outputEl = gd.closest('.output');\n",
       "if (outputEl) {{\n",
       "    x.observe(outputEl, {childList: true});\n",
       "}}\n",
       "\n",
       "                        })\n",
       "                };\n",
       "                });\n",
       "            </script>\n",
       "        </div>"
      ]
     },
     "metadata": {},
     "output_type": "display_data"
    }
   ],
   "source": [
    "fig = ff.create_gantt(df, colors=catColors, index_col='Category',\n",
    "                      show_colorbar=True, bar_width=0.05, showgrid_x=True, showgrid_y=False, title=\"DRP Plan\")\n",
    "fig.update_layout(plot_bgcolor='rgba(0,0,0, 0.02)')\n",
    "\n",
    "for yr in [arms_full, commissioning_start, commissioning_end]:\n",
    "    fig.add_trace(\n",
    "        go.Scatter(\n",
    "            x = [yr, yr],\n",
    "            y = [-1, len(df.index) + 1],\n",
    "            mode = \"lines\",\n",
    "            line = go.scatter.Line(color = \"gray\", width = 1),\n",
    "            showlegend = False\n",
    "        )\n",
    "    )\n",
    "\n",
    "fig.show()"
   ]
  },
  {
   "cell_type": "code",
   "execution_count": null,
   "metadata": {},
   "outputs": [],
   "source": []
  }
 ],
 "metadata": {
  "kernelspec": {
   "display_name": "Python 3",
   "language": "python",
   "name": "python3"
  },
  "language_info": {
   "codemirror_mode": {
    "name": "ipython",
    "version": 3
   },
   "file_extension": ".py",
   "mimetype": "text/x-python",
   "name": "python",
   "nbconvert_exporter": "python",
   "pygments_lexer": "ipython3",
   "version": "3.7.2"
  }
 },
 "nbformat": 4,
 "nbformat_minor": 2
}
