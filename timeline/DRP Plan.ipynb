{
 "cells": [
  {
   "cell_type": "code",
   "execution_count": 7,
   "metadata": {},
   "outputs": [
    {
     "data": {
      "application/vnd.plotly.v1+json": {
       "config": {
        "plotlyServerURL": "https://plotly.com"
       },
       "data": [
        {
         "fill": "toself",
         "fillcolor": "rgb(136, 121, 189)",
         "hoverinfo": "name",
         "legendgroup": "rgb(136, 121, 189)",
         "mode": "none",
         "name": " PFI",
         "showlegend": true,
         "type": "scatter",
         "x": [
          " 2020-12-01",
          " 2021-01-01",
          " 2021-01-01",
          " 2020-12-01"
         ],
         "y": [
          8.95,
          8.95,
          9.05,
          9.05
         ]
        },
        {
         "fill": "toself",
         "fillcolor": "rgb(137, 12, 251)",
         "hoverinfo": "name",
         "legendgroup": "rgb(137, 12, 251)",
         "mode": "none",
         "name": " Activity",
         "showlegend": true,
         "type": "scatter",
         "x": [
          " 2019-12-01",
          " 2020-06-02",
          " 2020-06-02",
          " 2019-12-01"
         ],
         "y": [
          5.95,
          5.95,
          6.05,
          6.05
         ]
        },
        {
         "fill": "toself",
         "fillcolor": "rgb(170, 21, 209)",
         "hoverinfo": "name",
         "legendgroup": "rgb(170, 21, 209)",
         "mode": "none",
         "name": " WavelengthCalibration",
         "showlegend": true,
         "type": "scatter",
         "x": [
          " 2020-06-01",
          " 2020-12-01",
          " 2020-12-01",
          " 2020-06-01",
          " 2020-06-01",
          " 2021-04-01",
          " 2021-08-01",
          " 2021-08-01",
          " 2021-04-01"
         ],
         "y": [
          0.95,
          0.95,
          1.05,
          1.05,
          null,
          2.95,
          2.95,
          3.05,
          3.05
         ]
        },
        {
         "fill": "toself",
         "fillcolor": "rgb(19, 136, 224)",
         "hoverinfo": "name",
         "legendgroup": "rgb(19, 136, 224)",
         "mode": "none",
         "name": " SMx-delivery",
         "showlegend": true,
         "type": "scatter",
         "x": [
          " 2020-06-01",
          " 2020-07-01",
          " 2020-07-01",
          " 2020-06-01",
          " 2020-06-01",
          " 2020-12-01",
          " 2021-01-01",
          " 2021-01-01",
          " 2020-12-01",
          " 2020-12-01",
          " 2021-06-01",
          " 2021-07-01",
          " 2021-07-01",
          " 2021-06-01"
         ],
         "y": [
          6.95,
          6.95,
          7.05,
          7.05,
          null,
          9.95,
          9.95,
          10.05,
          10.05,
          null,
          10.95,
          10.95,
          11.05,
          11.05
         ]
        },
        {
         "fill": "toself",
         "fillcolor": "rgb(194, 28, 149)",
         "hoverinfo": "name",
         "legendgroup": "rgb(194, 28, 149)",
         "mode": "none",
         "name": " Sky",
         "showlegend": true,
         "type": "scatter",
         "x": [
          " 2021-02-01",
          " 2025-01-01",
          " 2025-01-01",
          " 2021-02-01"
         ],
         "y": [
          11.95,
          11.95,
          12.05,
          12.05
         ]
        },
        {
         "fill": "toself",
         "fillcolor": "rgb(208, 129, 254)",
         "hoverinfo": "name",
         "legendgroup": "rgb(208, 129, 254)",
         "mode": "none",
         "name": " NIR",
         "showlegend": true,
         "type": "scatter",
         "x": [
          " 2020-09-01",
          " 2020-10-01",
          " 2020-10-01",
          " 2020-09-01"
         ],
         "y": [
          7.95,
          7.95,
          8.05,
          8.05
         ]
        },
        {
         "fill": "toself",
         "fillcolor": "rgb(26, 207, 102)",
         "hoverinfo": "name",
         "legendgroup": "rgb(26, 207, 102)",
         "mode": "none",
         "name": " 2dPsFModelling",
         "showlegend": true,
         "type": "scatter",
         "x": [
          " 2020-05-01",
          " 2020-8-30",
          " 2020-8-30",
          " 2020-05-01"
         ],
         "y": [
          -0.05,
          -0.05,
          0.05,
          0.05
         ]
        },
        {
         "fill": "toself",
         "fillcolor": "rgb(44, 163, 187)",
         "hoverinfo": "name",
         "legendgroup": "rgb(44, 163, 187)",
         "mode": "none",
         "name": " Calibration",
         "showlegend": true,
         "type": "scatter",
         "x": [
          " 2021-02-01",
          " 2020-05-01",
          " 2020-05-01",
          " 2021-02-01",
          " 2021-02-01",
          " 2019-09-01",
          " 2021-06-01",
          " 2021-06-01",
          " 2019-09-01",
          " 2019-09-01",
          " 2021-04-01",
          " 2021-12-31",
          " 2021-12-31",
          " 2021-04-01"
         ],
         "y": [
          1.95,
          1.95,
          2.05,
          2.05,
          null,
          3.95,
          3.95,
          4.05,
          4.05,
          null,
          4.95,
          4.95,
          5.05,
          5.05
         ]
        },
        {
         "fill": "toself",
         "fillcolor": "rgb(55, 36, 124)",
         "hoverinfo": "name",
         "legendgroup": "rgb(55, 36, 124)",
         "mode": "none",
         "name": " Project",
         "showlegend": true,
         "type": "scatter",
         "x": [
          " 2021-01-01",
          " 2022-06-01",
          " 2022-06-01",
          " 2021-01-01",
          " 2021-01-01",
          " 2022-06-01",
          " 2025-01-01",
          " 2025-01-01",
          " 2022-06-01"
         ],
         "y": [
          12.95,
          12.95,
          13.05,
          13.05,
          null,
          13.95,
          13.95,
          14.05,
          14.05
         ]
        },
        {
         "legendgroup": "rgb(136, 121, 189)",
         "marker": {
          "color": "rgb(136, 121, 189)",
          "opacity": 0,
          "size": 1
         },
         "mode": "markers",
         "name": "",
         "showlegend": false,
         "text": [
          null,
          null
         ],
         "type": "scatter",
         "x": [
          " 2020-12-01",
          " 2021-01-01"
         ],
         "y": [
          9,
          9
         ]
        },
        {
         "legendgroup": "rgb(137, 12, 251)",
         "marker": {
          "color": "rgb(137, 12, 251)",
          "opacity": 0,
          "size": 1
         },
         "mode": "markers",
         "name": "",
         "showlegend": false,
         "text": [
          null,
          null
         ],
         "type": "scatter",
         "x": [
          " 2019-12-01",
          " 2020-06-02"
         ],
         "y": [
          6,
          6
         ]
        },
        {
         "legendgroup": "rgb(170, 21, 209)",
         "marker": {
          "color": "rgb(170, 21, 209)",
          "opacity": 0,
          "size": 1
         },
         "mode": "markers",
         "name": "",
         "showlegend": false,
         "text": [
          null,
          null,
          null,
          null
         ],
         "type": "scatter",
         "x": [
          " 2020-06-01",
          " 2020-12-01",
          " 2021-04-01",
          " 2021-08-01"
         ],
         "y": [
          1,
          1,
          3,
          3
         ]
        },
        {
         "legendgroup": "rgb(19, 136, 224)",
         "marker": {
          "color": "rgb(19, 136, 224)",
          "opacity": 0,
          "size": 1
         },
         "mode": "markers",
         "name": "",
         "showlegend": false,
         "text": [
          null,
          null,
          null,
          null,
          null,
          null
         ],
         "type": "scatter",
         "x": [
          " 2020-06-01",
          " 2020-07-01",
          " 2020-12-01",
          " 2021-01-01",
          " 2021-06-01",
          " 2021-07-01"
         ],
         "y": [
          7,
          7,
          10,
          10,
          11,
          11
         ]
        },
        {
         "legendgroup": "rgb(194, 28, 149)",
         "marker": {
          "color": "rgb(194, 28, 149)",
          "opacity": 0,
          "size": 1
         },
         "mode": "markers",
         "name": "",
         "showlegend": false,
         "text": [
          null,
          null
         ],
         "type": "scatter",
         "x": [
          " 2021-02-01",
          " 2025-01-01"
         ],
         "y": [
          12,
          12
         ]
        },
        {
         "legendgroup": "rgb(208, 129, 254)",
         "marker": {
          "color": "rgb(208, 129, 254)",
          "opacity": 0,
          "size": 1
         },
         "mode": "markers",
         "name": "",
         "showlegend": false,
         "text": [
          null,
          null
         ],
         "type": "scatter",
         "x": [
          " 2020-09-01",
          " 2020-10-01"
         ],
         "y": [
          8,
          8
         ]
        },
        {
         "legendgroup": "rgb(26, 207, 102)",
         "marker": {
          "color": "rgb(26, 207, 102)",
          "opacity": 0,
          "size": 1
         },
         "mode": "markers",
         "name": "",
         "showlegend": false,
         "text": [
          null,
          null
         ],
         "type": "scatter",
         "x": [
          " 2020-05-01",
          " 2020-8-30"
         ],
         "y": [
          0,
          0
         ]
        },
        {
         "legendgroup": "rgb(44, 163, 187)",
         "marker": {
          "color": "rgb(44, 163, 187)",
          "opacity": 0,
          "size": 1
         },
         "mode": "markers",
         "name": "",
         "showlegend": false,
         "text": [
          null,
          null,
          null,
          null,
          null,
          null
         ],
         "type": "scatter",
         "x": [
          " 2021-02-01",
          " 2020-05-01",
          " 2019-09-01",
          " 2021-06-01",
          " 2021-04-01",
          " 2021-12-31"
         ],
         "y": [
          2,
          2,
          4,
          4,
          5,
          5
         ]
        },
        {
         "legendgroup": "rgb(55, 36, 124)",
         "marker": {
          "color": "rgb(55, 36, 124)",
          "opacity": 0,
          "size": 1
         },
         "mode": "markers",
         "name": "",
         "showlegend": false,
         "text": [
          null,
          null,
          null,
          null
         ],
         "type": "scatter",
         "x": [
          " 2021-01-01",
          " 2022-06-01",
          " 2022-06-01",
          " 2025-01-01"
         ],
         "y": [
          13,
          13,
          14,
          14
         ]
        }
       ],
       "layout": {
        "height": 600,
        "hovermode": "closest",
        "plot_bgcolor": "rgb(200,200,200)",
        "showlegend": true,
        "template": {
         "data": {
          "bar": [
           {
            "error_x": {
             "color": "#2a3f5f"
            },
            "error_y": {
             "color": "#2a3f5f"
            },
            "marker": {
             "line": {
              "color": "#E5ECF6",
              "width": 0.5
             }
            },
            "type": "bar"
           }
          ],
          "barpolar": [
           {
            "marker": {
             "line": {
              "color": "#E5ECF6",
              "width": 0.5
             }
            },
            "type": "barpolar"
           }
          ],
          "carpet": [
           {
            "aaxis": {
             "endlinecolor": "#2a3f5f",
             "gridcolor": "white",
             "linecolor": "white",
             "minorgridcolor": "white",
             "startlinecolor": "#2a3f5f"
            },
            "baxis": {
             "endlinecolor": "#2a3f5f",
             "gridcolor": "white",
             "linecolor": "white",
             "minorgridcolor": "white",
             "startlinecolor": "#2a3f5f"
            },
            "type": "carpet"
           }
          ],
          "choropleth": [
           {
            "colorbar": {
             "outlinewidth": 0,
             "ticks": ""
            },
            "type": "choropleth"
           }
          ],
          "contour": [
           {
            "colorbar": {
             "outlinewidth": 0,
             "ticks": ""
            },
            "colorscale": [
             [
              0,
              "#0d0887"
             ],
             [
              0.1111111111111111,
              "#46039f"
             ],
             [
              0.2222222222222222,
              "#7201a8"
             ],
             [
              0.3333333333333333,
              "#9c179e"
             ],
             [
              0.4444444444444444,
              "#bd3786"
             ],
             [
              0.5555555555555556,
              "#d8576b"
             ],
             [
              0.6666666666666666,
              "#ed7953"
             ],
             [
              0.7777777777777778,
              "#fb9f3a"
             ],
             [
              0.8888888888888888,
              "#fdca26"
             ],
             [
              1,
              "#f0f921"
             ]
            ],
            "type": "contour"
           }
          ],
          "contourcarpet": [
           {
            "colorbar": {
             "outlinewidth": 0,
             "ticks": ""
            },
            "type": "contourcarpet"
           }
          ],
          "heatmap": [
           {
            "colorbar": {
             "outlinewidth": 0,
             "ticks": ""
            },
            "colorscale": [
             [
              0,
              "#0d0887"
             ],
             [
              0.1111111111111111,
              "#46039f"
             ],
             [
              0.2222222222222222,
              "#7201a8"
             ],
             [
              0.3333333333333333,
              "#9c179e"
             ],
             [
              0.4444444444444444,
              "#bd3786"
             ],
             [
              0.5555555555555556,
              "#d8576b"
             ],
             [
              0.6666666666666666,
              "#ed7953"
             ],
             [
              0.7777777777777778,
              "#fb9f3a"
             ],
             [
              0.8888888888888888,
              "#fdca26"
             ],
             [
              1,
              "#f0f921"
             ]
            ],
            "type": "heatmap"
           }
          ],
          "heatmapgl": [
           {
            "colorbar": {
             "outlinewidth": 0,
             "ticks": ""
            },
            "colorscale": [
             [
              0,
              "#0d0887"
             ],
             [
              0.1111111111111111,
              "#46039f"
             ],
             [
              0.2222222222222222,
              "#7201a8"
             ],
             [
              0.3333333333333333,
              "#9c179e"
             ],
             [
              0.4444444444444444,
              "#bd3786"
             ],
             [
              0.5555555555555556,
              "#d8576b"
             ],
             [
              0.6666666666666666,
              "#ed7953"
             ],
             [
              0.7777777777777778,
              "#fb9f3a"
             ],
             [
              0.8888888888888888,
              "#fdca26"
             ],
             [
              1,
              "#f0f921"
             ]
            ],
            "type": "heatmapgl"
           }
          ],
          "histogram": [
           {
            "marker": {
             "colorbar": {
              "outlinewidth": 0,
              "ticks": ""
             }
            },
            "type": "histogram"
           }
          ],
          "histogram2d": [
           {
            "colorbar": {
             "outlinewidth": 0,
             "ticks": ""
            },
            "colorscale": [
             [
              0,
              "#0d0887"
             ],
             [
              0.1111111111111111,
              "#46039f"
             ],
             [
              0.2222222222222222,
              "#7201a8"
             ],
             [
              0.3333333333333333,
              "#9c179e"
             ],
             [
              0.4444444444444444,
              "#bd3786"
             ],
             [
              0.5555555555555556,
              "#d8576b"
             ],
             [
              0.6666666666666666,
              "#ed7953"
             ],
             [
              0.7777777777777778,
              "#fb9f3a"
             ],
             [
              0.8888888888888888,
              "#fdca26"
             ],
             [
              1,
              "#f0f921"
             ]
            ],
            "type": "histogram2d"
           }
          ],
          "histogram2dcontour": [
           {
            "colorbar": {
             "outlinewidth": 0,
             "ticks": ""
            },
            "colorscale": [
             [
              0,
              "#0d0887"
             ],
             [
              0.1111111111111111,
              "#46039f"
             ],
             [
              0.2222222222222222,
              "#7201a8"
             ],
             [
              0.3333333333333333,
              "#9c179e"
             ],
             [
              0.4444444444444444,
              "#bd3786"
             ],
             [
              0.5555555555555556,
              "#d8576b"
             ],
             [
              0.6666666666666666,
              "#ed7953"
             ],
             [
              0.7777777777777778,
              "#fb9f3a"
             ],
             [
              0.8888888888888888,
              "#fdca26"
             ],
             [
              1,
              "#f0f921"
             ]
            ],
            "type": "histogram2dcontour"
           }
          ],
          "mesh3d": [
           {
            "colorbar": {
             "outlinewidth": 0,
             "ticks": ""
            },
            "type": "mesh3d"
           }
          ],
          "parcoords": [
           {
            "line": {
             "colorbar": {
              "outlinewidth": 0,
              "ticks": ""
             }
            },
            "type": "parcoords"
           }
          ],
          "pie": [
           {
            "automargin": true,
            "type": "pie"
           }
          ],
          "scatter": [
           {
            "marker": {
             "colorbar": {
              "outlinewidth": 0,
              "ticks": ""
             }
            },
            "type": "scatter"
           }
          ],
          "scatter3d": [
           {
            "line": {
             "colorbar": {
              "outlinewidth": 0,
              "ticks": ""
             }
            },
            "marker": {
             "colorbar": {
              "outlinewidth": 0,
              "ticks": ""
             }
            },
            "type": "scatter3d"
           }
          ],
          "scattercarpet": [
           {
            "marker": {
             "colorbar": {
              "outlinewidth": 0,
              "ticks": ""
             }
            },
            "type": "scattercarpet"
           }
          ],
          "scattergeo": [
           {
            "marker": {
             "colorbar": {
              "outlinewidth": 0,
              "ticks": ""
             }
            },
            "type": "scattergeo"
           }
          ],
          "scattergl": [
           {
            "marker": {
             "colorbar": {
              "outlinewidth": 0,
              "ticks": ""
             }
            },
            "type": "scattergl"
           }
          ],
          "scattermapbox": [
           {
            "marker": {
             "colorbar": {
              "outlinewidth": 0,
              "ticks": ""
             }
            },
            "type": "scattermapbox"
           }
          ],
          "scatterpolar": [
           {
            "marker": {
             "colorbar": {
              "outlinewidth": 0,
              "ticks": ""
             }
            },
            "type": "scatterpolar"
           }
          ],
          "scatterpolargl": [
           {
            "marker": {
             "colorbar": {
              "outlinewidth": 0,
              "ticks": ""
             }
            },
            "type": "scatterpolargl"
           }
          ],
          "scatterternary": [
           {
            "marker": {
             "colorbar": {
              "outlinewidth": 0,
              "ticks": ""
             }
            },
            "type": "scatterternary"
           }
          ],
          "surface": [
           {
            "colorbar": {
             "outlinewidth": 0,
             "ticks": ""
            },
            "colorscale": [
             [
              0,
              "#0d0887"
             ],
             [
              0.1111111111111111,
              "#46039f"
             ],
             [
              0.2222222222222222,
              "#7201a8"
             ],
             [
              0.3333333333333333,
              "#9c179e"
             ],
             [
              0.4444444444444444,
              "#bd3786"
             ],
             [
              0.5555555555555556,
              "#d8576b"
             ],
             [
              0.6666666666666666,
              "#ed7953"
             ],
             [
              0.7777777777777778,
              "#fb9f3a"
             ],
             [
              0.8888888888888888,
              "#fdca26"
             ],
             [
              1,
              "#f0f921"
             ]
            ],
            "type": "surface"
           }
          ],
          "table": [
           {
            "cells": {
             "fill": {
              "color": "#EBF0F8"
             },
             "line": {
              "color": "white"
             }
            },
            "header": {
             "fill": {
              "color": "#C8D4E3"
             },
             "line": {
              "color": "white"
             }
            },
            "type": "table"
           }
          ]
         },
         "layout": {
          "annotationdefaults": {
           "arrowcolor": "#2a3f5f",
           "arrowhead": 0,
           "arrowwidth": 1
          },
          "coloraxis": {
           "colorbar": {
            "outlinewidth": 0,
            "ticks": ""
           }
          },
          "colorscale": {
           "diverging": [
            [
             0,
             "#8e0152"
            ],
            [
             0.1,
             "#c51b7d"
            ],
            [
             0.2,
             "#de77ae"
            ],
            [
             0.3,
             "#f1b6da"
            ],
            [
             0.4,
             "#fde0ef"
            ],
            [
             0.5,
             "#f7f7f7"
            ],
            [
             0.6,
             "#e6f5d0"
            ],
            [
             0.7,
             "#b8e186"
            ],
            [
             0.8,
             "#7fbc41"
            ],
            [
             0.9,
             "#4d9221"
            ],
            [
             1,
             "#276419"
            ]
           ],
           "sequential": [
            [
             0,
             "#0d0887"
            ],
            [
             0.1111111111111111,
             "#46039f"
            ],
            [
             0.2222222222222222,
             "#7201a8"
            ],
            [
             0.3333333333333333,
             "#9c179e"
            ],
            [
             0.4444444444444444,
             "#bd3786"
            ],
            [
             0.5555555555555556,
             "#d8576b"
            ],
            [
             0.6666666666666666,
             "#ed7953"
            ],
            [
             0.7777777777777778,
             "#fb9f3a"
            ],
            [
             0.8888888888888888,
             "#fdca26"
            ],
            [
             1,
             "#f0f921"
            ]
           ],
           "sequentialminus": [
            [
             0,
             "#0d0887"
            ],
            [
             0.1111111111111111,
             "#46039f"
            ],
            [
             0.2222222222222222,
             "#7201a8"
            ],
            [
             0.3333333333333333,
             "#9c179e"
            ],
            [
             0.4444444444444444,
             "#bd3786"
            ],
            [
             0.5555555555555556,
             "#d8576b"
            ],
            [
             0.6666666666666666,
             "#ed7953"
            ],
            [
             0.7777777777777778,
             "#fb9f3a"
            ],
            [
             0.8888888888888888,
             "#fdca26"
            ],
            [
             1,
             "#f0f921"
            ]
           ]
          },
          "colorway": [
           "#636efa",
           "#EF553B",
           "#00cc96",
           "#ab63fa",
           "#FFA15A",
           "#19d3f3",
           "#FF6692",
           "#B6E880",
           "#FF97FF",
           "#FECB52"
          ],
          "font": {
           "color": "#2a3f5f"
          },
          "geo": {
           "bgcolor": "white",
           "lakecolor": "white",
           "landcolor": "#E5ECF6",
           "showlakes": true,
           "showland": true,
           "subunitcolor": "white"
          },
          "hoverlabel": {
           "align": "left"
          },
          "hovermode": "closest",
          "mapbox": {
           "style": "light"
          },
          "paper_bgcolor": "white",
          "plot_bgcolor": "#E5ECF6",
          "polar": {
           "angularaxis": {
            "gridcolor": "white",
            "linecolor": "white",
            "ticks": ""
           },
           "bgcolor": "#E5ECF6",
           "radialaxis": {
            "gridcolor": "white",
            "linecolor": "white",
            "ticks": ""
           }
          },
          "scene": {
           "xaxis": {
            "backgroundcolor": "#E5ECF6",
            "gridcolor": "white",
            "gridwidth": 2,
            "linecolor": "white",
            "showbackground": true,
            "ticks": "",
            "zerolinecolor": "white"
           },
           "yaxis": {
            "backgroundcolor": "#E5ECF6",
            "gridcolor": "white",
            "gridwidth": 2,
            "linecolor": "white",
            "showbackground": true,
            "ticks": "",
            "zerolinecolor": "white"
           },
           "zaxis": {
            "backgroundcolor": "#E5ECF6",
            "gridcolor": "white",
            "gridwidth": 2,
            "linecolor": "white",
            "showbackground": true,
            "ticks": "",
            "zerolinecolor": "white"
           }
          },
          "shapedefaults": {
           "line": {
            "color": "#2a3f5f"
           }
          },
          "ternary": {
           "aaxis": {
            "gridcolor": "white",
            "linecolor": "white",
            "ticks": ""
           },
           "baxis": {
            "gridcolor": "white",
            "linecolor": "white",
            "ticks": ""
           },
           "bgcolor": "#E5ECF6",
           "caxis": {
            "gridcolor": "white",
            "linecolor": "white",
            "ticks": ""
           }
          },
          "title": {
           "x": 0.05
          },
          "xaxis": {
           "automargin": true,
           "gridcolor": "white",
           "linecolor": "white",
           "ticks": "",
           "title": {
            "standoff": 15
           },
           "zerolinecolor": "white",
           "zerolinewidth": 2
          },
          "yaxis": {
           "automargin": true,
           "gridcolor": "white",
           "linecolor": "white",
           "ticks": "",
           "title": {
            "standoff": 15
           },
           "zerolinecolor": "white",
           "zerolinewidth": 2
          }
         }
        },
        "title": {
         "text": "DRP Plan"
        },
        "xaxis": {
         "rangeselector": {
          "buttons": [
           {
            "count": 7,
            "label": "1w",
            "step": "day",
            "stepmode": "backward"
           },
           {
            "count": 1,
            "label": "1m",
            "step": "month",
            "stepmode": "backward"
           },
           {
            "count": 6,
            "label": "6m",
            "step": "month",
            "stepmode": "backward"
           },
           {
            "count": 1,
            "label": "YTD",
            "step": "year",
            "stepmode": "todate"
           },
           {
            "count": 1,
            "label": "1y",
            "step": "year",
            "stepmode": "backward"
           },
           {
            "step": "all"
           }
          ]
         },
         "showgrid": true,
         "type": "date",
         "zeroline": false
        },
        "yaxis": {
         "autorange": false,
         "range": [
          -1,
          16
         ],
         "showgrid": false,
         "ticktext": [
          "PSF modelling w/Subaru",
          "Improved detectormap (< 5 km/s)",
          "Improved sky subtraction",
          "Improved detectormap (1 km/s)",
          "FRD modeling",
          "DCR",
          "SM1-AIT",
          "SM2 delivery",
          "NCU2 installation",
          "PFI installation",
          "SM3 delivery",
          "SM4 delivery",
          "Sky exposures",
          "Commissioning",
          "Science Operations"
         ],
         "tickvals": [
          0,
          1,
          2,
          3,
          4,
          5,
          6,
          7,
          8,
          9,
          10,
          11,
          12,
          13,
          14
         ],
         "zeroline": false
        }
       }
      },
      "text/html": [
       "<div>\n",
       "        \n",
       "        \n",
       "            <div id=\"d8fc2920-894c-4268-a5d8-ea268f5c5125\" class=\"plotly-graph-div\" style=\"height:600px; width:100%;\"></div>\n",
       "            <script type=\"text/javascript\">\n",
       "                require([\"plotly\"], function(Plotly) {\n",
       "                    window.PLOTLYENV=window.PLOTLYENV || {};\n",
       "                    \n",
       "                if (document.getElementById(\"d8fc2920-894c-4268-a5d8-ea268f5c5125\")) {\n",
       "                    Plotly.newPlot(\n",
       "                        'd8fc2920-894c-4268-a5d8-ea268f5c5125',\n",
       "                        [{\"fill\": \"toself\", \"fillcolor\": \"rgb(136, 121, 189)\", \"hoverinfo\": \"name\", \"legendgroup\": \"rgb(136, 121, 189)\", \"mode\": \"none\", \"name\": \" PFI\", \"showlegend\": true, \"type\": \"scatter\", \"x\": [\" 2020-12-01\", \" 2021-01-01\", \" 2021-01-01\", \" 2020-12-01\"], \"y\": [8.95, 8.95, 9.05, 9.05]}, {\"fill\": \"toself\", \"fillcolor\": \"rgb(137, 12, 251)\", \"hoverinfo\": \"name\", \"legendgroup\": \"rgb(137, 12, 251)\", \"mode\": \"none\", \"name\": \" Activity\", \"showlegend\": true, \"type\": \"scatter\", \"x\": [\" 2019-12-01\", \" 2020-06-02\", \" 2020-06-02\", \" 2019-12-01\"], \"y\": [5.95, 5.95, 6.05, 6.05]}, {\"fill\": \"toself\", \"fillcolor\": \"rgb(170, 21, 209)\", \"hoverinfo\": \"name\", \"legendgroup\": \"rgb(170, 21, 209)\", \"mode\": \"none\", \"name\": \" WavelengthCalibration\", \"showlegend\": true, \"type\": \"scatter\", \"x\": [\" 2020-06-01\", \" 2020-12-01\", \" 2020-12-01\", \" 2020-06-01\", \" 2020-06-01\", \" 2021-04-01\", \" 2021-08-01\", \" 2021-08-01\", \" 2021-04-01\"], \"y\": [0.95, 0.95, 1.05, 1.05, null, 2.95, 2.95, 3.05, 3.05]}, {\"fill\": \"toself\", \"fillcolor\": \"rgb(19, 136, 224)\", \"hoverinfo\": \"name\", \"legendgroup\": \"rgb(19, 136, 224)\", \"mode\": \"none\", \"name\": \" SMx-delivery\", \"showlegend\": true, \"type\": \"scatter\", \"x\": [\" 2020-06-01\", \" 2020-07-01\", \" 2020-07-01\", \" 2020-06-01\", \" 2020-06-01\", \" 2020-12-01\", \" 2021-01-01\", \" 2021-01-01\", \" 2020-12-01\", \" 2020-12-01\", \" 2021-06-01\", \" 2021-07-01\", \" 2021-07-01\", \" 2021-06-01\"], \"y\": [6.95, 6.95, 7.05, 7.05, null, 9.95, 9.95, 10.05, 10.05, null, 10.95, 10.95, 11.05, 11.05]}, {\"fill\": \"toself\", \"fillcolor\": \"rgb(194, 28, 149)\", \"hoverinfo\": \"name\", \"legendgroup\": \"rgb(194, 28, 149)\", \"mode\": \"none\", \"name\": \" Sky\", \"showlegend\": true, \"type\": \"scatter\", \"x\": [\" 2021-02-01\", \" 2025-01-01\", \" 2025-01-01\", \" 2021-02-01\"], \"y\": [11.95, 11.95, 12.05, 12.05]}, {\"fill\": \"toself\", \"fillcolor\": \"rgb(208, 129, 254)\", \"hoverinfo\": \"name\", \"legendgroup\": \"rgb(208, 129, 254)\", \"mode\": \"none\", \"name\": \" NIR\", \"showlegend\": true, \"type\": \"scatter\", \"x\": [\" 2020-09-01\", \" 2020-10-01\", \" 2020-10-01\", \" 2020-09-01\"], \"y\": [7.95, 7.95, 8.05, 8.05]}, {\"fill\": \"toself\", \"fillcolor\": \"rgb(26, 207, 102)\", \"hoverinfo\": \"name\", \"legendgroup\": \"rgb(26, 207, 102)\", \"mode\": \"none\", \"name\": \" 2dPsFModelling\", \"showlegend\": true, \"type\": \"scatter\", \"x\": [\" 2020-05-01\", \" 2020-8-30\", \" 2020-8-30\", \" 2020-05-01\"], \"y\": [-0.05, -0.05, 0.05, 0.05]}, {\"fill\": \"toself\", \"fillcolor\": \"rgb(44, 163, 187)\", \"hoverinfo\": \"name\", \"legendgroup\": \"rgb(44, 163, 187)\", \"mode\": \"none\", \"name\": \" Calibration\", \"showlegend\": true, \"type\": \"scatter\", \"x\": [\" 2021-02-01\", \" 2020-05-01\", \" 2020-05-01\", \" 2021-02-01\", \" 2021-02-01\", \" 2019-09-01\", \" 2021-06-01\", \" 2021-06-01\", \" 2019-09-01\", \" 2019-09-01\", \" 2021-04-01\", \" 2021-12-31\", \" 2021-12-31\", \" 2021-04-01\"], \"y\": [1.95, 1.95, 2.05, 2.05, null, 3.95, 3.95, 4.05, 4.05, null, 4.95, 4.95, 5.05, 5.05]}, {\"fill\": \"toself\", \"fillcolor\": \"rgb(55, 36, 124)\", \"hoverinfo\": \"name\", \"legendgroup\": \"rgb(55, 36, 124)\", \"mode\": \"none\", \"name\": \" Project\", \"showlegend\": true, \"type\": \"scatter\", \"x\": [\" 2021-01-01\", \" 2022-06-01\", \" 2022-06-01\", \" 2021-01-01\", \" 2021-01-01\", \" 2022-06-01\", \" 2025-01-01\", \" 2025-01-01\", \" 2022-06-01\"], \"y\": [12.95, 12.95, 13.05, 13.05, null, 13.95, 13.95, 14.05, 14.05]}, {\"legendgroup\": \"rgb(136, 121, 189)\", \"marker\": {\"color\": \"rgb(136, 121, 189)\", \"opacity\": 0, \"size\": 1}, \"mode\": \"markers\", \"name\": \"\", \"showlegend\": false, \"text\": [null, null], \"type\": \"scatter\", \"x\": [\" 2020-12-01\", \" 2021-01-01\"], \"y\": [9, 9]}, {\"legendgroup\": \"rgb(137, 12, 251)\", \"marker\": {\"color\": \"rgb(137, 12, 251)\", \"opacity\": 0, \"size\": 1}, \"mode\": \"markers\", \"name\": \"\", \"showlegend\": false, \"text\": [null, null], \"type\": \"scatter\", \"x\": [\" 2019-12-01\", \" 2020-06-02\"], \"y\": [6, 6]}, {\"legendgroup\": \"rgb(170, 21, 209)\", \"marker\": {\"color\": \"rgb(170, 21, 209)\", \"opacity\": 0, \"size\": 1}, \"mode\": \"markers\", \"name\": \"\", \"showlegend\": false, \"text\": [null, null, null, null], \"type\": \"scatter\", \"x\": [\" 2020-06-01\", \" 2020-12-01\", \" 2021-04-01\", \" 2021-08-01\"], \"y\": [1, 1, 3, 3]}, {\"legendgroup\": \"rgb(19, 136, 224)\", \"marker\": {\"color\": \"rgb(19, 136, 224)\", \"opacity\": 0, \"size\": 1}, \"mode\": \"markers\", \"name\": \"\", \"showlegend\": false, \"text\": [null, null, null, null, null, null], \"type\": \"scatter\", \"x\": [\" 2020-06-01\", \" 2020-07-01\", \" 2020-12-01\", \" 2021-01-01\", \" 2021-06-01\", \" 2021-07-01\"], \"y\": [7, 7, 10, 10, 11, 11]}, {\"legendgroup\": \"rgb(194, 28, 149)\", \"marker\": {\"color\": \"rgb(194, 28, 149)\", \"opacity\": 0, \"size\": 1}, \"mode\": \"markers\", \"name\": \"\", \"showlegend\": false, \"text\": [null, null], \"type\": \"scatter\", \"x\": [\" 2021-02-01\", \" 2025-01-01\"], \"y\": [12, 12]}, {\"legendgroup\": \"rgb(208, 129, 254)\", \"marker\": {\"color\": \"rgb(208, 129, 254)\", \"opacity\": 0, \"size\": 1}, \"mode\": \"markers\", \"name\": \"\", \"showlegend\": false, \"text\": [null, null], \"type\": \"scatter\", \"x\": [\" 2020-09-01\", \" 2020-10-01\"], \"y\": [8, 8]}, {\"legendgroup\": \"rgb(26, 207, 102)\", \"marker\": {\"color\": \"rgb(26, 207, 102)\", \"opacity\": 0, \"size\": 1}, \"mode\": \"markers\", \"name\": \"\", \"showlegend\": false, \"text\": [null, null], \"type\": \"scatter\", \"x\": [\" 2020-05-01\", \" 2020-8-30\"], \"y\": [0, 0]}, {\"legendgroup\": \"rgb(44, 163, 187)\", \"marker\": {\"color\": \"rgb(44, 163, 187)\", \"opacity\": 0, \"size\": 1}, \"mode\": \"markers\", \"name\": \"\", \"showlegend\": false, \"text\": [null, null, null, null, null, null], \"type\": \"scatter\", \"x\": [\" 2021-02-01\", \" 2020-05-01\", \" 2019-09-01\", \" 2021-06-01\", \" 2021-04-01\", \" 2021-12-31\"], \"y\": [2, 2, 4, 4, 5, 5]}, {\"legendgroup\": \"rgb(55, 36, 124)\", \"marker\": {\"color\": \"rgb(55, 36, 124)\", \"opacity\": 0, \"size\": 1}, \"mode\": \"markers\", \"name\": \"\", \"showlegend\": false, \"text\": [null, null, null, null], \"type\": \"scatter\", \"x\": [\" 2021-01-01\", \" 2022-06-01\", \" 2022-06-01\", \" 2025-01-01\"], \"y\": [13, 13, 14, 14]}],\n",
       "                        {\"height\": 600, \"hovermode\": \"closest\", \"plot_bgcolor\": \"rgb(200,200,200)\", \"showlegend\": true, \"template\": {\"data\": {\"bar\": [{\"error_x\": {\"color\": \"#2a3f5f\"}, \"error_y\": {\"color\": \"#2a3f5f\"}, \"marker\": {\"line\": {\"color\": \"#E5ECF6\", \"width\": 0.5}}, \"type\": \"bar\"}], \"barpolar\": [{\"marker\": {\"line\": {\"color\": \"#E5ECF6\", \"width\": 0.5}}, \"type\": \"barpolar\"}], \"carpet\": [{\"aaxis\": {\"endlinecolor\": \"#2a3f5f\", \"gridcolor\": \"white\", \"linecolor\": \"white\", \"minorgridcolor\": \"white\", \"startlinecolor\": \"#2a3f5f\"}, \"baxis\": {\"endlinecolor\": \"#2a3f5f\", \"gridcolor\": \"white\", \"linecolor\": \"white\", \"minorgridcolor\": \"white\", \"startlinecolor\": \"#2a3f5f\"}, \"type\": \"carpet\"}], \"choropleth\": [{\"colorbar\": {\"outlinewidth\": 0, \"ticks\": \"\"}, \"type\": \"choropleth\"}], \"contour\": [{\"colorbar\": {\"outlinewidth\": 0, \"ticks\": \"\"}, \"colorscale\": [[0.0, \"#0d0887\"], [0.1111111111111111, \"#46039f\"], [0.2222222222222222, \"#7201a8\"], [0.3333333333333333, \"#9c179e\"], [0.4444444444444444, \"#bd3786\"], [0.5555555555555556, \"#d8576b\"], [0.6666666666666666, \"#ed7953\"], [0.7777777777777778, \"#fb9f3a\"], [0.8888888888888888, \"#fdca26\"], [1.0, \"#f0f921\"]], \"type\": \"contour\"}], \"contourcarpet\": [{\"colorbar\": {\"outlinewidth\": 0, \"ticks\": \"\"}, \"type\": \"contourcarpet\"}], \"heatmap\": [{\"colorbar\": {\"outlinewidth\": 0, \"ticks\": \"\"}, \"colorscale\": [[0.0, \"#0d0887\"], [0.1111111111111111, \"#46039f\"], [0.2222222222222222, \"#7201a8\"], [0.3333333333333333, \"#9c179e\"], [0.4444444444444444, \"#bd3786\"], [0.5555555555555556, \"#d8576b\"], [0.6666666666666666, \"#ed7953\"], [0.7777777777777778, \"#fb9f3a\"], [0.8888888888888888, \"#fdca26\"], [1.0, \"#f0f921\"]], \"type\": \"heatmap\"}], \"heatmapgl\": [{\"colorbar\": {\"outlinewidth\": 0, \"ticks\": \"\"}, \"colorscale\": [[0.0, \"#0d0887\"], [0.1111111111111111, \"#46039f\"], [0.2222222222222222, \"#7201a8\"], [0.3333333333333333, \"#9c179e\"], [0.4444444444444444, \"#bd3786\"], [0.5555555555555556, \"#d8576b\"], [0.6666666666666666, \"#ed7953\"], [0.7777777777777778, \"#fb9f3a\"], [0.8888888888888888, \"#fdca26\"], [1.0, \"#f0f921\"]], \"type\": \"heatmapgl\"}], \"histogram\": [{\"marker\": {\"colorbar\": {\"outlinewidth\": 0, \"ticks\": \"\"}}, \"type\": \"histogram\"}], \"histogram2d\": [{\"colorbar\": {\"outlinewidth\": 0, \"ticks\": \"\"}, \"colorscale\": [[0.0, \"#0d0887\"], [0.1111111111111111, \"#46039f\"], [0.2222222222222222, \"#7201a8\"], [0.3333333333333333, \"#9c179e\"], [0.4444444444444444, \"#bd3786\"], [0.5555555555555556, \"#d8576b\"], [0.6666666666666666, \"#ed7953\"], [0.7777777777777778, \"#fb9f3a\"], [0.8888888888888888, \"#fdca26\"], [1.0, \"#f0f921\"]], \"type\": \"histogram2d\"}], \"histogram2dcontour\": [{\"colorbar\": {\"outlinewidth\": 0, \"ticks\": \"\"}, \"colorscale\": [[0.0, \"#0d0887\"], [0.1111111111111111, \"#46039f\"], [0.2222222222222222, \"#7201a8\"], [0.3333333333333333, \"#9c179e\"], [0.4444444444444444, \"#bd3786\"], [0.5555555555555556, \"#d8576b\"], [0.6666666666666666, \"#ed7953\"], [0.7777777777777778, \"#fb9f3a\"], [0.8888888888888888, \"#fdca26\"], [1.0, \"#f0f921\"]], \"type\": \"histogram2dcontour\"}], \"mesh3d\": [{\"colorbar\": {\"outlinewidth\": 0, \"ticks\": \"\"}, \"type\": \"mesh3d\"}], \"parcoords\": [{\"line\": {\"colorbar\": {\"outlinewidth\": 0, \"ticks\": \"\"}}, \"type\": \"parcoords\"}], \"pie\": [{\"automargin\": true, \"type\": \"pie\"}], \"scatter\": [{\"marker\": {\"colorbar\": {\"outlinewidth\": 0, \"ticks\": \"\"}}, \"type\": \"scatter\"}], \"scatter3d\": [{\"line\": {\"colorbar\": {\"outlinewidth\": 0, \"ticks\": \"\"}}, \"marker\": {\"colorbar\": {\"outlinewidth\": 0, \"ticks\": \"\"}}, \"type\": \"scatter3d\"}], \"scattercarpet\": [{\"marker\": {\"colorbar\": {\"outlinewidth\": 0, \"ticks\": \"\"}}, \"type\": \"scattercarpet\"}], \"scattergeo\": [{\"marker\": {\"colorbar\": {\"outlinewidth\": 0, \"ticks\": \"\"}}, \"type\": \"scattergeo\"}], \"scattergl\": [{\"marker\": {\"colorbar\": {\"outlinewidth\": 0, \"ticks\": \"\"}}, \"type\": \"scattergl\"}], \"scattermapbox\": [{\"marker\": {\"colorbar\": {\"outlinewidth\": 0, \"ticks\": \"\"}}, \"type\": \"scattermapbox\"}], \"scatterpolar\": [{\"marker\": {\"colorbar\": {\"outlinewidth\": 0, \"ticks\": \"\"}}, \"type\": \"scatterpolar\"}], \"scatterpolargl\": [{\"marker\": {\"colorbar\": {\"outlinewidth\": 0, \"ticks\": \"\"}}, \"type\": \"scatterpolargl\"}], \"scatterternary\": [{\"marker\": {\"colorbar\": {\"outlinewidth\": 0, \"ticks\": \"\"}}, \"type\": \"scatterternary\"}], \"surface\": [{\"colorbar\": {\"outlinewidth\": 0, \"ticks\": \"\"}, \"colorscale\": [[0.0, \"#0d0887\"], [0.1111111111111111, \"#46039f\"], [0.2222222222222222, \"#7201a8\"], [0.3333333333333333, \"#9c179e\"], [0.4444444444444444, \"#bd3786\"], [0.5555555555555556, \"#d8576b\"], [0.6666666666666666, \"#ed7953\"], [0.7777777777777778, \"#fb9f3a\"], [0.8888888888888888, \"#fdca26\"], [1.0, \"#f0f921\"]], \"type\": \"surface\"}], \"table\": [{\"cells\": {\"fill\": {\"color\": \"#EBF0F8\"}, \"line\": {\"color\": \"white\"}}, \"header\": {\"fill\": {\"color\": \"#C8D4E3\"}, \"line\": {\"color\": \"white\"}}, \"type\": \"table\"}]}, \"layout\": {\"annotationdefaults\": {\"arrowcolor\": \"#2a3f5f\", \"arrowhead\": 0, \"arrowwidth\": 1}, \"coloraxis\": {\"colorbar\": {\"outlinewidth\": 0, \"ticks\": \"\"}}, \"colorscale\": {\"diverging\": [[0, \"#8e0152\"], [0.1, \"#c51b7d\"], [0.2, \"#de77ae\"], [0.3, \"#f1b6da\"], [0.4, \"#fde0ef\"], [0.5, \"#f7f7f7\"], [0.6, \"#e6f5d0\"], [0.7, \"#b8e186\"], [0.8, \"#7fbc41\"], [0.9, \"#4d9221\"], [1, \"#276419\"]], \"sequential\": [[0.0, \"#0d0887\"], [0.1111111111111111, \"#46039f\"], [0.2222222222222222, \"#7201a8\"], [0.3333333333333333, \"#9c179e\"], [0.4444444444444444, \"#bd3786\"], [0.5555555555555556, \"#d8576b\"], [0.6666666666666666, \"#ed7953\"], [0.7777777777777778, \"#fb9f3a\"], [0.8888888888888888, \"#fdca26\"], [1.0, \"#f0f921\"]], \"sequentialminus\": [[0.0, \"#0d0887\"], [0.1111111111111111, \"#46039f\"], [0.2222222222222222, \"#7201a8\"], [0.3333333333333333, \"#9c179e\"], [0.4444444444444444, \"#bd3786\"], [0.5555555555555556, \"#d8576b\"], [0.6666666666666666, \"#ed7953\"], [0.7777777777777778, \"#fb9f3a\"], [0.8888888888888888, \"#fdca26\"], [1.0, \"#f0f921\"]]}, \"colorway\": [\"#636efa\", \"#EF553B\", \"#00cc96\", \"#ab63fa\", \"#FFA15A\", \"#19d3f3\", \"#FF6692\", \"#B6E880\", \"#FF97FF\", \"#FECB52\"], \"font\": {\"color\": \"#2a3f5f\"}, \"geo\": {\"bgcolor\": \"white\", \"lakecolor\": \"white\", \"landcolor\": \"#E5ECF6\", \"showlakes\": true, \"showland\": true, \"subunitcolor\": \"white\"}, \"hoverlabel\": {\"align\": \"left\"}, \"hovermode\": \"closest\", \"mapbox\": {\"style\": \"light\"}, \"paper_bgcolor\": \"white\", \"plot_bgcolor\": \"#E5ECF6\", \"polar\": {\"angularaxis\": {\"gridcolor\": \"white\", \"linecolor\": \"white\", \"ticks\": \"\"}, \"bgcolor\": \"#E5ECF6\", \"radialaxis\": {\"gridcolor\": \"white\", \"linecolor\": \"white\", \"ticks\": \"\"}}, \"scene\": {\"xaxis\": {\"backgroundcolor\": \"#E5ECF6\", \"gridcolor\": \"white\", \"gridwidth\": 2, \"linecolor\": \"white\", \"showbackground\": true, \"ticks\": \"\", \"zerolinecolor\": \"white\"}, \"yaxis\": {\"backgroundcolor\": \"#E5ECF6\", \"gridcolor\": \"white\", \"gridwidth\": 2, \"linecolor\": \"white\", \"showbackground\": true, \"ticks\": \"\", \"zerolinecolor\": \"white\"}, \"zaxis\": {\"backgroundcolor\": \"#E5ECF6\", \"gridcolor\": \"white\", \"gridwidth\": 2, \"linecolor\": \"white\", \"showbackground\": true, \"ticks\": \"\", \"zerolinecolor\": \"white\"}}, \"shapedefaults\": {\"line\": {\"color\": \"#2a3f5f\"}}, \"ternary\": {\"aaxis\": {\"gridcolor\": \"white\", \"linecolor\": \"white\", \"ticks\": \"\"}, \"baxis\": {\"gridcolor\": \"white\", \"linecolor\": \"white\", \"ticks\": \"\"}, \"bgcolor\": \"#E5ECF6\", \"caxis\": {\"gridcolor\": \"white\", \"linecolor\": \"white\", \"ticks\": \"\"}}, \"title\": {\"x\": 0.05}, \"xaxis\": {\"automargin\": true, \"gridcolor\": \"white\", \"linecolor\": \"white\", \"ticks\": \"\", \"title\": {\"standoff\": 15}, \"zerolinecolor\": \"white\", \"zerolinewidth\": 2}, \"yaxis\": {\"automargin\": true, \"gridcolor\": \"white\", \"linecolor\": \"white\", \"ticks\": \"\", \"title\": {\"standoff\": 15}, \"zerolinecolor\": \"white\", \"zerolinewidth\": 2}}}, \"title\": {\"text\": \"DRP Plan\"}, \"xaxis\": {\"rangeselector\": {\"buttons\": [{\"count\": 7, \"label\": \"1w\", \"step\": \"day\", \"stepmode\": \"backward\"}, {\"count\": 1, \"label\": \"1m\", \"step\": \"month\", \"stepmode\": \"backward\"}, {\"count\": 6, \"label\": \"6m\", \"step\": \"month\", \"stepmode\": \"backward\"}, {\"count\": 1, \"label\": \"YTD\", \"step\": \"year\", \"stepmode\": \"todate\"}, {\"count\": 1, \"label\": \"1y\", \"step\": \"year\", \"stepmode\": \"backward\"}, {\"step\": \"all\"}]}, \"showgrid\": true, \"type\": \"date\", \"zeroline\": false}, \"yaxis\": {\"autorange\": false, \"range\": [-1, 16], \"showgrid\": false, \"ticktext\": [\"PSF modelling w/Subaru\", \"Improved detectormap (< 5 km/s)\", \"Improved sky subtraction\", \"Improved detectormap (1 km/s)\", \"FRD modeling\", \"DCR\", \"SM1-AIT\", \"SM2 delivery\", \"NCU2 installation\", \"PFI installation\", \"SM3 delivery\", \"SM4 delivery\", \"Sky exposures\", \"Commissioning\", \"Science Operations\"], \"tickvals\": [0, 1, 2, 3, 4, 5, 6, 7, 8, 9, 10, 11, 12, 13, 14], \"zeroline\": false}},\n",
       "                        {\"responsive\": true}\n",
       "                    ).then(function(){\n",
       "                            \n",
       "var gd = document.getElementById('d8fc2920-894c-4268-a5d8-ea268f5c5125');\n",
       "var x = new MutationObserver(function (mutations, observer) {{\n",
       "        var display = window.getComputedStyle(gd).display;\n",
       "        if (!display || display === 'none') {{\n",
       "            console.log([gd, 'removed!']);\n",
       "            Plotly.purge(gd);\n",
       "            observer.disconnect();\n",
       "        }}\n",
       "}});\n",
       "\n",
       "// Listen for the removal of the full notebook cells\n",
       "var notebookContainer = gd.closest('#notebook-container');\n",
       "if (notebookContainer) {{\n",
       "    x.observe(notebookContainer, {childList: true});\n",
       "}}\n",
       "\n",
       "// Listen for the clearing of the current output cell\n",
       "var outputEl = gd.closest('.output');\n",
       "if (outputEl) {{\n",
       "    x.observe(outputEl, {childList: true});\n",
       "}}\n",
       "\n",
       "                        })\n",
       "                };\n",
       "                });\n",
       "            </script>\n",
       "        </div>"
      ]
     },
     "metadata": {},
     "output_type": "display_data"
    }
   ],
   "source": [
    "import plotly.figure_factory as ff\n",
    "import pandas as pd\n",
    "import random\n",
    "\n",
    "df = pd.read_csv('drp-plan.csv')\n",
    "\n",
    "random.seed(123)\n",
    "numUniqueCategories = len(df.Category.unique())\n",
    "catColors = [\"#%06x\" % random.randint(0, 0xFFFFFF) for i in range(numUniqueCategories)] \n",
    "\n",
    "fig = ff.create_gantt(df, colors=catColors, index_col='Category',\n",
    "                      show_colorbar=True, bar_width=0.05, showgrid_x=True, showgrid_y=False, title=\"DRP Plan\")\n",
    "fig.update_layout(plot_bgcolor='rgb(200,200,200)')\n",
    "fig.show()"
   ]
  },
  {
   "cell_type": "code",
   "execution_count": null,
   "metadata": {},
   "outputs": [],
   "source": []
  }
 ],
 "metadata": {
  "kernelspec": {
   "display_name": "Python 3",
   "language": "python",
   "name": "python3"
  },
  "language_info": {
   "codemirror_mode": {
    "name": "ipython",
    "version": 3
   },
   "file_extension": ".py",
   "mimetype": "text/x-python",
   "name": "python",
   "nbconvert_exporter": "python",
   "pygments_lexer": "ipython3",
   "version": "3.7.2"
  }
 },
 "nbformat": 4,
 "nbformat_minor": 2
}
